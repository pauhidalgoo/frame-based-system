{
 "cells": [
  {
   "cell_type": "code",
   "execution_count": 1,
   "metadata": {},
   "outputs": [],
   "source": [
    "from intent_recognition import *\n",
    "from recurrent_models import *"
   ]
  },
  {
   "cell_type": "code",
   "execution_count": null,
   "metadata": {},
   "outputs": [],
   "source": [
    "embedding_sizes = [512]\n",
    "vocab_size = [500]\n",
    "\n",
    "class_weights = [True]\n",
    "\n",
    "for emb_size in embedding_sizes:\n",
    "    for voc_size in vocab_size:\n",
    "        for clss_w in class_weights:\n",
    "            train_config = { 'use_class_weights':clss_w}\n",
    "            hyperparams = {'vocab_size': voc_size, 'embedding_dim': emb_size, 'epochs': 20, 'batch_size': 32}\n",
    "            for name in model_types:\n",
    "                model = create_model(name)\n",
    "                basic = IntentRecognition(model, hyperparams, training_times=5, train_config=train_config, verbosing=0, name=name)\n",
    "                basic.train_model()\n",
    "                basic.print_training_information()"
   ]
  }
 ],
 "metadata": {
  "kernelspec": {
   "display_name": "Python 3",
   "language": "python",
   "name": "python3"
  },
  "language_info": {
   "codemirror_mode": {
    "name": "ipython",
    "version": 3
   },
   "file_extension": ".py",
   "mimetype": "text/x-python",
   "name": "python",
   "nbconvert_exporter": "python",
   "pygments_lexer": "ipython3",
   "version": "3.11.9"
  }
 },
 "nbformat": 4,
 "nbformat_minor": 2
}
