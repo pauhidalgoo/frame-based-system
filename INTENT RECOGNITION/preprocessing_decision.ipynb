{
 "cells": [
  {
   "cell_type": "code",
   "execution_count": 1,
   "metadata": {},
   "outputs": [],
   "source": [
    "from intent_recognition import *"
   ]
  },
  {
   "cell_type": "code",
   "execution_count": 2,
   "metadata": {},
   "outputs": [
    {
     "name": "stdout",
     "output_type": "stream",
     "text": [
      "Number of classes in training data: 22\n",
      "Training model 1/1Epoch 1/5\n",
      "\u001b[1m128/128\u001b[0m \u001b[32m━━━━━━━━━━━━━━━━━━━━\u001b[0m\u001b[37m\u001b[0m \u001b[1m1s\u001b[0m 4ms/step - accuracy: 0.5049 - f1_score: 0.0516 - loss: 3.1292 - val_accuracy: 0.1244 - val_f1_score: 0.1421 - val_loss: 2.9379\n",
      "Epoch 2/5\n",
      "\u001b[1m128/128\u001b[0m \u001b[32m━━━━━━━━━━━━━━━━━━━━\u001b[0m\u001b[37m\u001b[0m \u001b[1m1s\u001b[0m 4ms/step - accuracy: 0.2599 - f1_score: 0.1916 - loss: 2.9142 - val_accuracy: 0.1811 - val_f1_score: 0.2313 - val_loss: 2.6495\n",
      "Epoch 3/5\n",
      "\u001b[1m128/128\u001b[0m \u001b[32m━━━━━━━━━━━━━━━━━━━━\u001b[0m\u001b[37m\u001b[0m \u001b[1m1s\u001b[0m 4ms/step - accuracy: 0.4144 - f1_score: 0.3297 - loss: 2.5143 - val_accuracy: 0.6744 - val_f1_score: 0.3640 - val_loss: 1.9901\n",
      "Epoch 4/5\n",
      "\u001b[1m128/128\u001b[0m \u001b[32m━━━━━━━━━━━━━━━━━━━━\u001b[0m\u001b[37m\u001b[0m \u001b[1m1s\u001b[0m 4ms/step - accuracy: 0.8003 - f1_score: 0.4546 - loss: 1.9118 - val_accuracy: 0.7211 - val_f1_score: 0.4708 - val_loss: 1.3678\n",
      "Epoch 5/5\n",
      "\u001b[1m128/128\u001b[0m \u001b[32m━━━━━━━━━━━━━━━━━━━━\u001b[0m\u001b[37m\u001b[0m \u001b[1m1s\u001b[0m 4ms/step - accuracy: 0.8348 - f1_score: 0.4794 - loss: 1.3093 - val_accuracy: 0.8933 - val_f1_score: 0.5414 - val_loss: 0.6745\n",
      "\n",
      "\n",
      "Average Training Accuracy: 0.8764100074768066\n",
      "Average Training F1: 0.5135329365730286\n",
      "Average Training Loss: 1.2314811944961548\n",
      "Average Validation Accuracy: 0.8933333158493042\n",
      "Average Validation F1: 0.5414161086082458\n",
      "Average Validation Loss: 0.6745003461837769\n",
      "Best Model Validation Accuracy: 0.8933333158493042\n",
      "Best Model Validation F1: 0.5414161086082458\n",
      "\n",
      "Evaluating model...\n",
      "\u001b[1m28/28\u001b[0m \u001b[32m━━━━━━━━━━━━━━━━━━━━\u001b[0m\u001b[37m\u001b[0m \u001b[1m0s\u001b[0m 910us/step - accuracy: 0.9056 - f1_score: 0.4120 - loss: 0.5629\n",
      "Test accuracy: 0.897522509098053\n",
      "Test Macro F1: 0.49854937195777893\n"
     ]
    }
   ],
   "source": [
    "# EXERCICI 4 BÀSIC\n",
    "tf.keras.utils.set_random_seed(42)\n",
    "hyperparams = {'vocab_size': 500, 'embedding_dim': 1024, 'epochs': 5, 'batch_size': 32}\n",
    "\n",
    "train_config = {'use_class_weights': True}\n",
    "\n",
    "\n",
    "model = Sequential()\n",
    "model.add(GlobalMaxPooling1D())\n",
    "model.add(Dense(64, activation=\"relu\"))\n",
    "basic = IntentRecognition(model, hyperparams, train_config=train_config, training_times=1, verbosing=1, name=\"testing\", save_results=False)\n",
    "basic.train_model()\n",
    "basic.print_training_information()\n",
    "basic.evaluate_model()\n",
    "#basic.view_wrong_predictions()"
   ]
  }
 ],
 "metadata": {
  "kernelspec": {
   "display_name": ".venv",
   "language": "python",
   "name": "python3"
  },
  "language_info": {
   "codemirror_mode": {
    "name": "ipython",
    "version": 3
   },
   "file_extension": ".py",
   "mimetype": "text/x-python",
   "name": "python",
   "nbconvert_exporter": "python",
   "pygments_lexer": "ipython3",
   "version": "3.10.6"
  }
 },
 "nbformat": 4,
 "nbformat_minor": 2
}
