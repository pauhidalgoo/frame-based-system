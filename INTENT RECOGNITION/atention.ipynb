{
 "cells": [
  {
   "cell_type": "markdown",
   "metadata": {},
   "source": [
    "# ATTENTION"
   ]
  },
  {
   "cell_type": "code",
   "execution_count": 1,
   "metadata": {},
   "outputs": [],
   "source": [
    "import random\n",
    "import pandas as pd\n",
    "import numpy as np\n",
    "import tensorflow as tf\n",
    "from keras.utils import to_categorical\n",
    "from keras.models import Sequential\n",
    "from keras.layers import Embedding, LSTM, Dense, GlobalMaxPooling1D, Dropout, Conv1D, GlobalAveragePooling1D, LayerNormalization #Remove\n",
    "from sklearn.preprocessing import LabelEncoder\n",
    "from tensorflow.keras.preprocessing.text import Tokenizer\n",
    "from tensorflow.keras.preprocessing.sequence import pad_sequences\n",
    "from keras.layers import Embedding, LSTM, Dense, GlobalMaxPooling1D, Dropout, Conv1D, GlobalAveragePooling1D, LayerNormalization, MultiHeadAttention, Input, Flatten, Add, TimeDistributed, Concatenate\n",
    "from keras.models import Model\n",
    "from tensorflow.keras.regularizers import l2\n",
    "from keras.optimizers import AdamW"
   ]
  },
  {
   "cell_type": "code",
   "execution_count": 3,
   "metadata": {},
   "outputs": [],
   "source": [
    "from intent_recognition import *"
   ]
  },
  {
   "cell_type": "code",
   "execution_count": 8,
   "metadata": {},
   "outputs": [],
   "source": [
    "hyperparams = {'vocab_size': 500, 'embedding_dim': 1024, 'epochs': 15, 'batch_size': 32}\n",
    "train_config = {'use_class_weights': True}\n",
    "temp_model = Sequential()\n",
    "temp_model = IntentRecognition(model=temp_model, hyperparams=hyperparams, train_config=train_config)\n",
    "train_pad_sequences = temp_model.train_pad_sequences\n",
    "test_pad_sequences = temp_model.test_pad_sequences\n",
    "val_pad_sequences = temp_model.val_pad_sequences\n",
    "train_encoded_labels = temp_model.train_encoded_labels\n",
    "test_encoded_labels = temp_model.test_encoded_labels\n",
    "val_encoded_labels = temp_model.val_encoded_labels"
   ]
  },
  {
   "cell_type": "code",
   "execution_count": 11,
   "metadata": {},
   "outputs": [
    {
     "name": "stdout",
     "output_type": "stream",
     "text": [
      "Epoch 1/20\n",
      "\u001b[1m255/255\u001b[0m \u001b[32m━━━━━━━━━━━━━━━━━━━━\u001b[0m\u001b[37m\u001b[0m \u001b[1m3s\u001b[0m 10ms/step - accuracy: 0.7910 - f1_score: 0.1494 - loss: 0.8987 - val_accuracy: 0.9333 - val_f1_score: 0.3352 - val_loss: 0.2474\n",
      "Epoch 2/20\n",
      "\u001b[1m255/255\u001b[0m \u001b[32m━━━━━━━━━━━━━━━━━━━━\u001b[0m\u001b[37m\u001b[0m \u001b[1m3s\u001b[0m 11ms/step - accuracy: 0.9718 - f1_score: 0.4808 - loss: 0.1143 - val_accuracy: 0.9656 - val_f1_score: 0.5836 - val_loss: 0.1664\n",
      "Epoch 3/20\n",
      "\u001b[1m255/255\u001b[0m \u001b[32m━━━━━━━━━━━━━━━━━━━━\u001b[0m\u001b[37m\u001b[0m \u001b[1m2s\u001b[0m 9ms/step - accuracy: 0.9911 - f1_score: 0.6277 - loss: 0.0471 - val_accuracy: 0.9667 - val_f1_score: 0.6261 - val_loss: 0.1562\n",
      "Epoch 4/20\n",
      "\u001b[1m255/255\u001b[0m \u001b[32m━━━━━━━━━━━━━━━━━━━━\u001b[0m\u001b[37m\u001b[0m \u001b[1m2s\u001b[0m 9ms/step - accuracy: 0.9964 - f1_score: 0.7247 - loss: 0.0182 - val_accuracy: 0.9678 - val_f1_score: 0.6155 - val_loss: 0.1316\n",
      "Epoch 5/20\n",
      "\u001b[1m255/255\u001b[0m \u001b[32m━━━━━━━━━━━━━━━━━━━━\u001b[0m\u001b[37m\u001b[0m \u001b[1m2s\u001b[0m 9ms/step - accuracy: 0.9989 - f1_score: 0.8497 - loss: 0.0098 - val_accuracy: 0.9711 - val_f1_score: 0.6228 - val_loss: 0.1278\n",
      "Epoch 6/20\n",
      "\u001b[1m255/255\u001b[0m \u001b[32m━━━━━━━━━━━━━━━━━━━━\u001b[0m\u001b[37m\u001b[0m \u001b[1m2s\u001b[0m 9ms/step - accuracy: 0.9990 - f1_score: 0.8375 - loss: 0.0044 - val_accuracy: 0.9689 - val_f1_score: 0.6050 - val_loss: 0.1364\n",
      "Epoch 7/20\n",
      "\u001b[1m255/255\u001b[0m \u001b[32m━━━━━━━━━━━━━━━━━━━━\u001b[0m\u001b[37m\u001b[0m \u001b[1m2s\u001b[0m 9ms/step - accuracy: 0.9998 - f1_score: 0.8599 - loss: 0.0022 - val_accuracy: 0.9678 - val_f1_score: 0.6380 - val_loss: 0.1403\n",
      "Epoch 8/20\n",
      "\u001b[1m255/255\u001b[0m \u001b[32m━━━━━━━━━━━━━━━━━━━━\u001b[0m\u001b[37m\u001b[0m \u001b[1m2s\u001b[0m 9ms/step - accuracy: 0.9991 - f1_score: 0.7637 - loss: 0.0047 - val_accuracy: 0.9667 - val_f1_score: 0.6453 - val_loss: 0.1611\n",
      "Epoch 9/20\n",
      "\u001b[1m255/255\u001b[0m \u001b[32m━━━━━━━━━━━━━━━━━━━━\u001b[0m\u001b[37m\u001b[0m \u001b[1m2s\u001b[0m 9ms/step - accuracy: 1.0000 - f1_score: 0.8770 - loss: 0.0021 - val_accuracy: 0.9722 - val_f1_score: 0.6496 - val_loss: 0.1438\n",
      "Epoch 10/20\n",
      "\u001b[1m255/255\u001b[0m \u001b[32m━━━━━━━━━━━━━━━━━━━━\u001b[0m\u001b[37m\u001b[0m \u001b[1m2s\u001b[0m 9ms/step - accuracy: 1.0000 - f1_score: 0.8404 - loss: 4.8423e-04 - val_accuracy: 0.9733 - val_f1_score: 0.6585 - val_loss: 0.1422\n",
      "Epoch 11/20\n",
      "\u001b[1m255/255\u001b[0m \u001b[32m━━━━━━━━━━━━━━━━━━━━\u001b[0m\u001b[37m\u001b[0m \u001b[1m3s\u001b[0m 10ms/step - accuracy: 1.0000 - f1_score: 0.8379 - loss: 4.0285e-04 - val_accuracy: 0.9733 - val_f1_score: 0.6585 - val_loss: 0.1469\n",
      "Epoch 12/20\n",
      "\u001b[1m255/255\u001b[0m \u001b[32m━━━━━━━━━━━━━━━━━━━━\u001b[0m\u001b[37m\u001b[0m \u001b[1m3s\u001b[0m 10ms/step - accuracy: 1.0000 - f1_score: 0.8755 - loss: 3.4063e-04 - val_accuracy: 0.9722 - val_f1_score: 0.6433 - val_loss: 0.1452\n",
      "Epoch 13/20\n",
      "\u001b[1m255/255\u001b[0m \u001b[32m━━━━━━━━━━━━━━━━━━━━\u001b[0m\u001b[37m\u001b[0m \u001b[1m2s\u001b[0m 9ms/step - accuracy: 1.0000 - f1_score: 0.8100 - loss: 2.3326e-04 - val_accuracy: 0.9722 - val_f1_score: 0.6433 - val_loss: 0.1473\n",
      "Epoch 14/20\n",
      "\u001b[1m255/255\u001b[0m \u001b[32m━━━━━━━━━━━━━━━━━━━━\u001b[0m\u001b[37m\u001b[0m \u001b[1m2s\u001b[0m 9ms/step - accuracy: 1.0000 - f1_score: 0.8494 - loss: 2.0936e-04 - val_accuracy: 0.9722 - val_f1_score: 0.6433 - val_loss: 0.1516\n",
      "Epoch 15/20\n",
      "\u001b[1m255/255\u001b[0m \u001b[32m━━━━━━━━━━━━━━━━━━━━\u001b[0m\u001b[37m\u001b[0m \u001b[1m2s\u001b[0m 9ms/step - accuracy: 1.0000 - f1_score: 0.8627 - loss: 1.8208e-04 - val_accuracy: 0.9733 - val_f1_score: 0.6585 - val_loss: 0.1547\n",
      "Epoch 16/20\n",
      "\u001b[1m255/255\u001b[0m \u001b[32m━━━━━━━━━━━━━━━━━━━━\u001b[0m\u001b[37m\u001b[0m \u001b[1m2s\u001b[0m 9ms/step - accuracy: 1.0000 - f1_score: 0.8826 - loss: 1.5245e-04 - val_accuracy: 0.9722 - val_f1_score: 0.6433 - val_loss: 0.1561\n",
      "Epoch 17/20\n",
      "\u001b[1m255/255\u001b[0m \u001b[32m━━━━━━━━━━━━━━━━━━━━\u001b[0m\u001b[37m\u001b[0m \u001b[1m2s\u001b[0m 9ms/step - accuracy: 1.0000 - f1_score: 0.8910 - loss: 1.2686e-04 - val_accuracy: 0.9733 - val_f1_score: 0.6585 - val_loss: 0.1579\n",
      "Epoch 18/20\n",
      "\u001b[1m255/255\u001b[0m \u001b[32m━━━━━━━━━━━━━━━━━━━━\u001b[0m\u001b[37m\u001b[0m \u001b[1m2s\u001b[0m 9ms/step - accuracy: 1.0000 - f1_score: 0.8335 - loss: 1.0344e-04 - val_accuracy: 0.9722 - val_f1_score: 0.6433 - val_loss: 0.1602\n",
      "Epoch 19/20\n",
      "\u001b[1m255/255\u001b[0m \u001b[32m━━━━━━━━━━━━━━━━━━━━\u001b[0m\u001b[37m\u001b[0m \u001b[1m2s\u001b[0m 10ms/step - accuracy: 1.0000 - f1_score: 0.7956 - loss: 8.4080e-05 - val_accuracy: 0.9722 - val_f1_score: 0.6433 - val_loss: 0.1604\n",
      "Epoch 20/20\n",
      "\u001b[1m255/255\u001b[0m \u001b[32m━━━━━━━━━━━━━━━━━━━━\u001b[0m\u001b[37m\u001b[0m \u001b[1m2s\u001b[0m 9ms/step - accuracy: 1.0000 - f1_score: 0.9062 - loss: 7.7104e-05 - val_accuracy: 0.9722 - val_f1_score: 0.6433 - val_loss: 0.1653\n",
      "\u001b[1m56/56\u001b[0m \u001b[32m━━━━━━━━━━━━━━━━━━━━\u001b[0m\u001b[37m\u001b[0m \u001b[1m0s\u001b[0m 3ms/step - accuracy: 0.9579 - f1_score: 0.4306 - loss: 0.2154\n",
      "Test accuracy: 0.9583\n"
     ]
    }
   ],
   "source": [
    "#TODO\n",
    "vocab_size = 500 + 1\n",
    "key_dim = 32\n",
    "embedding_dim = 1024\n",
    "block_size = 45\n",
    "l2_lambda = 0\n",
    "attention_blocks = 2\n",
    "\n",
    "inputs = Input(shape=(block_size,))\n",
    "embedding = Embedding(input_dim=vocab_size, output_dim=embedding_dim)(inputs)\n",
    "positions = Embedding(input_dim=block_size, output_dim=embedding_dim)(tf.range(start=0, limit=block_size))\n",
    "positions = tf.expand_dims(positions, axis=0)\n",
    "x = Add()([embedding, positions])\n",
    "\n",
    "\n",
    "x = Conv1D(128, 2)(x)\n",
    "\n",
    "x = GlobalMaxPooling1D()(x)\n",
    "\n",
    "output = Dense(64)(x)\n",
    "output = Dense(22, activation='softmax')(x)  # Output layer for classification (22 classes)\n",
    "\n",
    "# Define the model\n",
    "model = Model(inputs=inputs, outputs=output)\n",
    "\n",
    "# Compile the model\n",
    "model.compile(loss='categorical_crossentropy', optimizer='adam', metrics=['accuracy', F1Score(average='macro')])\n",
    "\n",
    "# Train the model\n",
    "batch_size = 16\n",
    "epochs = 20\n",
    "model.fit(train_pad_sequences, train_encoded_labels, batch_size=batch_size, epochs=epochs, validation_data=(val_pad_sequences, val_encoded_labels))\n",
    "# Evaluate the model on the test set\n",
    "loss, accuracy, f1 = model.evaluate(test_pad_sequences, test_encoded_labels, batch_size=batch_size)\n",
    "print(f\"Test accuracy: {accuracy:.4f}\")"
   ]
  }
 ],
 "metadata": {
  "kernelspec": {
   "display_name": ".venv",
   "language": "python",
   "name": "python3"
  },
  "language_info": {
   "codemirror_mode": {
    "name": "ipython",
    "version": 3
   },
   "file_extension": ".py",
   "mimetype": "text/x-python",
   "name": "python",
   "nbconvert_exporter": "python",
   "pygments_lexer": "ipython3",
   "version": "3.10.6"
  }
 },
 "nbformat": 4,
 "nbformat_minor": 2
}
