{
 "cells": [
  {
   "cell_type": "markdown",
   "metadata": {},
   "source": [
    "# TRAINING MODELS"
   ]
  },
  {
   "cell_type": "code",
   "execution_count": null,
   "metadata": {},
   "outputs": [],
   "source": [
    "import sys\n",
    "import os\n",
    "\n",
    "sys.path.append(os.path.abspath(os.path.join(os.getcwd(), '..')))\n",
    "sys.path.append(os.path.abspath(os.path.join(os.getcwd(), '../INTENT RECOGNITION')))\n",
    "sys.path.append(os.path.abspath(os.path.join(os.getcwd(), '../NAME ENTITY RECOGNITION')))\n"
   ]
  },
  {
   "cell_type": "code",
   "execution_count": null,
   "metadata": {},
   "outputs": [],
   "source": [
    "from ner import NamedEntityRecognition\n",
    "from intent_recognition import IntentRecognition"
   ]
  },
  {
   "cell_type": "code",
   "execution_count": null,
   "metadata": {},
   "outputs": [],
   "source": [
    "train_config = { 'use_class_weights':True}\n",
    "hyperparams = {'vocab_size': 500, 'embedding_dim': 768, 'epochs': 10, 'batch_size': 32}"
   ]
  },
  {
   "cell_type": "code",
   "execution_count": null,
   "metadata": {},
   "outputs": [],
   "source": [
    "import numpy as np\n",
    "from keras.models import Sequential\n",
    "from keras.layers import Embedding, SimpleRNN, LSTM, GRU, Bidirectional, Conv1D, GlobalMaxPooling1D, GlobalAveragePooling1D, Dense, Dropout\n"
   ]
  },
  {
   "cell_type": "code",
   "execution_count": null,
   "metadata": {},
   "outputs": [],
   "source": [
    "model = Sequential()\n",
    "model.add(Bidirectional(LSTM(64, return_sequences=True), merge_mode=\"ave\"))\n",
    "model.add(GlobalMaxPooling1D())\n",
    "\n",
    "basic = IntentRecognition(\n",
    "            model, \n",
    "            hyperparams, \n",
    "            training_times=1, \n",
    "            train_config=train_config, \n",
    "            verbosing=0, \n",
    "            name=\"Bidirectional\",\n",
    "            save_results=False\n",
    "        )\n",
    "basic.train_model()"
   ]
  },
  {
   "cell_type": "code",
   "execution_count": null,
   "metadata": {},
   "outputs": [],
   "source": [
    "tokenized = np.array(basic.tokenizer.texts_to_sequences([\"I want a to eat a steak to Boston please\"]))"
   ]
  },
  {
   "cell_type": "code",
   "execution_count": null,
   "metadata": {},
   "outputs": [],
   "source": [
    "probs = basic.model.predict(tokenized)\n",
    "_predicted_labels = np.argmax(probs, axis=1)\n",
    "predicted_labels = basic.label_encoder.inverse_transform(_predicted_labels)"
   ]
  },
  {
   "cell_type": "code",
   "execution_count": null,
   "metadata": {},
   "outputs": [],
   "source": [
    "predicted_labels"
   ]
  },
  {
   "cell_type": "code",
   "execution_count": null,
   "metadata": {},
   "outputs": [],
   "source": [
    "model = Sequential()\n",
    "model.add(Bidirectional(GRU(128, return_sequences=True)))\n",
    "\n",
    "ner_model = NamedEntityRecognition(\n",
    "            model, \n",
    "            hyperparams, \n",
    "            training_times=1, \n",
    "            train_config=train_config, \n",
    "            verbosing=0, \n",
    "            name=\"Bidirectional\",\n",
    "            save_results=False\n",
    "        )\n",
    "ner_model.train_model()"
   ]
  },
  {
   "cell_type": "code",
   "execution_count": null,
   "metadata": {},
   "outputs": [],
   "source": [
    "from tensorflow.keras.preprocessing.sequence import pad_sequences"
   ]
  },
  {
   "cell_type": "code",
   "execution_count": null,
   "metadata": {},
   "outputs": [],
   "source": [
    "tokenized2 = np.array(ner_model.tokenizer.texts_to_sequences([\"i need a ticket to go to san diego\"]))\n",
    "\n",
    "tokenized2"
   ]
  },
  {
   "cell_type": "code",
   "execution_count": null,
   "metadata": {},
   "outputs": [],
   "source": [
    "max_length = ner_model.model.input_shape[1] \n",
    "tokenized2_padded = pad_sequences(tokenized2, maxlen=max_length, padding=\"post\")"
   ]
  },
  {
   "cell_type": "code",
   "execution_count": null,
   "metadata": {},
   "outputs": [],
   "source": [
    "probs = ner_model.model.predict(tokenized2_padded)"
   ]
  },
  {
   "cell_type": "code",
   "execution_count": null,
   "metadata": {},
   "outputs": [],
   "source": [
    "probs = ner_model.model.predict(tokenized2_padded)\n",
    "_predicted_labels = np.argmax(probs, axis=2)\n",
    "_predicted_labels\n",
    "predicted_labels = [ner_model.label_encoder.inverse_transform(a) for a in _predicted_labels]\n",
    "print(predicted_labels)"
   ]
  },
  {
   "cell_type": "markdown",
   "metadata": {},
   "source": [
    "# CLASS"
   ]
  },
  {
   "cell_type": "code",
   "execution_count": null,
   "metadata": {},
   "outputs": [],
   "source": [
    "# Import necessary packages\n",
    "import numpy as np\n",
    "\n",
    "class DialogSystem:\n",
    "    def __init__(self, intent_model, ner_model):\n",
    "        self.intent_model = intent_model\n",
    "        self.ner_model = ner_model\n",
    "    \n",
    "    def preprocess_input(self, user_input):\n",
    "        return np.array(self.intent_model.tokenizer.texts_to_sequences([user_input]))\n",
    "\n",
    "    def get_intent(self, user_input):\n",
    "        tokenized_input = self.preprocess_input(user_input)\n",
    "        tokenized2_padded = pad_sequences(tokenized_input, maxlen=max_length, padding=\"post\")\n",
    "        probs = self.intent_model.model.predict(tokenized2_padded)\n",
    "        predicted_label = np.argmax(probs, axis=1)\n",
    "        return self.intent_model.label_encoder.inverse_transform(predicted_label)[0]\n",
    "\n",
    "    def get_entities(self, user_input):\n",
    "        tokenized_input = np.array(self.ner_model.tokenizer.texts_to_sequences([user_input]))\n",
    "        max_length = self.ner_model.model.input_shape[1] \n",
    "        tokenized2_padded = pad_sequences(tokenized_input, maxlen=max_length, padding=\"post\")\n",
    "        probs = self.ner_model.model.predict(tokenized2_padded)\n",
    "        predicted_labels = np.argmax(probs, axis=2)[0]\n",
    "        entities = []\n",
    "        current_entity = None\n",
    "        for i, label in enumerate(predicted_labels[:len(user_input.split())]):\n",
    "            label_str = self.ner_model.label_encoder.inverse_transform([label])[0]\n",
    "            if label_str != 'O': \n",
    "                if label_str.startswith(\"B-\"):\n",
    "                    if current_entity:\n",
    "                        entities.append(current_entity)\n",
    "                    current_entity = {\"entity\": label_str, \"text\": user_input.split()[i]}\n",
    "                elif label_str.startswith(\"I-\"): \n",
    "                    if current_entity:\n",
    "                        current_entity[\"text\"] += \" \" + user_input.split()[i]  \n",
    "            else:\n",
    "                if current_entity:\n",
    "                    entities.append(current_entity) \n",
    "                    current_entity = None\n",
    "        \n",
    "        if current_entity: \n",
    "            entities.append(current_entity)\n",
    "\n",
    "        return entities\n",
    "\n",
    "    def generate_response(self, intent, entities):\n",
    "        \"\"\"\n",
    "        Generate a response based on the identified intent and entities.\n",
    "        \"\"\"\n",
    "        city_name = None\n",
    "        state_name = None\n",
    "        \n",
    "        for entity in entities:\n",
    "            if \"city_name\" in entity[\"entity\"]:\n",
    "                city_name = entity[\"text\"]\n",
    "            elif \"state_name\" in entity[\"entity\"]:\n",
    "                state_name = entity[\"text\"]\n",
    "        \n",
    "        if intent == \"flight\":\n",
    "            if city_name:\n",
    "                return f\"Looking up flight information to {city_name}.\"\n",
    "            elif state_name:\n",
    "                return f\"Looking up flight information to {state_name}.\"\n",
    "            else:\n",
    "                return \"Please specify a destination for the flight.\"\n",
    "\n",
    "        elif intent == \"airline\":\n",
    "            return \"Retrieving airline information for you.\"\n",
    "\n",
    "        elif intent == \"airport\":\n",
    "            if city_name or state_name:\n",
    "                location = city_name if city_name else state_name\n",
    "                return f\"Looking up airport information near {location}.\"\n",
    "            else:\n",
    "                return \"Please specify a location for the airport.\"\n",
    "\n",
    "        else:\n",
    "            return \"I'm sorry, I didn't understand your request.\"\n",
    "\n",
    "    def handle_user_input(self, user_input):\n",
    "        \"\"\"\n",
    "        Process user input, identify intent and entities, and generate a response.\n",
    "        \"\"\"\n",
    "        intent = self.get_intent(user_input)\n",
    "        entities = self.get_entities(user_input)\n",
    "        response = self.generate_response(intent, entities)\n",
    "        return response\n"
   ]
  },
  {
   "cell_type": "markdown",
   "metadata": {},
   "source": [
    "# USE"
   ]
  },
  {
   "cell_type": "code",
   "execution_count": null,
   "metadata": {},
   "outputs": [],
   "source": [
    "dialog_system = DialogSystem(basic, ner_model)\n",
    "\n",
    "def chat_with_bot():\n",
    "    print(\"Welcome to the ATIS-based dialog system! Type 'exit' to end the conversation.\")\n",
    "    while True:\n",
    "        user_input = input(\"You: \")\n",
    "        print(\"You: \", user_input)\n",
    "        if user_input.lower() == 'exit':\n",
    "            print(\"Bot: Goodbye!\")\n",
    "            break\n",
    "        response = dialog_system.handle_user_input(user_input)\n",
    "        print(\"Bot:\", response)\n",
    "\n",
    "chat_with_bot()\n"
   ]
  },
  {
   "cell_type": "code",
   "execution_count": null,
   "metadata": {},
   "outputs": [],
   "source": [
    "\n",
    "def chat_with_bot():\n",
    "    print(\"Welcome to the dialog system! Type 'exit' to end the conversation.\")\n",
    "    while True:\n",
    "        user_input = input(\"You: \")\n",
    "        if user_input.lower() == 'exit':\n",
    "            print(\"Bot: Goodbye!\")\n",
    "            break\n",
    "        response = dialog_system.handle_user_input(user_input)\n",
    "        print(\"Bot:\", response)\n",
    "\n",
    "chat_with_bot()"
   ]
  }
 ],
 "metadata": {
  "kernelspec": {
   "display_name": "Python 3",
   "language": "python",
   "name": "python3"
  },
  "language_info": {
   "codemirror_mode": {
    "name": "ipython",
    "version": 3
   },
   "file_extension": ".py",
   "mimetype": "text/x-python",
   "name": "python",
   "nbconvert_exporter": "python",
   "pygments_lexer": "ipython3",
   "version": "3.11.9"
  }
 },
 "nbformat": 4,
 "nbformat_minor": 2
}
