{
 "cells": [
  {
   "cell_type": "code",
   "execution_count": 1,
   "metadata": {},
   "outputs": [],
   "source": [
    "from intent_recognition import *\n",
    "from recurrent_models import *"
   ]
  },
  {
   "cell_type": "code",
   "execution_count": 2,
   "metadata": {},
   "outputs": [
    {
     "name": "stdout",
     "output_type": "stream",
     "text": [
      "Average Training Accuracy: 0.9920549392700195\n",
      "Average Training F1: 0.9599732160568237\n",
      "Average Training Loss: 0.01563599705696106\n",
      "Average Validation Accuracy: 0.967111098766327\n",
      "Average Validation F1: 0.6013704180717468\n",
      "Average Validation Loss: 0.16525244414806367\n",
      "Best Model Validation Accuracy: 0.9688888788223267\n",
      "Best Model Validation F1: 0.6240992546081543\n",
      "\n",
      "Average Training Accuracy: 0.9941147685050964\n",
      "Average Training F1: 0.9667600631713867\n",
      "Average Training Loss: 0.010524520836770534\n",
      "Average Validation Accuracy: 0.9711111068725586\n",
      "Average Validation F1: 0.6394221544265747\n",
      "Average Validation Loss: 0.13967602252960204\n",
      "Best Model Validation Accuracy: 0.9744444489479065\n",
      "Best Model Validation F1: 0.6625558137893677\n",
      "\n",
      "Average Training Accuracy: 0.9957332015037537\n",
      "Average Training F1: 0.9751298666000366\n",
      "Average Training Loss: 0.008471974730491638\n",
      "Average Validation Accuracy: 0.9702222347259521\n",
      "Average Validation F1: 0.6397597551345825\n",
      "Average Validation Loss: 0.1980554848909378\n",
      "Best Model Validation Accuracy: 0.9733333587646484\n",
      "Best Model Validation F1: 0.6673341989517212\n",
      "\n",
      "Average Training Accuracy: 0.9928396105766296\n",
      "Average Training F1: 0.9798059344291687\n",
      "Average Training Loss: 0.008677838556468486\n",
      "Average Validation Accuracy: 0.972000002861023\n",
      "Average Validation F1: 0.6496961712837219\n",
      "Average Validation Loss: 0.18692680597305297\n",
      "Best Model Validation Accuracy: 0.9777777791023254\n",
      "Best Model Validation F1: 0.6722778677940369\n",
      "\n",
      "Average Training Accuracy: 0.9946542382240295\n",
      "Average Training F1: 0.9773983955383301\n",
      "Average Training Loss: 0.014879744872450829\n",
      "Average Validation Accuracy: 0.9724444508552551\n",
      "Average Validation F1: 0.6447818279266357\n",
      "Average Validation Loss: 0.12828865498304368\n",
      "Best Model Validation Accuracy: 0.9777777791023254\n",
      "Best Model Validation F1: 0.6708885431289673\n",
      "\n",
      "Average Training Accuracy: 0.9964688658714295\n",
      "Average Training F1: 0.9840499281883239\n",
      "Average Training Loss: 0.006287822872400284\n",
      "Average Validation Accuracy: 0.9733333468437195\n",
      "Average Validation F1: 0.6235379219055176\n",
      "Average Validation Loss: 0.14171661138534547\n",
      "Best Model Validation Accuracy: 0.9777777791023254\n",
      "Best Model Validation F1: 0.6229007244110107\n",
      "\n"
     ]
    }
   ],
   "source": [
    "embedding_sizes = [512]\n",
    "vocab_size = [500]\n",
    "\n",
    "class_weights = [True]\n",
    "\n",
    "for emb_size in embedding_sizes:\n",
    "    for voc_size in vocab_size:\n",
    "        for clss_w in class_weights:\n",
    "            train_config = { 'use_class_weights':clss_w}\n",
    "            hyperparams = {'vocab_size': voc_size, 'embedding_dim': emb_size, 'epochs': 20, 'batch_size': 32}\n",
    "            for name in model_types:\n",
    "                model = create_model(name)\n",
    "                basic = IntentRecognition(model, hyperparams, training_times=5, train_config=train_config, verbosing=0, name=name)\n",
    "                basic.train_model()\n",
    "                basic.print_training_information()"
   ]
  }
 ],
 "metadata": {
  "kernelspec": {
   "display_name": "Python 3",
   "language": "python",
   "name": "python3"
  },
  "language_info": {
   "codemirror_mode": {
    "name": "ipython",
    "version": 3
   },
   "file_extension": ".py",
   "mimetype": "text/x-python",
   "name": "python",
   "nbconvert_exporter": "python",
   "pygments_lexer": "ipython3",
   "version": "3.11.9"
  }
 },
 "nbformat": 4,
 "nbformat_minor": 2
}
