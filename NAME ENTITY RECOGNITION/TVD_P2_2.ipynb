{
 "cells": [
  {
   "cell_type": "markdown",
   "metadata": {
    "id": "5b0R18qGjOxT"
   },
   "source": [
    "<center>\n",
    "<h1 style=\"font-family:verdana\">\n",
    " 💻 🧑 Reconeixement d'entitats anomenades 🧑 💻\n"
   ]
  },
  {
   "cell_type": "markdown",
   "metadata": {
    "id": "PZOmxM4_kAUC"
   },
   "source": [
    "<p> 🎯 <b>Objectiu</b>: en aquesta segona part de la pràctica aprendrem a reconèixer entitats anomenades, és a dir, identificar i classificar entitats en una oració que poden ser (en el context de reserva de vols) la ciutat de sortida o d'arribada, la data del mes i el dia, si es de negocis o turista o altres categories específiques. Aquesta tasca se sol plantejar etiquetant cada paraula amb una etiqueta de la categoria de l'entitat a la qual correspon.\n",
    "\n",
    "Tant la classificació d'intencions (tasca estudiada a la primera part) com el reconeixement d'entitats anomenades (Name Entity Recognition, NER) que veurem en aquesta part són components crucials dels sistemes de processament del llenguatge natural (Natural Language Processing, NLP) i sovint s'utilitzen junts per crear aplicacions d'intel·ligència artificial (IA) conversacionals més sofisticades. Per exemple, en un xatbot, la classificació d'intencions ajuda a entendre la intenció principal de l'usuari, mentre que el reconeixement d'entitats anomenades ajuda a extreure entitats rellevants per proporcionar respostes més contextualitzades.\n",
    "\n",
    "\n",
    "<p> ✨ <b>Contingut</b>: els passos d'aquesta segona part seran similars a la primera. En primer lloc, analitzarem el conjunt de dades. En segon lloc, prepararem les dades per a poder entrenar el model. I finalment dissenyarem l'arquitectura i entrenarem el model. </p>\n",
    "\n",
    "\n",
    "<p> ✏ <b>Exercicis</b>: en cada secció anireu trobant exercicis que haureu d'anar resolent. </p>"
   ]
  },
  {
   "cell_type": "markdown",
   "metadata": {
    "id": "BI_K-e1cmXlb"
   },
   "source": [
    "---\n",
    "\n",
    "<h2> Índex </h2>\n",
    "\n",
    "1. [Inspecció del conjunt de dades](#section-one)\n",
    "  * [Exercici 1](#ex-one)\n",
    "  * [Exercici 2](#ex-two)\n",
    "2. [Preprocessament de dades](#section-two)\n",
    "  * [Exercici 3](#ex-three)\n",
    "  * [Exercici 4](#ex-four)\n",
    "3. [Disseny del model i entrenament](#section-three)\n",
    "  * [Exercici 5](#ex-five)\n",
    "  * [Exercici 6](#ex-six)\n",
    "4. [Lliurable](#section-four)\n",
    "\n",
    "---"
   ]
  },
  {
   "cell_type": "code",
   "execution_count": 48,
   "metadata": {
    "executionInfo": {
     "elapsed": 6966,
     "status": "ok",
     "timestamp": 1729339827353,
     "user": {
      "displayName": "Jordi Luque",
      "userId": "10816317814088701546"
     },
     "user_tz": -120
    },
    "id": "XKn_1FnTxvfV"
   },
   "outputs": [],
   "source": [
    "import tensorflow as tf\n",
    "import numpy as np\n",
    "import pandas as pd\n",
    "from sklearn.preprocessing import LabelEncoder\n",
    "import keras\n",
    "from keras.utils import to_categorical\n",
    "from keras.models import Sequential\n",
    "from keras.layers import Embedding, LSTM, Dense, Bidirectional, Dropout\n",
    "from tensorflow.keras.preprocessing.text import Tokenizer\n",
    "from tensorflow.keras.preprocessing.sequence import pad_sequences\n",
    "from sklearn.metrics import classification_report\n"
   ]
  },
  {
   "cell_type": "markdown",
   "metadata": {
    "id": "Swhc9NwqpUs8"
   },
   "source": [
    "<h1><a name=\"section-one\"> 1. Inspecció del conjunt de dades </a></h1>"
   ]
  },
  {
   "cell_type": "code",
   "execution_count": 49,
   "metadata": {
    "colab": {
     "base_uri": "https://localhost:8080/"
    },
    "executionInfo": {
     "elapsed": 14600,
     "status": "ok",
     "timestamp": 1729339841949,
     "user": {
      "displayName": "Jordi Luque",
      "userId": "10816317814088701546"
     },
     "user_tz": -120
    },
    "id": "SSM223cvp7wJ",
    "outputId": "76718690-7584-425f-ab61-15ed20854404"
   },
   "outputs": [
    {
     "name": "stdout",
     "output_type": "stream",
     "text": [
      "Requirement already satisfied: gdown in c:\\users\\usuario\\appdata\\local\\packages\\pythonsoftwarefoundation.python.3.11_qbz5n2kfra8p0\\localcache\\local-packages\\python311\\site-packages (5.2.0)\n",
      "Requirement already satisfied: beautifulsoup4 in c:\\users\\usuario\\appdata\\local\\packages\\pythonsoftwarefoundation.python.3.11_qbz5n2kfra8p0\\localcache\\local-packages\\python311\\site-packages (from gdown) (4.12.3)\n",
      "Requirement already satisfied: filelock in c:\\users\\usuario\\appdata\\local\\packages\\pythonsoftwarefoundation.python.3.11_qbz5n2kfra8p0\\localcache\\local-packages\\python311\\site-packages (from gdown) (3.15.4)\n",
      "Requirement already satisfied: requests[socks] in c:\\users\\usuario\\appdata\\local\\packages\\pythonsoftwarefoundation.python.3.11_qbz5n2kfra8p0\\localcache\\local-packages\\python311\\site-packages (from gdown) (2.32.3)\n",
      "Requirement already satisfied: tqdm in c:\\users\\usuario\\appdata\\local\\packages\\pythonsoftwarefoundation.python.3.11_qbz5n2kfra8p0\\localcache\\local-packages\\python311\\site-packages (from gdown) (4.66.4)\n",
      "Requirement already satisfied: soupsieve>1.2 in c:\\users\\usuario\\appdata\\local\\packages\\pythonsoftwarefoundation.python.3.11_qbz5n2kfra8p0\\localcache\\local-packages\\python311\\site-packages (from beautifulsoup4->gdown) (2.5)\n",
      "Requirement already satisfied: charset-normalizer<4,>=2 in c:\\users\\usuario\\appdata\\local\\packages\\pythonsoftwarefoundation.python.3.11_qbz5n2kfra8p0\\localcache\\local-packages\\python311\\site-packages (from requests[socks]->gdown) (3.3.2)\n",
      "Requirement already satisfied: idna<4,>=2.5 in c:\\users\\usuario\\appdata\\local\\packages\\pythonsoftwarefoundation.python.3.11_qbz5n2kfra8p0\\localcache\\local-packages\\python311\\site-packages (from requests[socks]->gdown) (2.10)\n",
      "Requirement already satisfied: urllib3<3,>=1.21.1 in c:\\users\\usuario\\appdata\\local\\packages\\pythonsoftwarefoundation.python.3.11_qbz5n2kfra8p0\\localcache\\local-packages\\python311\\site-packages (from requests[socks]->gdown) (2.2.0)\n",
      "Requirement already satisfied: certifi>=2017.4.17 in c:\\users\\usuario\\appdata\\local\\packages\\pythonsoftwarefoundation.python.3.11_qbz5n2kfra8p0\\localcache\\local-packages\\python311\\site-packages (from requests[socks]->gdown) (2024.2.2)\n",
      "Requirement already satisfied: PySocks!=1.5.7,>=1.5.6 in c:\\users\\usuario\\appdata\\local\\packages\\pythonsoftwarefoundation.python.3.11_qbz5n2kfra8p0\\localcache\\local-packages\\python311\\site-packages (from requests[socks]->gdown) (1.7.1)\n",
      "Requirement already satisfied: colorama in c:\\users\\usuario\\appdata\\local\\packages\\pythonsoftwarefoundation.python.3.11_qbz5n2kfra8p0\\localcache\\local-packages\\python311\\site-packages (from tqdm->gdown) (0.4.6)\n"
     ]
    },
    {
     "name": "stderr",
     "output_type": "stream",
     "text": [
      "\n",
      "[notice] A new release of pip is available: 24.0 -> 24.3.1\n",
      "[notice] To update, run: C:\\Users\\Usuario\\AppData\\Local\\Microsoft\\WindowsApps\\PythonSoftwareFoundation.Python.3.11_qbz5n2kfra8p0\\python.exe -m pip install --upgrade pip\n",
      "Downloading...\n",
      "From: https://drive.google.com/uc?id=1u2wzXvsuscLeFHwXcDwMDaNDy0u_99-t\n",
      "To: c:\\Users\\Usuario\\Documents\\Universitat\\5_Quatri\\TVD\\frame-based\\frame-based-system\\nlu_ATIS_data.tar.gz\n",
      "\n",
      "  0%|          | 0.00/122k [00:00<?, ?B/s]\n",
      "100%|██████████| 122k/122k [00:00<00:00, 1.08MB/s]\n",
      "100%|██████████| 122k/122k [00:00<00:00, 1.08MB/s]\n"
     ]
    }
   ],
   "source": [
    "!pip install gdown\n",
    "!gdown \"https://drive.google.com/uc?id=1u2wzXvsuscLeFHwXcDwMDaNDy0u_99-t\"\n",
    "!tar -zxf nlu_ATIS_data.tar.gz"
   ]
  },
  {
   "cell_type": "code",
   "execution_count": 50,
   "metadata": {
    "colab": {
     "base_uri": "https://localhost:8080/"
    },
    "executionInfo": {
     "elapsed": 5,
     "status": "ok",
     "timestamp": 1729339841949,
     "user": {
      "displayName": "Jordi Luque",
      "userId": "10816317814088701546"
     },
     "user_tz": -120
    },
    "id": "OAp0lemwjd71",
    "outputId": "e876aa75-1712-44f0-e3e3-d88db575f468"
   },
   "outputs": [
    {
     "name": "stdout",
     "output_type": "stream",
     "text": [
      "test.csv\n",
      "train.csv\n"
     ]
    }
   ],
   "source": [
    "!ls data"
   ]
  },
  {
   "cell_type": "markdown",
   "metadata": {
    "id": "sqKtLqYUpWkZ"
   },
   "source": [
    "En aquesta segona part de la pràctica utilitzarem el mateix dataset que a la primera part, però en aquest cas utilitzarem la **primera columna** que correspon a les **oracions** introduïdes pels usuaris i la **segona columna** on trobarem les oracions d'entrada en format **BILOU**.\n",
    "\n",
    "El format BILOU  és un esquema d'etiquetatge que es fa servir a les tasques de reconeixement d'entitats anomenades. El nom *BILOU* representa les etiquetes utilitzades en aquest esquema:\n",
    "\n",
    "*   **B** - Beginning: primer token d'una entitat.\n",
    "*   **I** - Inside: token dins d'una entitat.\n",
    "*   **L** - Last: últim token de l'entitat.\n",
    "*   **O** - Outside: token que no pertany a cap entitat.\n",
    "*   **U** - Unit: entitats d'un sol token\n",
    "\n",
    "A continuació, carregarem les dades per visualitzar i poder entendre millor aquestes etiquetes."
   ]
  },
  {
   "cell_type": "markdown",
   "metadata": {
    "id": "4fUGDuD9wUfm"
   },
   "source": [
    "---\n",
    "\n",
    " <h1><a name=\"ex-one\"><center> ✏ Exercici 1 ✏</a></h1>\n",
    "\n",
    "A continuació us demanem que carregueu els dos CSVs de la carpeta `data`: `train.csv`, `test.csv` utilitzant pandas. Recorda que aquests CSVs no tenen capçalera. Agafeu les 900 últimes lineas del fitxer `train.csv` per crear un dataframe per validació."
   ]
  },
  {
   "cell_type": "code",
   "execution_count": 51,
   "metadata": {
    "colab": {
     "base_uri": "https://localhost:8080/",
     "height": 424
    },
    "executionInfo": {
     "elapsed": 11,
     "status": "ok",
     "timestamp": 1729339842514,
     "user": {
      "displayName": "Jordi Luque",
      "userId": "10816317814088701546"
     },
     "user_tz": -120
    },
    "id": "36hvQo3GloN6",
    "outputId": "2d3eba39-f945-4789-e1e4-cbe765b381a5"
   },
   "outputs": [
    {
     "data": {
      "text/html": [
       "<div>\n",
       "<style scoped>\n",
       "    .dataframe tbody tr th:only-of-type {\n",
       "        vertical-align: middle;\n",
       "    }\n",
       "\n",
       "    .dataframe tbody tr th {\n",
       "        vertical-align: top;\n",
       "    }\n",
       "\n",
       "    .dataframe thead th {\n",
       "        text-align: right;\n",
       "    }\n",
       "</style>\n",
       "<table border=\"1\" class=\"dataframe\">\n",
       "  <thead>\n",
       "    <tr style=\"text-align: right;\">\n",
       "      <th></th>\n",
       "      <th>0</th>\n",
       "      <th>1</th>\n",
       "      <th>2</th>\n",
       "    </tr>\n",
       "  </thead>\n",
       "  <tbody>\n",
       "    <tr>\n",
       "      <th>0</th>\n",
       "      <td>i would like to find a flight from charlotte t...</td>\n",
       "      <td>\"O O O O O O O O B-fromloc.city_name O B-tolo...</td>\n",
       "      <td>\"flight\"</td>\n",
       "    </tr>\n",
       "    <tr>\n",
       "      <th>1</th>\n",
       "      <td>on april first i need a ticket from tacoma to ...</td>\n",
       "      <td>\"O B-depart_date.month_name B-depart_date.day...</td>\n",
       "      <td>\"airfare\"</td>\n",
       "    </tr>\n",
       "    <tr>\n",
       "      <th>2</th>\n",
       "      <td>on april first i need a flight going from phoe...</td>\n",
       "      <td>\"O B-depart_date.month_name B-depart_date.day...</td>\n",
       "      <td>\"flight\"</td>\n",
       "    </tr>\n",
       "    <tr>\n",
       "      <th>3</th>\n",
       "      <td>i would like a flight traveling one way from p...</td>\n",
       "      <td>\"O O O O O O B-round_trip I-round_trip O B-fr...</td>\n",
       "      <td>\"flight\"</td>\n",
       "    </tr>\n",
       "    <tr>\n",
       "      <th>4</th>\n",
       "      <td>i would like a flight from orlando to salt lak...</td>\n",
       "      <td>\"O O O O O O B-fromloc.city_name O B-toloc.ci...</td>\n",
       "      <td>\"flight\"</td>\n",
       "    </tr>\n",
       "    <tr>\n",
       "      <th>...</th>\n",
       "      <td>...</td>\n",
       "      <td>...</td>\n",
       "      <td>...</td>\n",
       "    </tr>\n",
       "    <tr>\n",
       "      <th>888</th>\n",
       "      <td>please find all the flights from cincinnati to...</td>\n",
       "      <td>\"O O O O O O B-fromloc.city_name O O O O O B-...</td>\n",
       "      <td>\"flight\"</td>\n",
       "    </tr>\n",
       "    <tr>\n",
       "      <th>889</th>\n",
       "      <td>find me a flight from cincinnati to any airpor...</td>\n",
       "      <td>\"O O O O O B-fromloc.city_name O O O O O B-to...</td>\n",
       "      <td>\"flight\"</td>\n",
       "    </tr>\n",
       "    <tr>\n",
       "      <th>890</th>\n",
       "      <td>i 'd like to fly from miami to chicago on amer...</td>\n",
       "      <td>\"O O O O O O B-fromloc.city_name O B-toloc.ci...</td>\n",
       "      <td>\"flight\"</td>\n",
       "    </tr>\n",
       "    <tr>\n",
       "      <th>891</th>\n",
       "      <td>i would like to book a round trip flight from ...</td>\n",
       "      <td>\"O O O O O O B-round_trip I-round_trip O O B-...</td>\n",
       "      <td>\"flight\"</td>\n",
       "    </tr>\n",
       "    <tr>\n",
       "      <th>892</th>\n",
       "      <td>find me a flight that flies from memphis to ta...</td>\n",
       "      <td>\"O O O O O O O B-fromloc.city_name O B-toloc....</td>\n",
       "      <td>\"flight\"</td>\n",
       "    </tr>\n",
       "  </tbody>\n",
       "</table>\n",
       "<p>893 rows × 3 columns</p>\n",
       "</div>"
      ],
      "text/plain": [
       "                                                     0  \\\n",
       "0    i would like to find a flight from charlotte t...   \n",
       "1    on april first i need a ticket from tacoma to ...   \n",
       "2    on april first i need a flight going from phoe...   \n",
       "3    i would like a flight traveling one way from p...   \n",
       "4    i would like a flight from orlando to salt lak...   \n",
       "..                                                 ...   \n",
       "888  please find all the flights from cincinnati to...   \n",
       "889  find me a flight from cincinnati to any airpor...   \n",
       "890  i 'd like to fly from miami to chicago on amer...   \n",
       "891  i would like to book a round trip flight from ...   \n",
       "892  find me a flight that flies from memphis to ta...   \n",
       "\n",
       "                                                     1           2  \n",
       "0     \"O O O O O O O O B-fromloc.city_name O B-tolo...    \"flight\"  \n",
       "1     \"O B-depart_date.month_name B-depart_date.day...   \"airfare\"  \n",
       "2     \"O B-depart_date.month_name B-depart_date.day...    \"flight\"  \n",
       "3     \"O O O O O O B-round_trip I-round_trip O B-fr...    \"flight\"  \n",
       "4     \"O O O O O O B-fromloc.city_name O B-toloc.ci...    \"flight\"  \n",
       "..                                                 ...         ...  \n",
       "888   \"O O O O O O B-fromloc.city_name O O O O O B-...    \"flight\"  \n",
       "889   \"O O O O O B-fromloc.city_name O O O O O B-to...    \"flight\"  \n",
       "890   \"O O O O O O B-fromloc.city_name O B-toloc.ci...    \"flight\"  \n",
       "891   \"O O O O O O B-round_trip I-round_trip O O B-...    \"flight\"  \n",
       "892   \"O O O O O O O B-fromloc.city_name O B-toloc....    \"flight\"  \n",
       "\n",
       "[893 rows x 3 columns]"
      ]
     },
     "execution_count": 51,
     "metadata": {},
     "output_type": "execute_result"
    }
   ],
   "source": [
    "test_data"
   ]
  },
  {
   "cell_type": "code",
   "execution_count": 52,
   "metadata": {
    "colab": {
     "base_uri": "https://localhost:8080/"
    },
    "executionInfo": {
     "elapsed": 11,
     "status": "ok",
     "timestamp": 1729339842515,
     "user": {
      "displayName": "Jordi Luque",
      "userId": "10816317814088701546"
     },
     "user_tz": -120
    },
    "id": "93lI2dDVxmST",
    "outputId": "d0a460e8-21c5-4c45-cd82-3d5f0eb25fee"
   },
   "outputs": [
    {
     "name": "stdout",
     "output_type": "stream",
     "text": [
      "Training size: 4078\n",
      "Validation dataset size: 900\n",
      "Test dataset size: 893\n"
     ]
    }
   ],
   "source": [
    "train_data = pd.read_csv('./data/train.csv', header=None)\n",
    "val_data = train_data.tail(900)\n",
    "train_data = pd.read_csv('./data/train.csv', header=None, nrows=4078)\n",
    "test_data = pd.read_csv('./data/test.csv', header=None)\n",
    "\n",
    "\n",
    "print('Training size:', len(train_data))\n",
    "print('Validation dataset size:', len(val_data))\n",
    "print('Test dataset size:', len(test_data))"
   ]
  },
  {
   "cell_type": "markdown",
   "metadata": {
    "id": "CugYB4oNyFju"
   },
   "source": [
    "---\n",
    "\n",
    " <h1><a name=\"ex-two\"><center> ✏ Exercici 2 ✏</a></h1>\n",
    "\n",
    "Tal com hem introduït abans, per a aquest exercici ens centrarem en la **primera** i la **segona** columna. Per tant, ara us demanem que guardeu en les següents variables, les llistes corresponents a les oracions i a les etiquetes de les tres particions (`train`, `validation` i `test`)."
   ]
  },
  {
   "cell_type": "code",
   "execution_count": 186,
   "metadata": {
    "colab": {
     "base_uri": "https://localhost:8080/"
    },
    "executionInfo": {
     "elapsed": 9,
     "status": "ok",
     "timestamp": 1729339842515,
     "user": {
      "displayName": "Jordi Luque",
      "userId": "10816317814088701546"
     },
     "user_tz": -120
    },
    "id": "edw3mK_Hy-M3",
    "outputId": "b57ed5d1-7219-4806-af3c-4629fbb5f5ed"
   },
   "outputs": [
    {
     "name": "stdout",
     "output_type": "stream",
     "text": [
      "Sentence:  list all flights going from boston to atlanta after 6 o'clock pm on wednesday\n",
      "Intent:   O O O O O B-fromloc.city_name O B-toloc.city_name B-depart_time.time_relative B-depart_time.time I-depart_time.time I-depart_time.time O B-depart_date.day_name\n"
     ]
    }
   ],
   "source": [
    "#TODO\n",
    "import random\n",
    "random_number = random.randint(0, len(train_data)-1)\n",
    "\n",
    "train_sentences = list(train_data[0])\n",
    "train_labels = list(s.replace('\"', '') for s in train_data[1])\n",
    "#train_labels = list(s.replace(' ', '') for s in train_labels)\n",
    "\n",
    "print('Sentence: ', train_sentences[random_number])\n",
    "print('Intent: ', train_labels[random_number])\n",
    "\n",
    "\n",
    "val_sentences = list(val_data[0])\n",
    "val_labels = list(s.replace('\"', '') for s in val_data[1])\n",
    "#val_labels = list(s.replace(' ', '') for s in val_labels)\n",
    "\n",
    "test_sentences = list(test_data[0])\n",
    "test_labels = list(s.replace('\"', '') for s in test_data[1])\n",
    "#test_labels = list(s.replace(' ', '') for s in test_labels)\n"
   ]
  },
  {
   "cell_type": "markdown",
   "metadata": {
    "id": "eKgiGo7UzYDU"
   },
   "source": [
    "---\n",
    "\n",
    "Si tot ha anat bé ja podem analitzar quin aspecte té el format BILOU."
   ]
  },
  {
   "cell_type": "code",
   "execution_count": 187,
   "metadata": {
    "colab": {
     "base_uri": "https://localhost:8080/"
    },
    "executionInfo": {
     "elapsed": 7,
     "status": "ok",
     "timestamp": 1729339842515,
     "user": {
      "displayName": "Jordi Luque",
      "userId": "10816317814088701546"
     },
     "user_tz": -120
    },
    "id": "lgjKAyCUzp_M",
    "outputId": "378a6225-456b-4e5f-d8fb-b14ababe1d74"
   },
   "outputs": [
    {
     "name": "stdout",
     "output_type": "stream",
     "text": [
      "i need a flight tomorrow from columbus to minneapolis\n",
      " O O O O B-depart_date.today_relative O B-fromloc.city_name O B-toloc.city_name\n"
     ]
    }
   ],
   "source": [
    "print(train_sentences[5])\n",
    "print(train_labels[5])"
   ]
  },
  {
   "cell_type": "markdown",
   "metadata": {
    "id": "oWzA_MPL02kk"
   },
   "source": [
    "Aquest hauria de ser el resultat obtingut si executeu la cel·la anterior:\n",
    "\n",
    "```\n",
    "\n",
    "\n",
    "i want to fly from boston at 838 am and arrive in denver at 1110 in the morning\n",
    " \"O O O O O B-fromloc.city_name O B-depart_time.time I-depart_time.time O O O B-toloc.city_name O B-arrive_time.time O O B-arrive_time.period_of_day\"\n",
    "\n",
    "\n",
    "```\n",
    "\n",
    "En aquest exemple, `boston` i `838 am` corresponen a l'entitat \"ciutat de sortida\" i a l'entitat \"hora de sortida\" respectivament (`fromloc.city_name`,`depart_time.time`). `838` correspon al primer token que pertany la entitat `depart_time.time` i `am` al segon de la mateixa entitat. Els tokens com `i` o `want` no pertanyen a cap entitat."
   ]
  },
  {
   "cell_type": "code",
   "execution_count": 188,
   "metadata": {
    "colab": {
     "base_uri": "https://localhost:8080/"
    },
    "executionInfo": {
     "elapsed": 6,
     "status": "ok",
     "timestamp": 1729339842515,
     "user": {
      "displayName": "Jordi Luque",
      "userId": "10816317814088701546"
     },
     "user_tz": -120
    },
    "id": "7BuHmIx62MUA",
    "outputId": "27503c1e-11e3-486f-a72b-ed784b186dae"
   },
   "outputs": [
    {
     "name": "stdout",
     "output_type": "stream",
     "text": [
      "what flights are available from pittsburgh to baltimore on thursday morning\n",
      " O O O O O B-fromloc.city_name O B-toloc.city_name O B-depart_date.day_name B-depart_time.period_of_day\n"
     ]
    }
   ],
   "source": [
    "print(train_sentences[1])\n",
    "print(train_labels[1])"
   ]
  },
  {
   "cell_type": "markdown",
   "metadata": {
    "id": "tSWlVauS2gll"
   },
   "source": [
    "I aquest hauria de ser el resultat de la cel·la anterior:\n",
    "\n",
    "```\n",
    "what flights are available from pittsburgh to baltimore on thursday morning\n",
    " O O O O O B-fromloc.city_name O B-toloc.city_name O B-depart_date.day_name B-depart_time.period_of_day\n",
    "```\n",
    "\n",
    "En l'anterior exemple, `what`, `flights`, `are`, `available`, `from`, `to` i `on` estan etiquetades com a no pertanyents a cap entitat. I, en canvi, `pittsburgh` pertany a l'entitat d'un sol token anomenada ciutat d'arribada (`toloc.city_name`). També hi ha entitats compostes com `baltimore` que pertany a l'entitat ciutat de sortida (`fromloc.city_name`) i `thursday morning` que pertanyen a les entitats data de sortida (`depart_date.day_name`, `depart_time.period_of_day`)."
   ]
  },
  {
   "cell_type": "markdown",
   "metadata": {
    "id": "0hwZtqaI7rOQ"
   },
   "source": [
    "Vegem-ne la llista completa d'entitats."
   ]
  },
  {
   "cell_type": "code",
   "execution_count": 189,
   "metadata": {
    "colab": {
     "base_uri": "https://localhost:8080/"
    },
    "executionInfo": {
     "elapsed": 402,
     "status": "ok",
     "timestamp": 1729339842912,
     "user": {
      "displayName": "Jordi Luque",
      "userId": "10816317814088701546"
     },
     "user_tz": -120
    },
    "id": "2VDzOwWk4Ee2",
    "outputId": "8ba5bb79-8345-4cab-fbf2-d1ecb46c0fa4"
   },
   "outputs": [
    {
     "name": "stdout",
     "output_type": "stream",
     "text": [
      "Number of different entities: 119\n",
      "Unique entities: ['O', 'B-fromloc.city_name', 'B-depart_time.time', 'I-depart_time.time', 'B-toloc.city_name', 'B-arrive_time.time', 'B-arrive_time.period_of_day', 'B-depart_date.day_name', 'B-depart_time.period_of_day', 'B-flight_time', 'I-flight_time', 'I-fromloc.city_name', 'B-cost_relative', 'B-round_trip', 'I-round_trip', 'B-fare_amount', 'I-fare_amount', 'B-depart_date.today_relative', 'I-toloc.city_name', 'B-city_name', 'B-stoploc.city_name', 'B-toloc.airport_code', 'B-depart_time.time_relative', 'B-class_type', 'I-class_type', 'B-depart_date.date_relative', 'B-airline_name', 'I-airline_name', 'B-arrive_time.time_relative', 'B-depart_time.start_time', 'I-depart_time.start_time', 'B-depart_time.end_time', 'I-depart_time.end_time', 'B-fromloc.airport_name', 'I-fromloc.airport_name', 'B-toloc.state_name', 'B-depart_date.day_number', 'I-depart_date.day_number', 'B-depart_date.month_name', 'B-mod', 'B-fare_basis_code', 'B-transport_type', 'B-flight_mod', 'I-cost_relative', 'B-arrive_date.month_name', 'B-arrive_date.day_number', 'B-meal', 'B-toloc.state_code', 'B-meal_description', 'B-return_date.month_name', 'B-return_date.day_number', 'B-airline_code', 'B-depart_time.period_mod', 'I-arrive_time.time', 'B-flight_stop', 'I-city_name', 'B-fromloc.airport_code', 'B-arrive_date.day_name', 'B-time', 'B-or', 'I-arrive_date.day_number', 'B-economy', 'I-economy', 'B-flight_number', 'B-arrive_time.period_mod', 'I-transport_type', 'B-flight_days', 'I-stoploc.city_name', 'B-toloc.airport_name', 'I-toloc.airport_name', 'B-state_code', 'I-flight_stop', 'B-arrive_time.start_time', 'B-arrive_time.end_time', 'I-arrive_time.end_time', 'B-fromloc.state_name', 'I-fromloc.state_name', 'B-arrive_date.date_relative', 'B-depart_date.year', 'B-return_date.date_relative', 'B-airport_code', 'B-aircraft_code', 'B-fromloc.state_code', 'B-connect', 'I-arrive_time.start_time', 'B-restriction_code', 'I-restriction_code', 'I-toloc.state_name', 'B-airport_name', 'I-airport_name', 'B-toloc.country_name', 'B-days_code', 'I-fare_basis_code', 'I-arrive_time.time_relative', 'I-arrive_time.period_of_day', 'I-depart_time.time_relative', 'B-day_name', 'B-period_of_day', 'I-depart_date.day_name', 'B-today_relative', 'B-stoploc.state_code', 'B-meal_code', 'I-meal_code', 'I-today_relative', 'I-flight_mod', 'B-state_name', 'B-stoploc.airport_name', 'B-arrive_date.today_relative', 'B-time_relative', 'I-time', 'B-return_time.period_of_day', 'I-return_date.day_number', 'I-depart_time.period_of_day', 'B-return_time.period_mod', 'I-depart_date.today_relative', 'I-mod', 'B-month_name', 'B-day_number', 'I-return_date.date_relative']\n"
     ]
    }
   ],
   "source": [
    "from collections import Counter\n",
    "\n",
    "def count_unique_entities(list_of_label_sentences):\n",
    "  flat_labels = []\n",
    "  for labels in list_of_label_sentences:\n",
    "    flat_labels += labels.split()\n",
    "  c = Counter(flat_labels)\n",
    "  return len(c), list(c.keys())\n",
    "\n",
    "num_unique_entities, unique_entities = count_unique_entities(train_labels)\n",
    "\n",
    "print(\"Number of different entities:\", num_unique_entities)\n",
    "\n",
    "print(\"Unique entities:\", unique_entities)"
   ]
  },
  {
   "cell_type": "markdown",
   "metadata": {
    "id": "1wlsgR88_D8g"
   },
   "source": [
    "<h1><a name=\"section-two\"> 2. Preprocessament de dades </a></h1>"
   ]
  },
  {
   "cell_type": "markdown",
   "metadata": {
    "id": "e8yM79_n_OPA"
   },
   "source": [
    "El processament de les dades serà semblant al de la primera part d'aquesta pràctica."
   ]
  },
  {
   "cell_type": "markdown",
   "metadata": {
    "id": "bLrvW1frMus9"
   },
   "source": [
    "---\n",
    "\n",
    " <h1><a name=\"ex-three\"><center> ✏ Exercici 3 ✏</a></h1>\n",
    "\n",
    "En aquest exercici us demanem que realitzeu els passos següents per preparar les dades.\n",
    "\n",
    " 1. El primer pas serà construir el vocabulari a partir de les paraules presents a les oracions d'entrenament.\n",
    "\n",
    "2. El segon pas serà convertir les oracions en seqüències de nombres enters usant el tokenitzador.\n",
    "\n",
    "3. El tercer pas serà guardar la longitud original de cada oració. Això ens serà útil per evaluar el nostre model sense tenir en compte el padding.\n",
    "\n",
    "3. Finalment, per aconseguir que totes les seqüències tinguen la mateixa longitud, fixarem la longitud segons la màxima trobada a l'entrenament i afegirem zeros a les oracions de menor longitud.\n",
    "\n",
    "Recordeu que podeu consultar com fer-ho a la documentació de la llibrería:\n",
    "* <a href=\"https://www.tensorflow.org/api_docs/python/tf/keras/preprocessing/text/Tokenizer\"> Tokenizer </a>\n",
    "* <a href=\"https://www.tensorflow.org/api_docs/python/tf/keras/utils/pad_sequences\"> Pad Sequences </a>\n",
    "\n",
    "\n"
   ]
  },
  {
   "cell_type": "code",
   "execution_count": 194,
   "metadata": {
    "executionInfo": {
     "elapsed": 6,
     "status": "ok",
     "timestamp": 1729339842912,
     "user": {
      "displayName": "Jordi Luque",
      "userId": "10816317814088701546"
     },
     "user_tz": -120
    },
    "id": "e0zOvP3UI_CE"
   },
   "outputs": [],
   "source": [
    "#TODO\n",
    "num_words=1000\n",
    "tokenizer = Tokenizer(num_words)\n",
    "tokenizer.fit_on_texts(train_sentences)\n",
    "\n",
    "vocab = tokenizer.word_index\n",
    "\n",
    "train_sequences = tokenizer.texts_to_sequences(train_sentences)\n",
    "max_sequence_length = max(map(len, train_sequences))\n",
    "train_pad_sequences = pad_sequences(train_sequences, maxlen=max_sequence_length, padding=\"post\")\n",
    "\n",
    "val_sequences = tokenizer.texts_to_sequences(val_sentences)\n",
    "val_pad_sequences_old = pad_sequences(val_sequences, maxlen=max_sequence_length, padding=\"post\")\n",
    "\n",
    "test_sequences = tokenizer.texts_to_sequences(test_sentences)\n",
    "test_pad_sequences_old = pad_sequences(test_sequences, maxlen=max_sequence_length, padding=\"post\")"
   ]
  },
  {
   "cell_type": "code",
   "execution_count": 195,
   "metadata": {
    "colab": {
     "base_uri": "https://localhost:8080/"
    },
    "executionInfo": {
     "elapsed": 6,
     "status": "ok",
     "timestamp": 1729339842912,
     "user": {
      "displayName": "Jordi Luque",
      "userId": "10816317814088701546"
     },
     "user_tz": -120
    },
    "id": "UQPTc0CyOzLh",
    "outputId": "11200186-8274-4c8a-f948-9e119d71305b"
   },
   "outputs": [
    {
     "data": {
      "text/plain": [
       "46"
      ]
     },
     "execution_count": 195,
     "metadata": {},
     "output_type": "execute_result"
    }
   ],
   "source": [
    "len(train_pad_sequences[0])"
   ]
  },
  {
   "cell_type": "code",
   "execution_count": 196,
   "metadata": {},
   "outputs": [
    {
     "name": "stdout",
     "output_type": "stream",
     "text": [
      "[12, 69, 1, 38, 2, 9, 64, 415, 84, 17, 75, 16, 13, 64, 493, 16, 4, 36]\n"
     ]
    }
   ],
   "source": [
    "print(train_sequences[0])"
   ]
  },
  {
   "cell_type": "markdown",
   "metadata": {
    "id": "n55MNuHfMegM"
   },
   "source": [
    "\n",
    "---\n",
    "\n"
   ]
  },
  {
   "cell_type": "markdown",
   "metadata": {
    "id": "1wNo-X61OyRc"
   },
   "source": [
    "Tal com vam fer a la primera part, aquí també hem de convertir les diferents classes d'entitats en vectors one-hot."
   ]
  },
  {
   "cell_type": "markdown",
   "metadata": {
    "id": "pD9_A1RJP1LZ"
   },
   "source": [
    "---\n",
    "\n",
    " <h1><a name=\"ex-four\"><center> ✏ Exercici 4 ✏</a></h1>\n",
    "\n",
    "Per aconseguir-ho haureu de seguir els passos següents.\n",
    "\n",
    " 1. En primer lloc, haureu d'esbrinar quantes etiquetes diferents hi ha. Podeu prendre com a exemple la funció `count_unique_entities` per fer-ho. Tingueu en compte que haureu de modificar la funció, ja que per exemple aquesta funció considera que `B-depart_time.time`, `I-depart_time.time`, `L-depart_time.time`, `U-depart_time.time` són la mateixa entitat. En aquest exercici, necessitarem comptar-les per separat. També l'entitat O ha de ser considerada com una classe.\n",
    "\n",
    " 2. El segon pas serà codificar les diferents classes trobades en etiquetes numèriques. Tingueu en compte que cada paraula de l'oració té una etiqueta i, per tant, per a cada oració tindrem una llista d'etiquetes. El *padding* el codificarem amb l'etiqueta corresponent a **O** (outside). Per ajudar-vos hem preparat el processament per a les etiquetes d'entrenament, intenteu comprendre el que es fa i així repetir-ho per a la partició de validació i test.\n",
    "\n",
    " 3. Finalment, haureu de convertir les diferents classes a vectors one-hot. Recordeu de nou que per a cada oració tindrem una llista de vectors one-hot.\n",
    "\n",
    "\n",
    " Podeu consultar els apartats de la documentació:\n",
    " * <a href=https://www.tensorflow.org/guide/keras/understanding_masking_and_padding> Masking and Padding </a>\n",
    "\n",
    " * <a href=https://www.tensorflow.org/api_docs/python/tf/keras/utils/to_categorical> To Categorical </a>\n",
    "\n"
   ]
  },
  {
   "cell_type": "code",
   "execution_count": 197,
   "metadata": {
    "colab": {
     "base_uri": "https://localhost:8080/",
     "height": 502
    },
    "executionInfo": {
     "elapsed": 3003,
     "status": "error",
     "timestamp": 1729339845912,
     "user": {
      "displayName": "Jordi Luque",
      "userId": "10816317814088701546"
     },
     "user_tz": -120
    },
    "id": "Xl8GyFz4MgY3",
    "outputId": "534922cc-2c49-4b35-a3e2-c6c387128a4f"
   },
   "outputs": [
    {
     "name": "stdout",
     "output_type": "stream",
     "text": [
      "Number of different entities: 119\n",
      "Unique entities: ['O', 'B-fromloc.city_name', 'B-depart_time.time', 'I-depart_time.time', 'B-toloc.city_name', 'B-arrive_time.time', 'B-arrive_time.period_of_day', 'B-depart_date.day_name', 'B-depart_time.period_of_day', 'B-flight_time', 'I-flight_time', 'I-fromloc.city_name', 'B-cost_relative', 'B-round_trip', 'I-round_trip', 'B-fare_amount', 'I-fare_amount', 'B-depart_date.today_relative', 'I-toloc.city_name', 'B-city_name', 'B-stoploc.city_name', 'B-toloc.airport_code', 'B-depart_time.time_relative', 'B-class_type', 'I-class_type', 'B-depart_date.date_relative', 'B-airline_name', 'I-airline_name', 'B-arrive_time.time_relative', 'B-depart_time.start_time', 'I-depart_time.start_time', 'B-depart_time.end_time', 'I-depart_time.end_time', 'B-fromloc.airport_name', 'I-fromloc.airport_name', 'B-toloc.state_name', 'B-depart_date.day_number', 'I-depart_date.day_number', 'B-depart_date.month_name', 'B-mod', 'B-fare_basis_code', 'B-transport_type', 'B-flight_mod', 'I-cost_relative', 'B-arrive_date.month_name', 'B-arrive_date.day_number', 'B-meal', 'B-toloc.state_code', 'B-meal_description', 'B-return_date.month_name', 'B-return_date.day_number', 'B-airline_code', 'B-depart_time.period_mod', 'I-arrive_time.time', 'B-flight_stop', 'I-city_name', 'B-fromloc.airport_code', 'B-arrive_date.day_name', 'B-time', 'B-or', 'I-arrive_date.day_number', 'B-economy', 'I-economy', 'B-flight_number', 'B-arrive_time.period_mod', 'I-transport_type', 'B-flight_days', 'I-stoploc.city_name', 'B-toloc.airport_name', 'I-toloc.airport_name', 'B-state_code', 'I-flight_stop', 'B-arrive_time.start_time', 'B-arrive_time.end_time', 'I-arrive_time.end_time', 'B-fromloc.state_name', 'I-fromloc.state_name', 'B-arrive_date.date_relative', 'B-depart_date.year', 'B-return_date.date_relative', 'B-airport_code', 'B-aircraft_code', 'B-fromloc.state_code', 'B-connect', 'I-arrive_time.start_time', 'B-restriction_code', 'I-restriction_code', 'I-toloc.state_name', 'B-airport_name', 'I-airport_name', 'B-toloc.country_name', 'B-days_code', 'I-fare_basis_code', 'I-arrive_time.time_relative', 'I-arrive_time.period_of_day', 'I-depart_time.time_relative', 'B-day_name', 'B-period_of_day', 'I-depart_date.day_name', 'B-today_relative', 'B-stoploc.state_code', 'B-meal_code', 'I-meal_code', 'I-today_relative', 'I-flight_mod', 'B-state_name', 'B-stoploc.airport_name', 'B-arrive_date.today_relative', 'B-time_relative', 'I-time', 'B-return_time.period_of_day', 'I-return_date.day_number', 'I-depart_time.period_of_day', 'B-return_time.period_mod', 'I-depart_date.today_relative', 'I-mod', 'B-month_name', 'B-day_number', 'I-return_date.date_relative']\n",
      "False\n"
     ]
    }
   ],
   "source": [
    "#TODO\n",
    "#Step 1\n",
    "def count_unique_entities(list_of_label_sentences): # No jentenc lo de que haurem de modificar la funció\n",
    "  flat_labels = []\n",
    "  for labels in list_of_label_sentences:\n",
    "    flat_labels += labels.split()\n",
    "  c = Counter(flat_labels)\n",
    "  return len(c), list(c.keys())\n",
    "\n",
    "\n",
    "num_unique_entities, unique_entities = count_unique_entities(train_labels)\n",
    "\n",
    "print(\"Number of different entities:\", num_unique_entities)\n",
    "print(\"Unique entities:\", unique_entities)\n",
    "print(\"U-depart_time.time\" in unique_entities)\n"
   ]
  },
  {
   "cell_type": "code",
   "execution_count": 198,
   "metadata": {},
   "outputs": [],
   "source": [
    "\n",
    "#Step 2\n",
    "\n",
    "label_encoder = LabelEncoder()\n",
    "\n",
    "\n",
    "label = label_encoder.fit([\"<pad>\"]+list(unique_entities))\n",
    "train_numerical_labels =[label_encoder.transform(t.split()) for t in train_labels]\n",
    "train_pad_labels = pad_sequences(train_numerical_labels, maxlen=max_sequence_length, padding=\"post\")\n"
   ]
  },
  {
   "cell_type": "code",
   "execution_count": 199,
   "metadata": {},
   "outputs": [
    {
     "data": {
      "text/plain": [
       "array([119, 119, 119, 119, 119,  46, 119,  34,  95, 119, 119, 119,  73,\n",
       "       119,  15, 119, 119,  13,   0,   0,   0,   0,   0,   0,   0,   0,\n",
       "         0,   0,   0,   0,   0,   0,   0,   0,   0,   0,   0,   0,   0,\n",
       "         0,   0,   0,   0,   0,   0,   0])"
      ]
     },
     "execution_count": 199,
     "metadata": {},
     "output_type": "execute_result"
    }
   ],
   "source": [
    "train_pad_labels[0]"
   ]
  },
  {
   "cell_type": "code",
   "execution_count": 200,
   "metadata": {},
   "outputs": [
    {
     "name": "stdout",
     "output_type": "stream",
     "text": [
      "[' O O O O O O O O B-fromloc.city_name O B-toloc.city_name I-toloc.city_name O O O O O B-stoploc.city_name I-stoploc.city_name', ' O B-depart_date.month_name B-depart_date.day_number O O O O O B-fromloc.city_name O B-toloc.city_name I-toloc.city_name O B-depart_time.time_relative B-depart_time.time I-depart_time.time', ' O B-depart_date.month_name B-depart_date.day_number O O O O O O B-fromloc.city_name O B-toloc.city_name I-toloc.city_name', ' O O O O O O B-round_trip I-round_trip O B-fromloc.city_name O B-toloc.city_name I-toloc.city_name O B-depart_date.month_name B-depart_date.day_number', ' O O O O O O B-fromloc.city_name O B-toloc.city_name I-toloc.city_name I-toloc.city_name O B-depart_date.month_name B-depart_date.day_number O B-airline_name I-airline_name', ' O O O O O B-fromloc.city_name O B-toloc.city_name B-round_trip I-round_trip O B-depart_date.day_name B-depart_time.period_of_day O B-depart_date.day_name B-depart_time.period_of_day', ' B-depart_date.day_name B-depart_time.period_of_day O O O O O O B-fromloc.city_name O B-toloc.city_name', ' O B-depart_date.day_name B-depart_date.month_name B-depart_date.day_number O O O O O O B-fromloc.city_name I-fromloc.city_name O B-toloc.city_name B-depart_time.time_relative B-depart_time.time I-depart_time.time', ' B-depart_time.time_relative B-depart_time.time I-depart_time.time O B-depart_date.day_name B-depart_date.month_name B-depart_date.day_number O O O O O O B-fromloc.city_name I-fromloc.city_name O B-toloc.city_name', ' O O O O O B-fromloc.city_name I-fromloc.city_name O B-toloc.city_name O B-depart_date.day_name B-depart_date.month_name B-depart_date.day_number', ' O O O O B-fromloc.city_name O B-toloc.city_name B-meal_description', ' O B-depart_date.date_relative B-depart_date.day_name O O B-fromloc.city_name I-fromloc.city_name O B-toloc.city_name O O O B-toloc.city_name B-arrive_time.time_relative B-arrive_time.time I-arrive_time.time O O O B-return_date.day_name', ' O O O O B-fromloc.city_name I-fromloc.city_name O B-toloc.city_name O B-depart_date.date_relative B-depart_date.day_name O O B-toloc.city_name B-arrive_time.time_relative B-arrive_time.time I-arrive_time.time', ' O O B-airline_name O B-fromloc.city_name O B-toloc.city_name O O B-toloc.city_name B-arrive_time.time_relative B-arrive_time.time I-arrive_time.time', ' O O O B-toloc.city_name I-toloc.city_name I-toloc.city_name B-arrive_date.date_relative B-arrive_date.day_name', ' O B-flight_stop O O B-fromloc.city_name I-fromloc.city_name I-fromloc.city_name O B-toloc.city_name I-toloc.city_name O B-depart_date.day_name B-depart_date.month_name B-depart_date.day_number', ' O O O B-fromloc.city_name O B-toloc.city_name O B-depart_date.today_relative', ' O O B-depart_date.today_relative B-depart_time.period_of_day O B-fromloc.city_name O B-toloc.city_name I-toloc.city_name', ' O O B-depart_date.day_name B-depart_time.period_of_day O B-fromloc.city_name I-fromloc.city_name O B-toloc.city_name', ' O O O B-fromloc.city_name O B-toloc.city_name I-toloc.city_name O B-depart_date.day_name', ' O O O B-fromloc.city_name O B-toloc.city_name O B-depart_date.day_name', ' O O B-depart_date.day_name B-depart_time.period_of_day O B-fromloc.city_name O B-toloc.city_name I-toloc.city_name', ' O O B-depart_date.day_name B-depart_time.period_of_day O B-fromloc.city_name I-fromloc.city_name O B-toloc.city_name', ' O O O O B-fromloc.city_name I-fromloc.city_name O B-toloc.city_name I-toloc.city_name', ' O O O O B-fromloc.city_name I-fromloc.city_name O B-toloc.city_name I-toloc.city_name', ' O O O O B-fromloc.city_name I-fromloc.city_name O B-toloc.city_name I-toloc.city_name O B-depart_date.month_name B-depart_date.day_number', ' O O O O B-fromloc.city_name I-fromloc.city_name O B-toloc.city_name I-toloc.city_name B-toloc.state_name O O O B-arrive_date.month_name B-arrive_date.day_number O B-arrive_time.start_time O B-arrive_time.end_time I-arrive_time.end_time', ' O O O B-airline_name I-airline_name O O B-fromloc.city_name O B-toloc.city_name', ' O O O O B-fromloc.city_name O B-toloc.city_name O B-depart_date.month_name B-depart_date.day_number', ' O O O O B-fromloc.city_name O B-toloc.city_name I-toloc.city_name O B-depart_date.month_name B-depart_date.day_number', ' O O O O B-fromloc.city_name O B-toloc.city_name O B-depart_date.month_name B-depart_date.day_number', ' O O O O B-fromloc.city_name O B-toloc.city_name', ' O B-airport_name I-airport_name O O O O O O O O O', ' O O O O B-fromloc.city_name O B-toloc.city_name I-toloc.city_name', ' O O O O O O O O B-fromloc.city_name O B-toloc.city_name O O', ' O O O O O B-fromloc.city_name O B-toloc.city_name I-toloc.city_name', ' O O O O O O O O B-fromloc.city_name I-fromloc.city_name O B-toloc.city_name O O', ' O O O O O B-fromloc.city_name O B-toloc.city_name I-toloc.city_name', ' O O O O O O O B-fromloc.city_name O B-toloc.city_name', ' O O O O O B-fromloc.city_name O B-toloc.city_name B-connect O B-stoploc.city_name I-stoploc.city_name', ' O O O O O B-fromloc.city_name O B-toloc.city_name B-connect O B-stoploc.city_name', ' O O O O B-meal_description', ' O O O O O B-fromloc.city_name O B-toloc.city_name', ' O O O B-flight_stop O O B-fromloc.city_name O B-toloc.city_name', ' O O O B-flight_stop O O B-fromloc.city_name O B-toloc.city_name I-toloc.city_name', ' O O O O O B-fromloc.city_name O B-toloc.city_name I-toloc.city_name', ' O O O O O B-fromloc.city_name I-fromloc.city_name O B-toloc.city_name', ' O O O O O B-airline_name I-airline_name O B-fromloc.airport_name I-fromloc.airport_name O B-toloc.city_name I-toloc.city_name', ' O O O O O B-fromloc.city_name O B-toloc.city_name', ' O O O O O B-fromloc.city_name O B-toloc.city_name', ' O B-meal O O O B-airline_name O B-flight_number O B-fromloc.city_name O B-toloc.city_name', ' O B-meal O O O B-airline_name O B-flight_number I-flight_number O B-fromloc.city_name O B-toloc.city_name', ' O O O O O B-fromloc.city_name O B-toloc.city_name I-toloc.city_name', ' O O O O O B-fromloc.city_name I-fromloc.city_name O B-toloc.city_name', ' O O O O O B-fromloc.city_name O B-toloc.city_name', ' O O O O B-fromloc.city_name O B-toloc.city_name O O O B-stoploc.city_name', ' O O O B-fromloc.city_name B-depart_time.time_relative B-depart_time.period_of_day B-depart_date.date_relative B-depart_date.day_name O O O B-toloc.city_name I-toloc.city_name', ' O O O B-fromloc.city_name O O O B-toloc.city_name I-toloc.city_name B-arrive_time.time_relative B-arrive_time.time I-arrive_time.time', ' O O O B-airline_name I-airline_name O B-fromloc.city_name O O O B-toloc.city_name I-toloc.city_name', ' O O O B-fromloc.city_name B-depart_date.date_relative B-depart_date.day_name O O O B-toloc.city_name B-arrive_time.time_relative B-arrive_time.time I-arrive_time.time', ' O O B-round_trip I-round_trip O O B-fromloc.city_name O B-toloc.city_name O B-depart_date.date_relative B-depart_date.day_name O O O B-return_date.date_relative I-return_date.date_relative', ' O B-round_trip I-round_trip O O B-fromloc.city_name B-depart_date.date_relative B-depart_date.day_name B-depart_time.time_relative B-depart_time.time I-depart_time.time O O O B-toloc.city_name', ' O B-round_trip I-round_trip O O B-fromloc.city_name B-depart_date.date_relative B-depart_date.day_name O O O B-toloc.city_name B-arrive_time.time_relative B-arrive_time.time I-arrive_time.time', ' O O O O B-depart_date.day_name O B-fromloc.city_name O O O B-toloc.city_name O O B-arrive_time.period_of_day', ' O O O B-fromloc.city_name O B-depart_date.month_name B-depart_date.day_number O O O B-toloc.city_name O O B-arrive_time.period_of_day', ' O O O O B-depart_date.day_name B-depart_date.month_name B-depart_date.day_number O B-fromloc.city_name O O O B-toloc.city_name O O B-arrive_time.period_of_day', ' O O O B-depart_date.month_name B-depart_date.day_number O B-fromloc.city_name O O O B-toloc.city_name B-arrive_time.time_relative B-arrive_time.time I-arrive_time.time', ' O O O O O O B-fromloc.city_name I-fromloc.city_name O B-toloc.city_name I-toloc.city_name O O O O O O O B-stoploc.city_name O O O O O O B-meal_description O O O', ' B-depart_date.date_relative B-depart_date.day_name O O O O O B-fromloc.city_name I-fromloc.city_name O O O O B-toloc.city_name O O O B-toloc.city_name B-arrive_time.time_relative B-arrive_time.time I-arrive_time.time', ' O O O O O O B-fromloc.city_name B-depart_time.time_relative B-depart_time.time I-depart_time.time O B-toloc.city_name I-toloc.city_name', ' O O O O O B-depart_date.today_relative B-depart_time.period_of_day O O B-airline_name O O B-fromloc.city_name O B-toloc.city_name', ' O B-depart_date.day_name B-depart_time.period_of_day O O O O O B-fromloc.city_name B-fromloc.state_name O O O O B-toloc.city_name I-toloc.city_name B-toloc.state_name', ' O O O O O B-depart_date.day_name O B-fromloc.city_name B-fromloc.state_name O B-toloc.city_name I-toloc.city_name B-toloc.state_name', ' O B-depart_date.day_name O O O O B-fromloc.city_name I-fromloc.city_name B-fromloc.state_name O B-toloc.city_name B-toloc.state_name O O O O O O O O O B-depart_time.period_of_day', ' O B-depart_date.day_name B-depart_time.period_of_day O O O O B-flight_stop O O B-fromloc.city_name O B-toloc.city_name', ' O B-depart_date.day_name B-depart_time.period_of_day O O O O O O B-fromloc.city_name O B-toloc.city_name', ' O O O O B-depart_time.period_of_day B-depart_time.period_of_day O B-depart_date.today_relative O B-fromloc.city_name I-fromloc.city_name O B-toloc.city_name', ' O B-depart_date.day_name B-depart_time.period_of_day O O O O O O B-fromloc.city_name O B-toloc.city_name', ' O B-depart_date.day_name B-depart_time.period_of_day O O O O O O B-fromloc.city_name O B-toloc.city_name I-toloc.city_name', ' O O O O B-fromloc.city_name O B-toloc.city_name O O O B-stoploc.city_name I-stoploc.city_name', ' O O O O O B-fromloc.city_name B-fromloc.state_name O B-toloc.city_name I-toloc.city_name B-toloc.state_name O B-arrive_time.time_relative B-arrive_time.time I-arrive_time.time I-arrive_time.time', ' O O O O O B-fromloc.city_name I-fromloc.city_name O B-toloc.state_name', ' O O O O O B-fromloc.city_name B-fromloc.state_name O B-toloc.city_name I-toloc.city_name O B-arrive_time.time_relative B-arrive_time.time I-arrive_time.time', ' O O O O O B-fromloc.city_name I-fromloc.city_name O B-toloc.city_name O B-depart_date.day_name', ' O O O O O B-fromloc.city_name I-fromloc.city_name O B-toloc.city_name O B-airline_name I-airline_name', ' O O O O O B-fromloc.city_name O B-toloc.city_name O O O O B-stoploc.city_name B-depart_date.today_relative', ' O O O O O O B-fromloc.city_name O B-toloc.city_name B-flight_stop O B-meal_description O', ' O O O O O B-fromloc.city_name I-fromloc.city_name O B-toloc.city_name', ' O O O O O O O B-fromloc.city_name I-fromloc.city_name O B-toloc.city_name O B-toloc.city_name O O B-toloc.city_name I-toloc.city_name', ' O O O O O B-fromloc.city_name I-fromloc.city_name O B-toloc.city_name', ' O O O O O B-fromloc.city_name O B-toloc.city_name', ' O O O O O B-fromloc.city_name O B-toloc.city_name I-toloc.city_name', ' O O O O O O B-fromloc.city_name O B-toloc.city_name O B-stoploc.city_name O O B-depart_time.period_of_day', ' O O O O O O O O O B-city_name I-city_name', ' O O O O B-toloc.city_name O O O O O O O B-fromloc.city_name I-fromloc.city_name', ' O O O O B-toloc.city_name O B-fromloc.city_name I-fromloc.city_name O B-arrive_date.day_name O O B-arrive_time.period_of_day', ' O O O O B-toloc.city_name O B-fromloc.city_name I-fromloc.city_name O B-depart_date.day_name B-depart_date.month_name B-depart_date.day_number I-depart_date.day_number O O B-depart_time.period_of_day', ' O O O O O B-fromloc.city_name O B-toloc.city_name O O B-arrive_time.time_relative B-arrive_time.time I-arrive_time.time', ' O O O O O B-fromloc.city_name O B-toloc.city_name I-toloc.city_name O B-depart_date.month_name B-depart_date.day_number I-depart_date.day_number O O B-depart_time.period_of_day I-depart_time.period_of_day', ' O O O B-fromloc.city_name O O B-toloc.city_name O B-depart_date.month_name B-depart_date.day_number I-depart_date.day_number O O B-depart_time.period_of_day', ' O O O O O B-depart_date.month_name B-depart_date.day_number I-depart_date.day_number O O B-depart_time.period_of_day O B-fromloc.city_name O B-toloc.city_name', ' O O O O O B-fromloc.city_name O B-toloc.city_name I-toloc.city_name O O B-depart_time.period_of_day O B-depart_date.month_name B-depart_date.day_number I-depart_date.day_number', ' O O O O O B-fromloc.city_name I-fromloc.city_name O B-toloc.city_name O O O B-depart_time.period_of_day O B-depart_date.month_name B-depart_date.day_number I-depart_date.day_number', ' O O O B-cost_relative I-cost_relative B-round_trip I-round_trip O O B-fromloc.city_name O B-toloc.city_name I-toloc.city_name', ' O O O O B-fromloc.city_name O B-toloc.city_name I-toloc.city_name', ' O O O B-flight_time I-flight_time O B-fromloc.city_name O B-toloc.city_name I-toloc.city_name', ' O O O B-flight_mod O O B-fromloc.city_name O B-toloc.city_name O O B-meal_description', ' O O O B-flight_mod O O B-fromloc.city_name O B-toloc.city_name O O B-meal_description', ' O O O O B-fromloc.city_name O B-airline_name I-airline_name O B-class_type I-class_type', ' O O O O B-fromloc.city_name O B-toloc.city_name I-toloc.city_name', ' O O O B-flight_mod B-meal_description O O B-fromloc.city_name O B-toloc.city_name', ' O O O B-airline_name O O B-fromloc.city_name O B-toloc.city_name O O O B-stoploc.city_name', ' O O O O O B-fromloc.city_name O B-toloc.city_name O O O B-stoploc.city_name', ' O B-fromloc.city_name O B-toloc.city_name I-toloc.city_name O O O O B-stoploc.city_name', ' O O O B-connect O O B-fromloc.city_name O B-toloc.city_name O O O O O O', ' O O O O B-depart_time.period_of_day O O B-fromloc.city_name O B-toloc.city_name I-toloc.city_name', ' O O O O O O B-fromloc.city_name I-fromloc.city_name O B-toloc.city_name I-toloc.city_name', ' O O B-airline_name O B-flight_number O B-fromloc.city_name I-fromloc.city_name O B-toloc.city_name I-toloc.city_name', ' O O O O O O B-fromloc.city_name O B-toloc.city_name O B-depart_date.day_name', ' O O O O O O O B-airport_name I-airport_name B-city_name I-city_name O O B-city_name', ' O O O O O O B-fromloc.city_name O B-toloc.city_name O O O B-depart_time.time I-depart_time.time O B-depart_time.time_relative O B-depart_date.day_name', ' O O O O O O B-fromloc.city_name O B-toloc.city_name O B-depart_date.day_name B-depart_time.period_of_day', ' O O O B-connect O O B-fromloc.city_name O B-toloc.city_name O B-depart_date.day_name B-depart_time.period_of_day', ' O O O B-airline_code B-flight_number O B-depart_date.day_name O B-fromloc.city_name O B-toloc.city_name O', ' O O O O O O B-fromloc.city_name O B-toloc.city_name O B-depart_date.day_name O O B-depart_time.time_relative B-depart_time.time I-depart_time.time', ' O O O O O B-fromloc.city_name O B-toloc.state_name', ' O O O O O O B-fromloc.city_name O B-toloc.city_name O B-depart_date.day_name B-depart_time.period_of_day', ' O O O B-airline_code B-flight_number O B-fromloc.city_name O B-toloc.city_name O B-depart_date.day_name O O O B-flight_number O B-fromloc.city_name O B-toloc.city_name O B-depart_date.day_name O O B-airline_code B-flight_number O B-fromloc.city_name O B-toloc.city_name', ' O O O O O O B-fromloc.city_name I-fromloc.city_name O B-toloc.city_name I-toloc.city_name I-toloc.city_name', ' O O O O O B-fromloc.city_name I-fromloc.city_name O B-toloc.city_name I-toloc.city_name I-toloc.city_name', ' O O O O O O B-airline_name I-airline_name O B-airline_code O B-fromloc.city_name I-fromloc.city_name O B-toloc.airport_code O O B-depart_date.day_name', ' O O O O O B-fromloc.city_name O B-toloc.city_name O O B-depart_time.time_relative B-depart_time.time I-depart_time.time B-depart_date.today_relative', ' O O O O O O B-fromloc.city_name I-fromloc.city_name O B-toloc.city_name O B-depart_date.month_name B-depart_date.day_number', ' O O O B-airline_name I-airline_name O O B-fromloc.city_name O B-toloc.city_name O B-depart_date.month_name B-depart_date.day_number B-depart_time.time_relative B-depart_time.time I-depart_time.time', ' O O O B-airline_name I-airline_name O O B-fromloc.city_name O B-toloc.city_name O B-depart_date.month_name B-depart_date.day_number B-depart_time.time_relative B-depart_time.time I-depart_time.time', ' O O O O O B-fromloc.city_name O B-toloc.city_name O B-arrive_date.month_name B-arrive_date.day_number B-arrive_time.time_relative B-arrive_time.time I-arrive_time.time', ' O O O O O O B-city_name', ' O O O O O O B-transport_type O B-city_name', ' O O O O O O O O B-city_name', ' O O O O O B-fromloc.city_name O B-toloc.city_name I-toloc.city_name O B-depart_date.month_name B-depart_date.day_number B-depart_time.time_relative B-depart_time.time I-depart_time.time', ' O O O O O O B-city_name I-city_name', ' O O O O O B-airline_name I-airline_name O O B-depart_date.month_name B-depart_date.day_number O B-fromloc.city_name I-fromloc.city_name O B-toloc.city_name B-depart_time.time_relative B-depart_time.time I-depart_time.time', ' O B-airline_name I-airline_name O O B-depart_date.month_name B-depart_date.day_number O O B-fromloc.city_name I-fromloc.city_name O B-toloc.city_name', ' O B-depart_date.month_name B-depart_date.day_number O O O O B-fromloc.city_name I-fromloc.city_name O B-toloc.city_name', ' O B-airline_name I-airline_name O O B-fromloc.city_name O B-toloc.city_name O B-depart_date.month_name B-depart_date.day_number', ' O O O O B-fromloc.city_name O B-toloc.city_name O B-depart_date.month_name B-depart_date.day_number', ' O O O O B-fromloc.city_name O B-toloc.city_name I-toloc.city_name O B-depart_date.month_name B-depart_date.day_number', ' O O O O B-fromloc.city_name I-fromloc.city_name O B-toloc.city_name O B-depart_date.month_name B-depart_date.day_number', ' O O O O B-fromloc.city_name O B-toloc.city_name I-toloc.city_name O B-depart_date.month_name B-depart_date.day_number', ' O O O O B-fromloc.city_name I-fromloc.city_name O B-toloc.city_name O B-depart_date.month_name B-depart_date.day_number', ' O O O O B-fromloc.city_name O B-toloc.city_name O B-depart_date.month_name B-depart_date.day_number', ' O O O O B-fromloc.city_name O B-toloc.city_name O B-depart_date.month_name B-depart_date.day_number B-depart_time.time_relative B-depart_time.time I-depart_time.time', ' O O O O B-fromloc.city_name O B-toloc.city_name I-toloc.city_name O B-depart_date.month_name B-depart_date.day_number', ' O O O O B-fromloc.city_name I-fromloc.city_name O B-toloc.city_name O B-depart_date.month_name B-depart_date.day_number O B-depart_time.time_relative B-depart_time.time I-depart_time.time', ' O O O O B-fromloc.airport_name I-fromloc.airport_name O B-depart_time.start_time O B-depart_time.end_time I-depart_time.end_time O B-depart_date.month_name B-depart_date.day_number', ' O O O O B-toloc.airport_name I-toloc.airport_name O B-arrive_date.month_name B-arrive_date.day_number', ' O O O O B-fromloc.city_name O B-toloc.city_name B-depart_time.time_relative B-depart_time.time I-depart_time.time', ' O O O O B-fromloc.city_name O B-toloc.city_name', ' O O O O B-fromloc.city_name O B-toloc.city_name', ' O O O O B-fromloc.city_name O B-toloc.city_name O O B-arrive_date.month_name B-arrive_date.day_number', ' O O O O B-fromloc.city_name O B-toloc.city_name O B-arrive_date.month_name B-arrive_date.day_number', ' O O O O B-fromloc.city_name O B-toloc.city_name O O B-arrive_date.month_name B-arrive_date.day_number', ' O O O O B-airline_name I-airline_name I-airline_name', ' O O B-airline_name I-airline_name I-airline_name O O B-aircraft_code', ' O O B-airline_name I-airline_name I-airline_name O O O B-aircraft_code', ' O O B-airline_name I-airline_name O O O B-aircraft_code', ' O O O O O B-airline_name I-airline_name O O O B-fromloc.city_name I-fromloc.city_name O B-toloc.city_name B-toloc.country_name O O O O B-stoploc.city_name I-stoploc.city_name', ' O O O O O B-airline_name I-airline_name O O O B-fromloc.city_name I-fromloc.city_name O B-toloc.city_name B-toloc.state_name O O O B-stoploc.city_name I-stoploc.city_name', ' O O O B-mod O B-city_name B-state_name', ' O O O O O B-fromloc.city_name O B-toloc.city_name', ' O O O O O B-fromloc.city_name O B-toloc.city_name', ' O O O O O B-fromloc.city_name O B-toloc.city_name I-toloc.city_name', ' O O O B-cost_relative B-round_trip I-round_trip B-class_type O O B-fromloc.city_name I-fromloc.city_name O B-toloc.city_name', ' O O O B-cost_relative B-round_trip I-round_trip B-class_type O O B-airline_code O B-fromloc.city_name I-fromloc.city_name O B-toloc.city_name', ' O O O B-airline_name O O O O B-meal_description O B-compartment O', ' O O O O B-meal_code', ' O B-meal O O O B-airline_code B-flight_number O O O O B-toloc.city_name I-toloc.city_name O B-arrive_time.time I-arrive_time.time', ' O O O B-airline_name O O B-fromloc.city_name O B-toloc.city_name I-toloc.city_name', ' O O B-airline_name O B-flight_number', ' O O B-airline_name I-airline_name O O B-day_name', ' O O B-airline_name I-airline_name O O B-meal', ' O O O O B-fromloc.city_name', ' O O O O B-fromloc.city_name O O O B-toloc.city_name I-toloc.city_name O O B-arrive_date.day_name', ' O O O O B-fromloc.city_name O O B-depart_time.period_of_day O O O B-toloc.city_name', ' O O O O B-fromloc.city_name O O O B-toloc.city_name O O B-arrive_time.period_of_day', ' O O O O B-fromloc.city_name O O B-depart_time.period_of_day B-depart_time.period_of_day O O O B-toloc.city_name', ' O O O O B-fromloc.city_name O O O B-toloc.city_name', ' O O O O O B-fromloc.city_name O O O B-toloc.city_name', ' O O O O B-fromloc.city_name O O O B-toloc.city_name B-toloc.state_code', ' O O O O B-fromloc.city_name I-fromloc.city_name O O O B-toloc.city_name I-toloc.city_name B-arrive_time.time_relative B-arrive_time.time I-arrive_time.time', ' O O O B-city_name I-city_name I-city_name B-airport_name I-airport_name O O', ' O O O B-airport_name I-airport_name O O', ' O O O B-airport_name I-airport_name I-airport_name O O', ' O O O B-airport_name I-airport_name I-airport_name O O', ' O O O O B-transport_type O O B-city_name', ' O O O O B-transport_type O O B-airport_name I-airport_name', ' O O O O B-transport_type O O B-airport_name I-airport_name', ' O O O B-transport_type O O B-city_name I-city_name', ' O O O O B-fromloc.city_name B-fromloc.state_code O B-toloc.city_name B-toloc.state_name', ' O O O O O B-fromloc.city_name B-fromloc.state_code O B-toloc.city_name B-toloc.state_name', ' O O O O O B-fromloc.city_name B-fromloc.state_code O B-toloc.city_name B-toloc.state_name', ' O O O O O O O O B-fromloc.city_name O B-toloc.city_name', ' O O B-city_name I-city_name O O O O O O O O O B-airline_name I-airline_name', ' O O B-airline_name I-airline_name O O O B-toloc.city_name O B-arrive_date.day_name O B-arrive_time.time I-arrive_time.time', ' O O O B-class_type I-class_type B-round_trip I-round_trip O O O B-fromloc.city_name O B-toloc.city_name', ' O O O O B-fromloc.city_name O B-toloc.city_name', ' O O O O O O O B-fromloc.city_name O B-toloc.city_name O O B-depart_date.day_name B-depart_time.period_of_day', ' O O O O O O O B-fromloc.city_name O B-toloc.city_name O O B-depart_date.day_name B-depart_time.period_of_day', ' O O O O O O O O O O B-fromloc.city_name O B-toloc.city_name', ' O O O O B-fromloc.city_name O B-toloc.city_name I-toloc.city_name O B-depart_date.day_name', ' O O O O B-fromloc.city_name I-fromloc.city_name O B-toloc.city_name', ' O O O O B-fromloc.city_name O B-toloc.city_name', ' O O O O B-fromloc.city_name O B-toloc.city_name O B-depart_date.day_name', ' O O B-depart_date.day_name O O B-fromloc.city_name O B-toloc.city_name O O O', ' O O O O O B-fromloc.city_name', ' O O O O B-fromloc.city_name O B-toloc.city_name I-toloc.city_name', ' O O O O O O B-fromloc.city_name O B-toloc.city_name I-toloc.city_name O', ' O O O O O B-fromloc.city_name I-fromloc.city_name O B-toloc.city_name B-depart_time.period_mod B-depart_date.day_name B-depart_time.period_of_day', ' O O O O B-fromloc.city_name O O O B-toloc.city_name I-toloc.city_name B-arrive_time.time_relative O B-arrive_time.time I-arrive_time.time O B-arrive_date.day_name', ' O O O O B-fromloc.city_name I-fromloc.city_name O B-toloc.city_name I-toloc.city_name O O B-depart_time.time_relative B-depart_time.time I-depart_time.time B-depart_date.day_name B-depart_time.period_of_day', ' O O O B-fromloc.city_name I-fromloc.city_name O B-toloc.city_name I-toloc.city_name B-depart_date.day_name O O B-depart_time.period_of_day O O B-meal O', ' O B-depart_time.period_of_day B-depart_time.period_of_day O O B-fromloc.city_name O B-toloc.city_name', ' O B-depart_time.period_of_day B-depart_time.period_of_day O O B-fromloc.city_name O B-toloc.city_name', ' O B-depart_time.period_of_day O O B-fromloc.city_name O B-toloc.city_name', ' O O O B-fromloc.city_name O B-toloc.city_name B-depart_date.day_name B-depart_time.period_of_day', ' O O O B-fromloc.city_name O B-toloc.city_name B-depart_date.day_name B-depart_time.period_of_day', ' O O O B-fromloc.city_name O B-toloc.city_name B-toloc.state_code B-depart_date.day_name B-depart_time.period_of_day', ' O O O B-fromloc.city_name B-fromloc.state_code O B-toloc.city_name B-depart_date.day_name B-depart_time.period_of_day', ' O B-connect O O B-fromloc.city_name I-fromloc.city_name I-fromloc.city_name O B-toloc.city_name I-toloc.city_name B-depart_time.time_relative B-depart_time.time I-depart_time.time', ' O O O O B-airline_name I-airline_name O B-flight_number O B-fromloc.airport_code O B-toloc.airport_code', ' O O O O B-fare_basis_code', ' O O O O O O B-fromloc.airport_name I-fromloc.airport_name O O B-city_name', ' O O O O O O B-fromloc.city_name I-fromloc.city_name I-fromloc.city_name B-fromloc.airport_name I-fromloc.airport_name I-fromloc.airport_name O O B-city_name I-city_name I-city_name', ' O O O O O O B-fromloc.airport_name I-fromloc.airport_name I-fromloc.airport_name O O B-city_name', ' O O O O O O B-fromloc.airport_name I-fromloc.airport_name I-fromloc.airport_name I-fromloc.airport_name O B-toloc.city_name I-toloc.city_name O', ' O B-transport_type O O O B-city_name I-city_name I-city_name', ' O B-airline_name I-airline_name O O B-fromloc.city_name O B-toloc.city_name O B-depart_date.day_name B-depart_time.period_of_day', ' O O O B-fromloc.city_name O B-toloc.city_name B-depart_date.day_name B-depart_time.period_of_day', ' O B-airline_name I-airline_name O O B-fromloc.city_name O B-toloc.city_name I-toloc.city_name B-depart_date.day_name', ' O B-airline_name I-airline_name O O B-fromloc.city_name I-fromloc.city_name O B-toloc.city_name B-depart_date.day_name B-depart_time.period_of_day', ' O O O B-fromloc.city_name O B-toloc.city_name O B-arrive_date.day_name B-arrive_time.period_of_day', ' O O O O B-fromloc.city_name O B-toloc.city_name I-toloc.city_name I-toloc.city_name', ' O O O O O O O B-aircraft_code', ' O O O O O O B-airline_name B-aircraft_code', ' O O O B-fromloc.city_name O B-toloc.city_name I-toloc.city_name I-toloc.city_name O B-airline_name B-aircraft_code', ' O O O B-fromloc.city_name O B-toloc.city_name I-toloc.city_name I-toloc.city_name O B-airline_name B-aircraft_code', ' O O O B-fromloc.city_name O B-toloc.city_name B-flight_days', ' O O O B-fromloc.city_name O B-toloc.city_name B-flight_days', ' O O O B-fromloc.city_name O B-toloc.city_name B-flight_days', ' O B-airline_name I-airline_name O O B-depart_date.day_name O B-fromloc.airport_name I-fromloc.airport_name O B-depart_time.time I-depart_time.time', ' O B-airline_name I-airline_name O O B-depart_date.day_name O B-fromloc.airport_name I-fromloc.airport_name B-depart_time.time_relative B-depart_time.time I-depart_time.time', ' O B-class_type I-class_type O B-round_trip I-round_trip O B-fromloc.city_name O B-toloc.city_name', ' O O O O B-fare_basis_code', ' O O O B-fromloc.city_name O B-toloc.city_name B-depart_date.day_name B-depart_time.period_of_day', ' O O O B-fromloc.city_name O B-toloc.city_name B-depart_date.day_name', ' O O O B-fromloc.city_name B-fromloc.state_name O B-toloc.city_name B-toloc.state_name', ' O O O B-fromloc.city_name B-fromloc.state_name O B-toloc.city_name I-toloc.city_name I-toloc.city_name B-toloc.state_name', ' O O O B-fromloc.city_name B-fromloc.state_name O B-toloc.city_name I-toloc.city_name I-toloc.city_name B-toloc.state_name B-depart_date.day_name', ' O O O B-fromloc.city_name I-fromloc.city_name I-fromloc.city_name B-fromloc.state_name O B-toloc.city_name B-toloc.state_name B-depart_date.day_name', ' O O O B-fromloc.city_name I-fromloc.city_name I-fromloc.city_name O B-toloc.city_name B-toloc.state_name B-depart_date.day_name', ' O O O B-fromloc.city_name B-fromloc.state_name O B-toloc.city_name B-toloc.state_name B-depart_date.day_name', ' O O O O B-fromloc.city_name O B-toloc.city_name I-toloc.city_name', ' O O O O O O B-class_type I-class_type B-round_trip I-round_trip O O B-fromloc.city_name O B-toloc.city_name I-toloc.city_name', ' O O O O O O B-round_trip I-round_trip B-class_type I-class_type O O B-fromloc.city_name O B-toloc.city_name I-toloc.city_name', ' B-fromloc.city_name I-fromloc.city_name O B-toloc.city_name B-depart_date.day_name B-depart_time.period_of_day O', ' B-depart_date.day_name B-depart_time.period_of_day O O B-fromloc.city_name O B-toloc.city_name I-toloc.city_name', ' B-fromloc.city_name I-fromloc.city_name O B-toloc.city_name B-depart_date.day_name B-depart_time.period_of_day O', ' B-fromloc.city_name O B-toloc.city_name I-toloc.city_name B-depart_date.day_name B-depart_time.time_relative B-depart_time.time I-depart_time.time O', ' B-fromloc.city_name I-fromloc.city_name O B-toloc.city_name I-toloc.city_name B-depart_date.day_name B-depart_time.time_relative B-depart_time.time I-depart_time.time', ' B-fromloc.city_name I-fromloc.city_name O B-toloc.city_name I-toloc.city_name B-depart_date.day_name B-depart_time.period_of_day', ' B-fromloc.city_name O B-toloc.city_name I-toloc.city_name O B-arrive_date.day_name B-arrive_time.time_relative B-arrive_time.time I-arrive_time.time', ' B-fromloc.city_name I-fromloc.city_name O B-toloc.city_name O O B-arrive_date.day_name B-arrive_time.time_relative B-arrive_time.time I-arrive_time.time', ' B-fromloc.city_name O B-toloc.city_name O B-depart_date.day_name B-depart_time.period_of_day', ' B-fromloc.city_name O B-toloc.city_name B-depart_date.day_name B-depart_time.time_relative B-depart_time.time', ' B-class_type I-class_type O B-fromloc.city_name O B-toloc.city_name B-depart_date.day_name B-depart_time.period_of_day', ' O B-fromloc.city_name O B-toloc.city_name I-toloc.city_name B-depart_date.day_name B-depart_time.period_of_day', ' B-fromloc.city_name I-fromloc.city_name O B-toloc.city_name B-depart_date.day_name B-depart_time.period_of_day', ' B-fromloc.city_name O B-toloc.city_name O', ' B-fromloc.city_name O B-toloc.city_name B-class_type I-class_type O', ' O O O O O O B-fromloc.city_name O B-toloc.city_name', ' O O B-airline_code O O', ' O O O O O B-fromloc.city_name O B-toloc.city_name', ' O O O O O B-fromloc.city_name O B-toloc.city_name I-toloc.city_name', ' O O O O O B-fromloc.city_name I-fromloc.city_name I-fromloc.city_name O B-toloc.city_name', ' O O O O O O O B-fromloc.city_name O B-toloc.city_name I-toloc.city_name I-toloc.city_name', ' O O O O O B-fromloc.city_name I-fromloc.city_name O B-toloc.city_name', ' O O O O O B-fromloc.city_name O B-toloc.city_name I-toloc.city_name', ' O O O O O O B-fromloc.city_name I-fromloc.city_name O B-toloc.city_name I-toloc.city_name', ' O O O O O B-fromloc.city_name I-fromloc.city_name O B-toloc.city_name I-toloc.city_name', ' O O O O O O B-fromloc.city_name I-fromloc.city_name O B-toloc.city_name I-toloc.city_name', ' O O O O O B-fromloc.city_name I-fromloc.city_name O B-toloc.city_name I-toloc.city_name', ' O O O O B-fare_basis_code O', ' O O O O O O O O O B-fromloc.city_name B-toloc.city_name O B-toloc.city_name I-toloc.city_name', ' O O O O O O B-fromloc.city_name O B-toloc.city_name', ' O O O O O O B-fromloc.city_name O B-toloc.city_name I-toloc.city_name', ' O O O O O O B-fromloc.city_name O B-toloc.city_name I-toloc.city_name', ' O O O O O B-fromloc.city_name I-fromloc.city_name O B-toloc.city_name I-toloc.city_name', ' O O O O O B-fromloc.city_name I-fromloc.city_name O B-toloc.city_name I-toloc.city_name', ' O O O O O O B-fromloc.city_name I-fromloc.city_name O B-toloc.city_name I-toloc.city_name', ' O O O B-round_trip I-round_trip O O B-fromloc.city_name O B-toloc.city_name O B-depart_date.day_name B-depart_time.period_of_day B-depart_time.time_relative B-depart_time.time I-depart_time.time', ' O O B-round_trip I-round_trip O O B-fromloc.city_name O B-toloc.city_name O B-depart_date.day_name', ' O O O O B-fromloc.city_name O B-toloc.city_name B-class_type I-class_type O O B-depart_time.time_relative B-depart_time.time I-depart_time.time', ' O O O B-cost_relative B-round_trip I-round_trip O B-fromloc.city_name I-fromloc.city_name O B-toloc.city_name O O B-arrive_time.time_relative B-arrive_time.time I-arrive_time.time', ' O O B-flight_stop O O B-fromloc.city_name I-fromloc.city_name O B-toloc.city_name', ' O O O B-airline_code', ' O O O B-cost_relative B-class_type I-class_type B-round_trip I-round_trip O B-fromloc.city_name I-fromloc.city_name O B-toloc.city_name', ' O O O O O B-round_trip I-round_trip O B-fromloc.city_name I-fromloc.city_name O B-toloc.city_name', ' O O O B-cost_relative B-round_trip I-round_trip O O B-fromloc.city_name I-fromloc.city_name O B-toloc.city_name', ' O O O O B-cost_relative B-round_trip I-round_trip O O B-fromloc.city_name O B-toloc.city_name', ' O O O B-cost_relative B-round_trip I-round_trip O O B-fromloc.city_name O B-toloc.city_name', ' O O O B-cost_relative B-round_trip I-round_trip O O B-fromloc.city_name I-fromloc.city_name O B-toloc.city_name', ' O O O B-cost_relative B-round_trip I-round_trip O O B-fromloc.city_name I-fromloc.city_name O B-toloc.city_name O B-depart_date.month_name B-depart_date.day_number I-depart_date.day_number B-depart_date.year', ' O O O B-cost_relative B-round_trip I-round_trip O O B-fromloc.city_name I-fromloc.city_name O B-toloc.city_name O B-depart_date.month_name B-depart_date.day_number I-depart_date.day_number B-depart_date.year', ' O O O O O O B-city_name O B-day_name B-period_of_day', ' O O O B-round_trip I-round_trip O O B-fromloc.city_name O B-toloc.city_name', ' O O O O O O O O O O O B-city_name B-period_of_day B-period_of_day', ' O O O O O O O B-fromloc.city_name O B-toloc.city_name O B-fromloc.city_name O B-toloc.city_name I-toloc.city_name O O B-fromloc.city_name I-fromloc.city_name O B-toloc.city_name', ' O O B-round_trip I-round_trip O O B-fromloc.city_name O B-toloc.city_name O B-airline_name B-airline_name B-airline_name I-airline_name O B-airline_name I-airline_name', ' O O O O B-fromloc.city_name O B-toloc.city_name I-toloc.city_name O B-airline_name B-airline_name B-airline_name I-airline_name O B-airline_name I-airline_name', ' O O O O B-fromloc.city_name O B-toloc.city_name O B-toloc.city_name I-toloc.city_name', ' O O O O B-fromloc.city_name O B-toloc.city_name', ' O O O O O B-depart_date.day_name B-depart_time.period_of_day O B-depart_date.month_name O B-fromloc.city_name I-fromloc.city_name O B-toloc.city_name', ' O O O O O B-fromloc.city_name I-fromloc.city_name O B-toloc.city_name I-toloc.city_name O B-depart_date.day_name B-depart_time.period_of_day O B-airline_name I-airline_name', ' O O O O B-flight_mod I-flight_mod O O B-fromloc.city_name I-fromloc.city_name O B-toloc.city_name I-toloc.city_name O B-depart_date.day_name B-depart_time.period_of_day O B-airline_name I-airline_name', ' O O O O O O B-fromloc.city_name I-fromloc.city_name O B-toloc.city_name I-toloc.city_name O B-depart_date.day_name B-depart_time.period_of_day O B-airline_name I-airline_name', ' O O O O O B-fromloc.city_name I-fromloc.city_name O B-toloc.city_name O B-depart_date.day_name B-depart_time.period_of_day', ' O O B-airline_code O', ' O O O O O B-fromloc.city_name O B-toloc.city_name B-toloc.state_code O B-depart_date.day_name B-depart_time.period_of_day', ' O O O O B-fromloc.city_name O B-toloc.city_name B-toloc.state_code O B-depart_date.day_name B-depart_time.period_of_day', ' O B-meal O O O O B-flight_number O B-fromloc.city_name O B-toloc.city_name B-toloc.state_code O B-depart_date.day_name B-depart_time.period_of_day', ' O O O O O O B-transport_type O B-city_name B-state_code', ' O O O O O O B-depart_date.day_name B-depart_time.period_of_day O B-fromloc.city_name B-fromloc.state_code O B-toloc.city_name', ' O O O B-fromloc.state_code O B-toloc.city_name O B-depart_date.day_name B-depart_time.period_of_day', ' O O O O O O O O B-airline_code O B-fromloc.city_name O B-toloc.city_name', ' O O B-fare_basis_code O', ' O O O O O O O O B-fromloc.city_name O B-toloc.city_name I-toloc.city_name B-round_trip I-round_trip O B-airline_code', ' O O O B-cost_relative O O B-fromloc.city_name O B-toloc.city_name I-toloc.city_name B-round_trip I-round_trip O B-airline_code', ' O O O B-cost_relative B-round_trip I-round_trip O O B-airline_code O B-fromloc.city_name O B-toloc.city_name I-toloc.city_name', ' O O O O O B-fromloc.city_name O B-toloc.city_name I-toloc.city_name', ' O O O O B-flight_mod O O B-fromloc.city_name O B-toloc.city_name', ' O O O B-flight_mod O O B-fromloc.city_name O B-toloc.city_name I-toloc.city_name', ' O O B-fare_basis_code O', ' O O B-restriction_code I-restriction_code O', ' O O O B-flight_mod O O B-fromloc.city_name O B-toloc.city_name I-toloc.city_name', ' O O O B-flight_mod O O B-fromloc.city_name O B-toloc.city_name I-toloc.city_name', ' O O O B-flight_mod O O B-fromloc.city_name O B-toloc.city_name I-toloc.city_name', ' O O B-restriction_code I-restriction_code O', ' O O O O O B-depart_date.today_relative O B-fromloc.city_name I-fromloc.city_name O B-toloc.city_name B-toloc.state_name', ' O O O B-cost_relative O O B-fromloc.city_name I-fromloc.city_name O B-toloc.city_name B-depart_date.today_relative', ' O O O O O B-fromloc.city_name I-fromloc.city_name O B-toloc.city_name O O B-fromloc.city_name O B-toloc.city_name', ' O O O B-cost_relative O O B-fromloc.city_name I-fromloc.city_name O B-toloc.city_name', ' O O O O O B-transport_type O B-city_name', ' O O O B-cost_relative O B-depart_date.today_relative O B-fromloc.city_name O B-toloc.city_name', ' O O O O O O B-city_name', ' O O O B-cost_relative O O B-fromloc.city_name I-fromloc.city_name O B-toloc.city_name', ' O O O O B-fromloc.city_name O O O B-toloc.city_name', ' O O O B-flight_stop O O B-fromloc.city_name I-fromloc.city_name O B-toloc.city_name', ' O O O B-airline_code', ' O O O O B-fromloc.city_name O B-toloc.city_name I-toloc.city_name', ' O O B-airport_code', ' O O B-airport_code', ' O O O O O B-fromloc.city_name O B-toloc.city_name I-toloc.city_name I-toloc.city_name', ' O O B-mod B-days_code O', ' O O O B-flight_mod B-flight_days O O B-fromloc.city_name O B-toloc.city_name I-toloc.city_name I-toloc.city_name', ' O O O B-airline_code', ' O O O B-flight_mod B-flight_days O O B-fromloc.city_name O B-toloc.city_name I-toloc.city_name I-toloc.city_name', ' O O O O O B-fromloc.city_name I-fromloc.city_name O B-toloc.city_name', ' O O O O O O B-airport_name I-airport_name I-airport_name I-airport_name O O B-city_name', ' O O O O O B-aircraft_code O O', ' O O O O O O O B-aircraft_code', ' O O O O O B-fromloc.city_name O B-toloc.city_name', ' O O O O O O B-airport_name I-airport_name O O B-city_name', ' O O O O O O O O B-aircraft_code', ' O O O O O B-fromloc.city_name O B-toloc.city_name O O B-aircraft_code O', ' O O O B-airline_code', ' O O O O O B-fromloc.city_name O B-toloc.state_name', ' O O O O O B-fromloc.city_name O B-toloc.city_name', ' O O O O O O B-airport_name I-airport_name O O B-city_name', ' O O O O O B-fromloc.city_name O B-toloc.city_name B-toloc.state_code', ' O O O O O O B-airport_code O O B-city_name', ' O O O O O B-airport_code O B-city_name', ' O O O O O O B-airport_name I-airport_name O O B-city_name', ' O O O O O O O O O O B-fromloc.city_name O B-toloc.city_name O O B-depart_time.time_relative B-depart_time.period_of_day', ' O O O O B-fromloc.city_name I-fromloc.city_name O B-toloc.city_name O O O O O O B-depart_time.period_of_day O O O O B-arrive_time.time_relative B-arrive_time.time I-arrive_time.time O O O O O O B-flight_stop O', ' O O O O B-airline_name I-airline_name O B-fromloc.city_name O B-toloc.city_name I-toloc.city_name', ' O O O O B-airline_name I-airline_name O B-fromloc.city_name O B-toloc.city_name I-toloc.city_name', ' O O O O B-fromloc.city_name O B-toloc.city_name I-toloc.city_name', ' O O O B-fromloc.city_name O B-toloc.city_name I-toloc.city_name I-toloc.city_name O B-depart_time.time_relative B-depart_time.time B-depart_date.day_name', ' O O O B-fromloc.city_name O B-toloc.city_name I-toloc.city_name I-toloc.city_name O B-depart_time.time_relative B-depart_time.period_of_day B-depart_date.day_name', ' O O O B-fromloc.city_name O B-toloc.city_name I-toloc.city_name', ' O O O B-fromloc.city_name I-fromloc.city_name O B-toloc.city_name', ' O O O B-fromloc.city_name O B-toloc.city_name B-toloc.state_code B-depart_time.time_relative B-depart_time.time', ' O O O B-fromloc.city_name B-fromloc.state_code O B-toloc.city_name O B-depart_time.time_relative B-depart_time.time', ' O O O B-fromloc.city_name B-fromloc.state_code O B-toloc.city_name', ' O O O B-fromloc.city_name O B-toloc.city_name', ' O O O O O O B-toloc.city_name I-toloc.city_name O B-fromloc.city_name B-fromloc.state_code', ' O O O O O O B-fromloc.city_name O B-toloc.city_name', ' O O O O O B-fromloc.city_name B-fromloc.state_code O B-toloc.city_name B-toloc.state_name', ' O O O O O B-fromloc.city_name O B-toloc.city_name', ' O O O O O O B-fromloc.city_name O B-toloc.city_name I-toloc.city_name', ' O O O O O O B-fromloc.city_name I-fromloc.city_name O B-toloc.city_name', ' O O O O O O B-fromloc.city_name O B-toloc.city_name I-toloc.city_name', ' O O O O O B-fromloc.city_name I-fromloc.city_name O B-toloc.city_name', ' O O O O O B-fromloc.city_name I-fromloc.city_name O B-toloc.city_name B-toloc.state_code', ' O O O O O B-fromloc.city_name B-fromloc.state_code O B-toloc.city_name I-toloc.city_name', ' O O O B-round_trip I-round_trip O O B-fromloc.city_name I-fromloc.city_name O B-toloc.city_name B-toloc.state_code O O O', ' O O O B-round_trip I-round_trip O B-fromloc.city_name O B-toloc.city_name B-toloc.state_code O O O O O O B-depart_time.period_of_day', ' O O O B-round_trip I-round_trip O B-fromloc.city_name O B-toloc.city_name B-toloc.state_code O O O O O O B-depart_time.period_of_day', ' O O O B-cost_relative O O O O O B-fromloc.city_name B-fromloc.state_code O B-toloc.city_name', ' O O O B-cost_relative O O B-fromloc.city_name B-fromloc.state_code O B-toloc.city_name', ' O O O B-cost_relative O O B-fromloc.city_name O B-toloc.city_name B-toloc.state_code', ' O O O O O B-fromloc.city_name O B-toloc.city_name B-toloc.state_code', ' O O O O O B-fromloc.city_name O B-toloc.city_name O O B-arrive_time.time_relative I-arrive_time.time_relative I-arrive_time.time_relative B-arrive_time.time I-arrive_time.time', ' O O O O O B-fromloc.city_name O B-toloc.city_name O O B-arrive_time.time_relative I-arrive_time.time_relative I-arrive_time.time_relative B-arrive_time.time I-arrive_time.time', ' O O O O O B-fromloc.city_name O B-toloc.city_name O O B-toloc.city_name O B-arrive_time.time I-arrive_time.time', ' O O O O B-round_trip I-round_trip O B-fromloc.city_name O B-toloc.city_name', ' O O O O O B-fromloc.city_name O B-toloc.city_name O O O O B-cost_relative O B-round_trip I-round_trip', ' O O O O O B-fromloc.city_name O B-toloc.city_name B-round_trip I-round_trip O O B-cost_relative O', ' O O O O O B-fromloc.city_name O B-toloc.city_name B-round_trip I-round_trip O O B-cost_relative O', ' O O O O B-fromloc.city_name O B-toloc.city_name', ' O O O O B-fromloc.city_name I-fromloc.city_name O B-toloc.city_name', ' O O O O B-fromloc.city_name O B-toloc.city_name', ' O O O O B-fromloc.city_name O B-toloc.city_name I-toloc.city_name', ' O O O O O B-city_name', ' O O O O B-fromloc.city_name I-fromloc.city_name O B-toloc.city_name', ' O O O B-fromloc.city_name O B-toloc.city_name', ' O O O B-fromloc.city_name O B-toloc.city_name', ' O O O B-fromloc.city_name O B-toloc.city_name', ' O O O B-fromloc.city_name O B-toloc.city_name', ' O O O B-fromloc.city_name O B-toloc.city_name', ' O O O B-fromloc.city_name I-fromloc.city_name O B-toloc.city_name', ' O O O B-fromloc.city_name O B-toloc.city_name I-toloc.city_name', ' O O O B-fromloc.city_name I-fromloc.city_name O B-toloc.city_name', ' O O O B-fromloc.city_name I-fromloc.city_name O B-toloc.city_name', ' O O O B-fromloc.city_name O B-toloc.city_name I-toloc.city_name', ' O O O B-fromloc.city_name I-fromloc.city_name O B-toloc.city_name', ' O O O B-fromloc.city_name B-fromloc.state_code O B-toloc.city_name', ' O O O B-fromloc.city_name B-fromloc.state_code O B-toloc.city_name', ' O O O B-fromloc.city_name B-fromloc.state_code O B-toloc.city_name', ' O O O B-fromloc.city_name B-fromloc.state_code O B-toloc.city_name O O O O', ' O O O B-fromloc.city_name B-fromloc.state_code O B-toloc.city_name', ' O O O B-fromloc.city_name B-fromloc.state_code O B-toloc.city_name', ' O O O B-fromloc.city_name B-fromloc.state_code O B-toloc.city_name', ' O O O B-fromloc.city_name O B-toloc.city_name B-toloc.state_code', ' O O O B-fromloc.city_name O B-toloc.city_name I-toloc.city_name I-toloc.city_name', ' O O O O B-fromloc.city_name O B-toloc.city_name', ' O O O O B-fromloc.city_name O B-toloc.city_name I-toloc.city_name I-toloc.city_name', ' O O O B-flight_mod O O B-fromloc.city_name O B-toloc.city_name', ' O O O O O O O O B-city_name', ' O O O O B-fromloc.city_name O B-toloc.city_name I-toloc.city_name O B-depart_date.day_name B-depart_time.period_of_day', ' O O O O O B-city_name I-city_name', ' O O O O O B-fromloc.city_name I-fromloc.city_name O B-toloc.city_name O B-depart_date.day_name B-depart_time.period_of_day', ' O O B-fromloc.city_name O B-toloc.city_name', ' O O B-fromloc.city_name O B-toloc.city_name', ' O O B-fromloc.city_name I-fromloc.city_name O B-toloc.city_name', ' O O O O O O B-fromloc.city_name O B-toloc.city_name', ' O O O O O O O O B-fromloc.city_name I-fromloc.city_name I-fromloc.city_name O B-toloc.city_name O', ' O O O O O O O O B-fromloc.city_name O B-toloc.city_name O', ' O O O O O O O O B-fromloc.city_name B-fromloc.state_code O B-toloc.city_name', ' O O O O O O B-fromloc.city_name O B-toloc.city_name O O O O B-depart_date.day_name', ' O O O O O B-fromloc.city_name O B-toloc.city_name O O B-depart_date.day_name', ' O O O O O O O B-fromloc.city_name O B-toloc.city_name O O B-depart_date.day_name', ' O O O O O B-fromloc.city_name O B-toloc.city_name O O B-depart_date.day_name', ' O O O O O B-fromloc.city_name O B-toloc.city_name O O B-depart_time.time_relative B-depart_time.time O O O O O', ' O O O B-fromloc.city_name O B-toloc.city_name', ' O B-depart_date.day_name O O B-fromloc.city_name O B-toloc.city_name', ' O O O B-fromloc.city_name O B-toloc.city_name', ' O B-depart_date.day_name O O B-fromloc.city_name O B-toloc.city_name', ' O B-depart_date.day_name O O B-fromloc.city_name O B-toloc.city_name', ' O O B-depart_date.day_name O O B-fromloc.city_name O B-toloc.city_name', ' O B-depart_date.day_name O O B-fromloc.city_name O B-toloc.city_name', ' O B-depart_date.day_name O O B-fromloc.city_name O B-toloc.city_name', ' O O O B-fromloc.city_name O B-toloc.airport_code', ' O O O B-fromloc.city_name O B-toloc.city_name', ' O O O B-fromloc.city_name O B-toloc.city_name', ' O O O B-fromloc.city_name O B-toloc.city_name', ' O B-flight_mod O O B-fromloc.city_name O B-toloc.city_name I-toloc.city_name I-toloc.city_name O B-depart_date.day_name B-or B-flight_mod O O B-fromloc.city_name O B-toloc.city_name I-toloc.city_name I-toloc.city_name O B-depart_date.day_name', ' O B-flight_mod O O B-fromloc.city_name O B-toloc.city_name I-toloc.city_name I-toloc.city_name O B-depart_date.day_name', ' O B-flight_mod O O B-fromloc.city_name O B-toloc.city_name I-toloc.city_name I-toloc.city_name O B-depart_date.day_name', ' O B-flight_mod B-depart_date.day_name O O B-fromloc.city_name O B-toloc.city_name I-toloc.city_name I-toloc.city_name', ' O O O B-fromloc.city_name O B-toloc.city_name I-toloc.city_name O O B-stoploc.airport_code', ' O O O B-fromloc.city_name I-fromloc.city_name O B-toloc.city_name', ' O O O O O B-fromloc.city_name O B-toloc.city_name O B-depart_date.day_name B-depart_time.time_relative B-depart_time.time I-depart_time.time', ' O O O O O O B-fromloc.city_name O B-toloc.city_name O B-depart_date.day_name B-depart_time.time_relative B-depart_time.time I-depart_time.time', ' O O O O O O O B-airport_name I-airport_name', ' O O O O O O O O O B-fromloc.city_name O B-toloc.city_name O B-depart_date.day_name O B-depart_time.period_of_day', ' O O O O O O O O O B-fromloc.city_name O B-toloc.city_name B-depart_date.day_name B-depart_time.time_relative B-depart_time.time I-depart_time.time', ' O O O O O O O O B-fromloc.city_name O O O B-toloc.city_name B-depart_date.day_name B-depart_time.time_relative B-depart_time.time I-depart_time.time', ' O O O O O O O O B-fromloc.city_name O B-toloc.city_name O B-depart_date.day_name B-depart_time.time_relative B-depart_time.time I-depart_time.time', ' O O O O O O O O B-fromloc.city_name O B-toloc.city_name O B-depart_date.day_name B-depart_time.time_relative B-depart_time.time I-depart_time.time', ' O O O O O B-fromloc.city_name O B-toloc.city_name I-toloc.city_name I-toloc.city_name O B-depart_date.day_name', ' O O O O O O O B-airport_name I-airport_name', ' O O O O O O O O O O B-fromloc.city_name O B-toloc.city_name I-toloc.city_name I-toloc.city_name O B-depart_date.day_name O B-depart_time.time_relative B-depart_time.time I-depart_time.time', ' O O O O O O O B-airport_name I-airport_name I-airport_name I-airport_name', ' O O O O O B-fromloc.city_name I-fromloc.city_name I-fromloc.city_name O B-toloc.city_name O B-depart_date.day_name B-depart_time.time_relative B-depart_time.time I-depart_time.time', ' O O O O O O O B-airport_name I-airport_name', ' O O O O O B-fromloc.city_name O B-toloc.city_name I-toloc.city_name I-toloc.city_name O B-depart_date.day_name O B-depart_time.time_relative B-depart_time.time I-depart_time.time', ' O O O O O O O B-depart_date.day_name O B-depart_time.time_relative I-depart_time.time_relative B-depart_time.time I-depart_time.time O B-fromloc.city_name O O B-toloc.city_name I-toloc.city_name I-toloc.city_name', ' O O O O O O O O B-fromloc.city_name O B-toloc.city_name I-toloc.city_name I-toloc.city_name O B-depart_date.day_name B-depart_time.time_relative B-depart_time.time I-depart_time.time', ' O O O O O O O O O O B-fromloc.city_name O B-toloc.city_name I-toloc.city_name I-toloc.city_name O B-depart_date.day_name O B-depart_time.time_relative B-depart_time.time I-depart_time.time', ' O O O O O O O O O B-depart_date.day_name B-depart_time.time_relative B-depart_time.time I-depart_time.time O B-fromloc.city_name O O B-toloc.city_name I-toloc.city_name I-toloc.city_name', ' O O O B-state_name I-state_name O B-state_name O', ' O B-state_name B-state_name B-state_name O', ' O O B-state_name O', ' O B-state_name O', ' O O O B-fromloc.city_name I-fromloc.city_name O B-toloc.city_name', ' O B-state_name O', ' O O', ' O B-depart_date.day_name B-depart_time.period_of_day O O B-fromloc.city_name O B-toloc.city_name I-toloc.city_name I-toloc.city_name', ' O O O B-fromloc.city_name O B-toloc.city_name I-toloc.city_name I-toloc.city_name B-depart_time.time_relative B-depart_time.time I-depart_time.time B-depart_date.day_name B-depart_time.period_of_day', ' O O O O B-fromloc.city_name O B-toloc.city_name I-toloc.city_name', ' O O B-depart_time.period_of_day O O B-fromloc.city_name I-fromloc.city_name O B-toloc.city_name', ' O O B-airport_code', ' O O O O O B-fromloc.city_name O B-toloc.city_name', ' O O O O O O B-fromloc.city_name O B-toloc.city_name O O B-depart_time.time_relative B-depart_time.period_of_day', ' O O O O O O O B-fromloc.city_name O B-toloc.city_name B-depart_time.time_relative B-depart_time.period_of_day', ' O O O O O O B-fromloc.city_name O B-toloc.city_name', ' O O O O O B-fromloc.city_name O B-toloc.city_name', ' O O O O O B-fromloc.city_name O B-toloc.city_name', ' O O O O O B-fromloc.city_name B-fromloc.state_name O B-toloc.city_name', ' O O O O O B-fromloc.city_name O B-toloc.city_name', ' O O O O O B-transport_type O B-city_name', ' O O O B-flight_days O O B-fromloc.city_name I-fromloc.city_name O B-toloc.city_name', ' O O O O O B-fromloc.city_name O O B-toloc.city_name I-toloc.city_name I-toloc.city_name', ' O O O O O O B-fromloc.city_name O B-toloc.city_name I-toloc.city_name', ' O O O O O O B-fromloc.city_name O B-toloc.city_name I-toloc.city_name', ' O O O O O B-fromloc.city_name O B-toloc.city_name I-toloc.city_name', ' O O O O O O B-fromloc.city_name I-fromloc.city_name O B-toloc.city_name', ' O O O O O O O O O B-fromloc.city_name O O O B-toloc.city_name', ' O O O O B-fromloc.city_name I-fromloc.city_name O B-toloc.city_name O O', ' O O O O B-fare_basis_code O', ' O O O O B-fromloc.city_name O B-toloc.city_name B-round_trip I-round_trip', ' O O O B-airline_code O O', ' O O O O B-round_trip I-round_trip O O B-fromloc.city_name O B-toloc.city_name O B-depart_date.day_name B-depart_time.period_of_day B-or B-depart_date.day_name B-depart_time.period_of_day', ' O O O O B-fromloc.city_name O B-toloc.city_name', ' O O O O B-fare_basis_code O', ' O O O O B-fare_basis_code O', ' O O O O B-fare_basis_code O', ' O O O B-restriction_code I-restriction_code', ' O O O B-class_type I-class_type O O B-fromloc.city_name O B-toloc.city_name B-round_trip I-round_trip O B-depart_time.time_relative B-depart_time.time I-depart_time.time', ' O O O O B-round_trip I-round_trip O O B-fromloc.city_name O B-toloc.city_name O O B-arrive_time.time_relative B-arrive_time.time I-arrive_time.time O B-toloc.city_name', ' B-round_trip I-round_trip O O B-fromloc.city_name O B-toloc.city_name O', ' O O O B-airline_code', ' O O O B-airline_name I-airline_name O O B-fromloc.city_name O B-toloc.city_name', ' O O O O O B-fromloc.city_name O B-toloc.city_name O', ' O O O B-airline_code', ' O O O O O B-fromloc.city_name I-fromloc.city_name O B-toloc.city_name O O O O O', ' O O O O B-fare_basis_code O', ' O O O B-round_trip O O B-fromloc.city_name O B-toloc.airport_code O', ' O O O O B-fare_basis_code O', ' O O O O B-fare_basis_code O', ' O O O O B-fare_basis_code O', ' O O O O B-fare_basis_code O', ' O O B-round_trip I-round_trip O O B-fromloc.city_name O B-toloc.city_name B-depart_time.time_relative B-depart_time.time I-depart_time.time O B-depart_date.day_name', ' O O O O O B-fromloc.city_name O B-toloc.city_name', ' O O B-round_trip I-round_trip O O B-fromloc.city_name O B-toloc.city_name', ' O O B-round_trip I-round_trip O O B-fromloc.city_name O B-toloc.city_name', ' O O B-flight_stop O O B-fromloc.city_name O B-toloc.city_name', ' O O B-round_trip I-round_trip O B-fromloc.city_name O B-toloc.city_name', ' O O B-round_trip I-round_trip O O B-fromloc.city_name O B-toloc.city_name', ' O O O B-cost_relative B-round_trip I-round_trip O O B-fromloc.city_name O B-toloc.city_name', ' O O O B-cost_relative B-round_trip I-round_trip O O B-fromloc.city_name O B-toloc.city_name', ' O O O B-cost_relative B-economy O O B-fromloc.city_name O B-toloc.city_name I-toloc.city_name', ' B-fromloc.city_name I-fromloc.city_name O B-toloc.city_name I-toloc.city_name B-economy', ' B-fromloc.city_name I-fromloc.city_name O B-toloc.city_name I-toloc.city_name B-economy', ' O O O B-airline_code', ' O O O B-city_name I-city_name', ' O O O B-city_name I-city_name', ' B-fromloc.city_name I-fromloc.city_name O B-toloc.city_name B-economy', ' B-fromloc.city_name I-fromloc.city_name O B-toloc.city_name B-economy', ' B-fromloc.city_name O B-toloc.city_name I-toloc.city_name B-economy', ' O O O B-airline_code', ' O O O B-airline_code', ' O O O B-airline_code', ' O O O B-airline_code', ' O O O B-airline_code', ' B-fromloc.city_name O B-toloc.city_name B-round_trip I-round_trip B-depart_time.time_relative B-depart_time.time I-depart_time.time', ' O O O B-airline_code', ' B-fromloc.city_name I-fromloc.city_name O B-toloc.city_name', ' O B-fromloc.city_name O B-toloc.city_name B-round_trip I-round_trip B-depart_time.time_relative B-depart_time.time I-depart_time.time B-depart_date.day_name', ' O O B-fromloc.city_name O B-toloc.city_name B-depart_time.time_relative B-depart_time.time I-depart_time.time B-flight_days', ' O O O B-airline_code', ' O O O O O B-fromloc.city_name I-fromloc.city_name O B-toloc.city_name', ' O O O O O B-fromloc.city_name I-fromloc.city_name O B-toloc.city_name', ' O O O B-airline_code', ' O O O O O B-city_name', ' O O O O B-fromloc.city_name O B-toloc.city_name I-toloc.city_name', ' O O O O O B-city_name I-city_name', ' O O O O B-fromloc.city_name I-fromloc.city_name O B-toloc.city_name I-toloc.city_name', ' O O B-class_type I-class_type O O B-fromloc.city_name I-fromloc.city_name O B-toloc.city_name B-round_trip I-round_trip', ' O O B-class_type I-class_type O O B-fromloc.city_name I-fromloc.city_name O B-toloc.city_name B-round_trip I-round_trip', ' O O O B-round_trip I-round_trip O O B-fromloc.city_name I-fromloc.city_name O B-toloc.city_name B-flight_stop', ' O O O B-round_trip I-round_trip O O B-fromloc.city_name O B-toloc.city_name I-toloc.city_name B-flight_stop', ' O O B-round_trip I-round_trip O O B-fromloc.city_name O B-toloc.city_name B-depart_time.time_relative B-depart_time.time I-depart_time.time O O O', ' O O O O B-fare_basis_code O', ' O O B-round_trip I-round_trip O O B-fromloc.city_name O B-toloc.city_name', ' O O O O B-restriction_code O', ' O O O O B-fare_basis_code O', ' O O O B-airline_code', ' O O O B-airline_code', ' O O O B-airline_code', ' O O O B-airline_code O O O', ' O O B-flight_stop O O B-fromloc.city_name I-fromloc.city_name O B-toloc.city_name', ' O O B-flight_stop O O B-fromloc.city_name O B-toloc.city_name I-toloc.city_name', ' O O O B-flight_stop O O O O B-fromloc.city_name O B-toloc.city_name I-toloc.city_name', ' O O O B-flight_stop O O B-fromloc.city_name O B-toloc.city_name I-toloc.city_name', ' O O B-flight_mod O O B-fromloc.city_name O B-toloc.city_name B-round_trip I-round_trip', ' O O B-flight_mod O O B-fromloc.city_name O B-toloc.city_name B-round_trip I-round_trip', ' O O O B-airline_code', ' O O O B-fromloc.city_name O B-toloc.city_name I-toloc.city_name', ' O O O B-fromloc.city_name O B-toloc.city_name I-toloc.city_name', ' O O O B-fromloc.city_name I-fromloc.city_name O B-toloc.city_name', ' O O O B-fromloc.city_name O B-toloc.city_name', ' O O O B-fromloc.city_name O B-toloc.city_name I-toloc.city_name', ' O O O B-fromloc.city_name I-fromloc.city_name O B-toloc.city_name I-toloc.city_name', ' O O O B-fromloc.city_name O B-toloc.city_name I-toloc.city_name O O B-depart_time.period_of_day', ' O O O B-fromloc.city_name O B-toloc.city_name I-toloc.city_name', ' O O O B-fromloc.city_name O B-toloc.city_name', ' O O O B-fromloc.city_name O B-toloc.city_name I-toloc.city_name O B-depart_date.day_name', ' O O O B-fromloc.city_name I-fromloc.city_name O B-toloc.city_name O B-depart_date.day_name', ' O O O B-fromloc.city_name O B-toloc.city_name', ' O O O O O O O B-city_name I-city_name', ' O O O B-city_name I-city_name', ' O O O B-city_name I-city_name', ' O O O B-city_name', ' O O', ' O O O B-city_name', ' O O O B-city_name', ' O O O O B-city_name', ' O B-city_name', ' O B-city_name', ' O O O B-fromloc.city_name I-fromloc.city_name O B-toloc.city_name', ' O O O B-fromloc.airport_name I-fromloc.airport_name O B-toloc.city_name', ' O O O B-fromloc.city_name O B-toloc.city_name', ' O O O B-fromloc.city_name B-fromloc.state_name O B-toloc.city_name', ' O O O B-fromloc.city_name B-fromloc.state_name O B-toloc.city_name', ' O O O B-fromloc.city_name O B-toloc.city_name O O O B-depart_date.day_name', ' O O O B-fromloc.city_name O B-toloc.city_name O B-depart_date.day_name', ' O O O B-fromloc.city_name O B-toloc.city_name O B-depart_date.day_name', ' O O O B-fromloc.city_name O B-toloc.city_name O B-depart_date.day_name', ' O O O B-fromloc.city_name O B-depart_date.day_name B-depart_time.period_of_day', ' O O O O O O O O B-fromloc.city_name', ' O O O O O B-fromloc.city_name O B-toloc.city_name B-round_trip I-round_trip O B-depart_date.day_name O B-return_date.date_relative B-return_date.day_name', ' O O O O O B-booking_class', ' O O O B-fromloc.city_name O B-toloc.city_name O B-depart_date.day_name O O O O O B-fare_basis_code', ' O O O B-class_type I-class_type B-round_trip I-round_trip O B-fromloc.city_name O B-toloc.city_name I-toloc.city_name', ' O B-class_type B-round_trip I-round_trip O O B-fromloc.city_name O B-toloc.city_name I-toloc.city_name', ' O O O B-fromloc.city_name O B-toloc.city_name O B-depart_date.day_name B-depart_time.period_of_day', ' O O O B-fromloc.city_name O B-toloc.city_name O B-depart_date.day_name', ' O O B-depart_time.time_relative B-depart_time.time I-depart_time.time O B-fromloc.city_name O B-toloc.city_name', ' O O O B-fromloc.city_name O B-toloc.city_name B-depart_time.time_relative B-depart_time.period_of_day', ' O O O B-fromloc.city_name O B-toloc.city_name B-depart_time.time_relative B-depart_time.time I-depart_time.time', ' O O O O O B-fromloc.city_name O B-toloc.city_name I-toloc.city_name I-toloc.city_name', ' O B-airline_name O O B-fromloc.city_name O B-toloc.city_name I-toloc.city_name I-toloc.city_name', ' O O O O B-airline_name O O B-fromloc.city_name O B-toloc.city_name I-toloc.city_name I-toloc.city_name', ' O B-airline_name O O B-fromloc.city_name O B-toloc.city_name I-toloc.city_name I-toloc.city_name O O O', ' O O O O O O B-city_name', ' O O O O B-city_name', ' O O O B-fromloc.city_name O B-toloc.city_name I-toloc.city_name O B-depart_date.day_name', ' O O O O O B-fromloc.city_name I-fromloc.city_name O B-toloc.city_name O B-depart_date.day_name', ' O O O O O B-fromloc.city_name O B-toloc.city_name I-toloc.city_name B-depart_date.day_name B-depart_time.period_of_day', ' O O O B-round_trip I-round_trip O O B-fromloc.city_name O B-toloc.city_name B-depart_date.date_relative B-depart_date.day_name', ' O O O O O B-round_trip I-round_trip O O B-fromloc.city_name O B-toloc.city_name B-depart_date.date_relative B-depart_date.day_name', ' O O O O O O O O O O B-toloc.city_name O B-fromloc.city_name O B-depart_date.day_name', ' O O O O O B-fromloc.city_name O B-toloc.city_name B-depart_date.date_relative B-depart_date.day_name', ' O O O O O B-fromloc.city_name O B-toloc.city_name O B-depart_date.day_name B-or B-depart_date.day_name O B-airline_name I-airline_name', ' O O O O O B-fromloc.city_name O B-toloc.city_name O B-depart_date.day_name B-depart_time.period_of_day', ' O O O O O B-fromloc.city_name O B-toloc.city_name O B-depart_date.day_name O B-airline_name I-airline_name', ' O O O O O B-fromloc.city_name O B-toloc.city_name O B-airline_name I-airline_name', ' O O O O O B-fromloc.city_name O B-toloc.city_name', ' O O O B-meal O O B-depart_time.period_mod B-depart_date.day_name B-depart_time.period_of_day O B-fromloc.city_name O B-toloc.city_name B-flight_stop', ' O O O O O B-fromloc.city_name O B-toloc.city_name B-depart_date.day_name B-depart_time.period_of_day O O B-meal', ' O O O O B-fromloc.city_name O B-toloc.city_name O O B-meal O B-airline_name', ' O O O O O B-fromloc.city_name O B-toloc.city_name O O B-meal O B-airline_name B-depart_date.day_name B-depart_time.period_of_day', ' O O O O O B-fromloc.city_name O B-toloc.city_name O B-airline_name O O B-meal B-depart_time.period_mod B-depart_date.day_name B-depart_time.period_of_day', ' O O O O O B-airline_name O O B-fromloc.city_name O B-toloc.city_name O O B-meal B-depart_time.period_mod B-depart_date.day_name B-depart_time.period_of_day', ' O O O B-depart_date.day_name B-depart_time.period_of_day O O B-meal O B-fromloc.city_name O B-toloc.city_name', ' O O O B-depart_date.day_name B-depart_time.period_of_day O O B-airline_name O O B-meal O B-fromloc.city_name O B-toloc.city_name', ' O O O B-depart_date.day_name B-depart_time.period_of_day O O B-fromloc.city_name O B-toloc.city_name I-toloc.city_name O B-airline_name O O B-meal', ' O O O O O B-fromloc.city_name I-fromloc.city_name O B-toloc.city_name I-toloc.city_name B-flight_stop', ' O O O O O B-fromloc.city_name O B-toloc.city_name I-toloc.city_name B-flight_stop', ' O O O B-cost_relative B-round_trip I-round_trip O O B-fromloc.city_name O B-toloc.city_name B-depart_time.time_relative B-depart_date.month_name B-depart_date.day_number I-depart_date.day_number', ' O O O B-depart_date.day_name O O B-fromloc.city_name O B-toloc.city_name', ' O O O B-depart_date.day_name O O B-fromloc.city_name O B-toloc.city_name', ' O O O O O B-fromloc.city_name O B-toloc.city_name O B-depart_date.day_name B-depart_time.period_of_day', ' O O O O B-depart_time.period_of_day O O B-fromloc.city_name O B-toloc.city_name O', ' B-cost_relative B-round_trip I-round_trip O O O B-fromloc.city_name O B-toloc.city_name O B-depart_date.month_name B-depart_date.day_number I-depart_date.day_number', ' B-cost_relative B-round_trip I-round_trip O O B-fromloc.city_name O B-toloc.city_name O B-depart_date.month_name B-depart_date.day_number I-depart_date.day_number', ' O O O B-fromloc.city_name O B-toloc.city_name', ' O O O B-fromloc.city_name O B-toloc.city_name', ' B-depart_date.day_name O O B-airline_name I-airline_name O B-fromloc.city_name O B-toloc.city_name', ' O O O B-airline_name I-airline_name O B-fromloc.city_name O B-toloc.city_name', ' O O O B-fromloc.city_name O B-toloc.city_name', ' O O O B-fromloc.city_name O B-toloc.city_name O B-airline_name', ' O O O B-fromloc.city_name O B-toloc.city_name O B-airline_name', ' O O O O O B-fromloc.city_name O B-toloc.city_name B-cost_relative B-fare_amount I-fare_amount', ' O O O B-class_type O O B-fromloc.city_name O B-toloc.city_name', ' B-fromloc.city_name O B-toloc.city_name O B-depart_date.day_name', ' B-fromloc.city_name O B-toloc.city_name B-depart_date.day_name B-depart_time.period_of_day', ' B-fromloc.city_name O B-toloc.city_name O B-depart_date.day_name', ' B-fromloc.city_name O B-toloc.city_name B-depart_date.day_name B-depart_time.period_of_day', ' B-fromloc.city_name O B-toloc.city_name B-depart_time.time_relative B-depart_time.time I-depart_time.time', ' B-fromloc.city_name O B-toloc.city_name B-depart_time.time_relative B-depart_time.period_of_day', ' B-fromloc.city_name O B-toloc.city_name B-depart_date.month_name B-depart_date.day_number I-depart_date.day_number', ' B-cost_relative O O B-fromloc.city_name O B-toloc.city_name O O B-depart_date.day_number I-depart_date.day_number O B-depart_date.month_name', ' B-cost_relative O B-round_trip I-round_trip O B-fromloc.city_name O B-toloc.city_name O B-depart_date.month_name B-depart_date.day_number I-depart_date.day_number', ' B-fromloc.city_name O B-toloc.city_name O B-depart_date.day_name O B-arrive_time.time_relative B-arrive_time.time I-arrive_time.time', ' B-fromloc.city_name O B-toloc.city_name B-depart_date.day_name B-depart_time.period_of_day', ' B-fromloc.city_name I-fromloc.city_name I-fromloc.city_name O B-toloc.city_name I-toloc.city_name O B-fromloc.city_name O B-toloc.city_name I-toloc.city_name O B-depart_date.day_name', ' B-fromloc.city_name I-fromloc.city_name I-fromloc.city_name O B-toloc.city_name I-toloc.city_name O B-fromloc.city_name O B-toloc.city_name I-toloc.city_name O B-depart_date.day_name', ' B-fromloc.city_name I-fromloc.city_name O B-toloc.city_name I-toloc.city_name B-depart_date.day_name B-depart_time.period_of_day', ' B-fromloc.city_name O B-toloc.city_name I-toloc.city_name B-depart_date.day_name B-depart_time.period_of_day', ' B-fromloc.city_name I-fromloc.city_name O B-toloc.city_name I-toloc.city_name O B-depart_date.day_name B-depart_time.period_of_day', ' B-fromloc.city_name O B-toloc.city_name B-depart_date.day_name B-depart_time.period_of_day', ' B-fromloc.city_name O B-toloc.city_name I-toloc.city_name B-depart_date.day_name B-depart_time.period_of_day', ' B-fromloc.city_name I-fromloc.city_name O B-toloc.city_name B-depart_time.period_of_day B-depart_date.day_name', ' B-fromloc.city_name I-fromloc.city_name O B-toloc.city_name B-depart_time.period_of_day O B-depart_date.day_name', ' B-fromloc.city_name O B-toloc.city_name I-toloc.city_name B-depart_date.day_name B-depart_time.period_of_day', ' B-fromloc.city_name O B-toloc.city_name O B-depart_date.day_name', ' B-fromloc.city_name O B-toloc.city_name O B-depart_date.day_name', ' B-fromloc.city_name O B-toloc.city_name O B-depart_date.day_name', ' O B-flight O B-fromloc.city_name O B-toloc.city_name I-toloc.city_name O O B-arrive_time.start_time O B-arrive_time.end_time I-arrive_time.end_time', ' O O B-airline_name O O B-fromloc.city_name I-fromloc.city_name', ' O O B-airline_name O O B-fromloc.city_name B-fromloc.state_code', ' O O O O B-airline_name O O B-fromloc.airport_name', ' O O O B-airline_name O O O', ' O O O O O B-airline_name O', ' O O O B-airline_name O O', ' O O O O B-connect O O B-fromloc.city_name O B-toloc.city_name I-toloc.city_name O B-depart_time.time_relative B-depart_time.time I-depart_time.time', ' O O O O O O B-fromloc.city_name O B-toloc.city_name I-toloc.city_name', ' O O O O B-depart_time.period_of_day O O B-airline_name I-airline_name O B-fromloc.city_name O B-toloc.city_name', ' O O O O O O B-fromloc.city_name O O O B-toloc.city_name', ' O O O B-aircraft_code', ' O O O O O O B-aircraft_code', ' O O O B-aircraft_code', ' O O O O O O B-airline_name I-airline_name', ' O O O B-class_type I-class_type O B-class_type O O B-fromloc.airport_code O B-toloc.city_name', ' O O O B-class_type I-class_type O B-class_type O O B-fromloc.airport_name I-fromloc.airport_name O B-toloc.city_name', ' O O O B-class_type I-class_type O B-class_type O O B-fromloc.airport_code O B-toloc.city_name', ' O B-meal O O O B-airline_name I-airline_name', ' O B-meal_description O O B-airline_name I-airline_name', ' O B-airline_name I-airline_name O O B-fromloc.airport_code O B-toloc.city_name', ' O B-airline_name I-airline_name O B-fromloc.city_name O B-toloc.city_name I-toloc.city_name', ' O B-airline_name I-airline_name O O B-fromloc.city_name O B-toloc.city_name I-toloc.city_name', ' O B-airline_name I-airline_name O O B-fromloc.city_name O B-toloc.city_name I-toloc.city_name I-toloc.city_name', ' O O O O O O O B-fromloc.city_name O B-toloc.city_name B-toloc.state_code', ' O O O B-cost_relative I-cost_relative O O B-fromloc.city_name O B-toloc.city_name I-toloc.city_name I-toloc.city_name', ' O O O B-cost_relative O O B-fromloc.city_name B-fromloc.state_code O B-toloc.city_name I-toloc.city_name I-toloc.city_name', ' O O O B-cost_relative O O B-fromloc.airport_code O B-toloc.city_name I-toloc.city_name I-toloc.city_name', ' O O O O O O B-class_type I-class_type O O B-fromloc.city_name O B-toloc.city_name I-toloc.city_name O B-round_trip', ' O O O B-flight_mod I-flight_mod O O B-fromloc.city_name O B-toloc.city_name B-toloc.state_code', ' O O O B-flight_mod I-flight_mod O O B-fromloc.city_name O B-toloc.city_name B-toloc.state_code', ' O O O B-flight_mod I-flight_mod O O B-fromloc.city_name O B-toloc.city_name B-toloc.state_code', ' O O O B-flight_mod I-flight_mod O O B-fromloc.city_name O B-toloc.city_name', ' O O O B-flight_mod I-flight_mod O O B-fromloc.city_name O B-toloc.city_name', ' O O O O O B-fromloc.city_name O B-toloc.city_name', ' O O O O O B-fromloc.city_name O B-toloc.city_name', ' O O O O O B-fromloc.city_name O B-toloc.city_name', ' O O O O B-fromloc.city_name O B-depart_time.start_time I-depart_time.start_time O B-depart_time.end_time I-depart_time.end_time', ' O O O O O O O O B-aircraft_code', ' O O O O O O O B-aircraft_code', ' O O O O O O O O B-aircraft_code', ' O O O O O O O O B-aircraft_code', ' O O O O O O O O O O B-aircraft_code', ' O O O O O O O B-aircraft_code', ' O O O B-city_name', ' O O O O O O O O B-city_name', ' O O O O B-toloc.city_name', ' O O O O O B-toloc.city_name O B-arrive_time.start_time O B-arrive_time.end_time I-arrive_time.end_time', ' O O O O O O B-aircraft_code', ' O O B-aircraft_code', ' O O O O O O O B-aircraft_code', ' O O O O O O O B-aircraft_code', ' O O O O O B-aircraft_code O', ' O O O O O O O B-aircraft_code', ' O O O O B-flight_days O O O B-toloc.city_name O B-arrive_time.start_time O B-arrive_time.end_time I-arrive_time.end_time', ' O O O O B-flight_days O O O B-toloc.city_name O B-arrive_time.start_time O B-arrive_time.end_time I-arrive_time.end_time', ' O O O O O B-flight_days O O O B-toloc.city_name O B-arrive_time.start_time I-arrive_time.start_time O B-arrive_time.end_time I-arrive_time.end_time', ' O O O O O O O B-aircraft_code', ' O O O O B-aircraft_code O', ' O O O O B-aircraft_code O', ' O O O O O O O O O B-aircraft_code', ' O O O O O O O B-aircraft_code', ' O O O O O O O B-aircraft_code', ' O O O O O O O O B-aircraft_code', ' O O O O O O B-city_name O B-depart_time.start_time O B-depart_time.end_time I-depart_time.end_time', ' O O O O O B-toloc.city_name O B-arrive_time.start_time O B-arrive_time.end_time I-arrive_time.end_time', ' O O O O O O O O O O B-toloc.city_name O B-arrive_time.start_time O B-arrive_time.end_time I-arrive_time.end_time', ' O O O O O B-fromloc.city_name O B-toloc.city_name O B-depart_date.day_name B-depart_time.period_of_day', ' O O O O O B-fromloc.city_name O B-toloc.city_name O B-depart_date.day_name B-depart_time.period_of_day', ' O O O O O O B-airport_name I-airport_name O O O O O O O O O O B-period_of_day', ' O O O O O B-fromloc.city_name O B-toloc.city_name I-toloc.city_name I-toloc.city_name O O B-depart_date.day_name B-depart_time.period_of_day', ' O O B-airport_code', ' O O O O O O B-airport_name I-airport_name I-airport_name O B-city_name I-city_name I-city_name', ' O O O O O B-airport_code O B-city_name I-city_name I-city_name', ' O O O O O O B-airport_code O B-city_name I-city_name I-city_name', ' O O O O O B-airport_code O B-city_name I-city_name I-city_name', ' O O O B-depart_time.period_of_day O O B-fromloc.city_name O B-toloc.city_name I-toloc.city_name I-toloc.city_name', ' O O O O O B-fromloc.city_name I-fromloc.city_name I-fromloc.city_name O B-toloc.city_name O B-depart_time.time_relative B-depart_time.time I-depart_time.time O B-depart_date.day_name', ' O O O O O O O B-airport_name I-airport_name', ' O O O B-flight_stop O O B-fromloc.city_name O B-toloc.city_name O B-depart_time.time_relative B-depart_time.period_of_day O O B-arrive_time.time_relative B-arrive_time.time I-arrive_time.time', ' O O O O B-airline_name I-airline_name O O B-toloc.city_name', ' O O B-airline_name I-airline_name O O B-fromloc.city_name O O', ' O O B-airline_name I-airline_name O O B-fromloc.city_name', ' O O O B-airline_code', ' O O B-airline_name I-airline_name O O O B-toloc.city_name', ' O O B-airline_name I-airline_name O O O O B-fromloc.city_name', ' O O B-airline_name I-airline_name O', ' O O O O O B-fromloc.city_name', ' O O O O B-fromloc.city_name O B-toloc.city_name O O B-depart_time.time_relative B-depart_time.period_of_day', ' O O B-cost_relative O O B-fromloc.city_name O B-toloc.city_name I-toloc.city_name', ' O O O O O B-fromloc.city_name I-fromloc.city_name O B-toloc.city_name B-depart_time.period_mod O O B-depart_time.period_of_day', ' O O O O B-depart_time.period_of_day O O B-fromloc.city_name O B-toloc.city_name', ' O O O O B-depart_time.period_of_day O O B-fromloc.city_name O B-toloc.city_name I-toloc.city_name', ' O O O O B-depart_time.period_of_day O O B-fromloc.city_name O B-toloc.city_name I-toloc.city_name', ' O O O O O O O O B-depart_date.day_name O B-fromloc.city_name B-fromloc.state_name O B-toloc.city_name I-toloc.city_name B-toloc.state_name', ' O O O O O O B-depart_date.day_name O O O B-fromloc.city_name I-fromloc.city_name O B-toloc.city_name B-toloc.state_name O O O O O B-depart_time.period_of_day', ' O O O O O B-depart_date.day_name B-depart_time.period_of_day O B-fromloc.city_name O B-toloc.city_name', ' O O O O O O B-depart_date.day_name B-depart_time.period_of_day O B-fromloc.city_name O B-toloc.city_name', ' O O O O O O B-fromloc.city_name O B-toloc.city_name O B-airline_name', ' O O O O O O O O B-airline_name O O O B-depart_time.time I-depart_time.time', ' O O O O O B-fromloc.city_name I-fromloc.city_name O B-toloc.city_name O B-depart_date.date_relative B-depart_date.day_name O O B-return_date.date_relative I-return_date.date_relative I-return_date.date_relative', ' O O O O B-fromloc.city_name I-fromloc.city_name O B-toloc.city_name I-toloc.city_name', ' O O O O O B-fromloc.city_name O B-toloc.city_name I-toloc.city_name', ' O O O O O B-fromloc.city_name I-fromloc.city_name O B-toloc.city_name', ' O O O O O B-fromloc.city_name O B-toloc.city_name', ' O O O O O O O O O B-airport_name I-airport_name I-airport_name', ' O O B-transport_type I-transport_type O O B-airport_name I-airport_name', ' O O O O O B-fromloc.city_name O B-toloc.city_name', ' O O O O O B-fromloc.city_name O B-toloc.city_name', ' O O O O O B-fromloc.airport_name I-fromloc.airport_name O B-toloc.city_name I-toloc.city_name O B-airline_name', ' O O O O O B-depart_date.day_name O O O B-fromloc.city_name B-fromloc.state_name I-fromloc.state_name O B-toloc.city_name B-toloc.state_name', ' O O O O O B-fromloc.city_name B-fromloc.state_name O B-toloc.city_name I-toloc.city_name B-toloc.state_name O B-depart_date.day_name', ' O O O O O B-depart_date.day_name O O B-fromloc.city_name I-fromloc.city_name B-fromloc.state_name O B-toloc.city_name I-toloc.city_name', ' O O O O O B-fromloc.city_name I-fromloc.city_name O B-toloc.city_name B-toloc.state_name I-toloc.state_name O O B-depart_date.day_name', ' O O O O O B-fromloc.city_name O B-toloc.city_name O O O B-stoploc.city_name I-stoploc.city_name', ' O O O B-depart_time.period_of_day O O B-fromloc.city_name O B-toloc.city_name O B-depart_date.date_relative B-depart_date.day_name', ' O O O O O B-fromloc.city_name O B-toloc.city_name I-toloc.city_name O O B-depart_date.day_name B-depart_time.period_of_day', ' O O O O B-fromloc.city_name I-fromloc.city_name O B-toloc.city_name O O B-depart_date.day_name B-depart_time.period_of_day', ' O O O O O B-depart_date.day_name B-depart_time.period_of_day O B-fromloc.city_name I-fromloc.city_name O B-toloc.city_name', ' O O O O O B-fromloc.city_name I-fromloc.city_name O B-toloc.airport_name I-toloc.airport_name O O O B-arrive_date.day_name B-arrive_time.time_relative B-arrive_time.time I-arrive_time.time', ' O O O O O O B-fromloc.city_name O B-toloc.airport_name I-toloc.airport_name O O O B-arrive_date.day_name B-arrive_time.time_relative B-arrive_time.time I-arrive_time.time', ' O O O O O B-airline_name I-airline_name O B-fromloc.city_name O B-toloc.city_name O O B-arrive_time.time_relative B-arrive_time.time I-arrive_time.time', ' O O O O O B-fromloc.city_name O B-toloc.city_name O O O B-stoploc.city_name I-stoploc.city_name', ' O O O O O B-fromloc.city_name O B-toloc.city_name I-toloc.city_name B-toloc.state_name O O B-depart_time.time_relative B-depart_time.time I-depart_time.time', ' O O O B-flight_stop O O B-fromloc.city_name I-fromloc.city_name O B-toloc.city_name B-toloc.state_name', ' O O O B-flight_stop O O B-fromloc.city_name O B-toloc.city_name', ' O O O O O B-fromloc.city_name O B-toloc.city_name O B-depart_date.day_name', ' O O O B-airline_name O O B-fromloc.city_name O B-toloc.city_name', ' O O O B-fromloc.city_name O B-toloc.city_name O O O B-stoploc.city_name', ' O O O O O B-fromloc.city_name I-fromloc.city_name O B-toloc.city_name', ' O O O O O B-fromloc.city_name O B-toloc.city_name', ' O O O O O B-fromloc.city_name O B-toloc.city_name I-toloc.city_name', ' O O O O O B-fromloc.city_name O B-toloc.city_name O B-airline_name I-airline_name', ' O O O O O O B-fromloc.city_name I-fromloc.city_name O B-toloc.city_name O B-depart_date.month_name B-depart_date.day_number', ' O O O O O O B-fromloc.city_name O B-toloc.city_name I-toloc.city_name O B-depart_date.month_name B-depart_date.day_number', ' O O O O O O B-fromloc.city_name I-fromloc.city_name O B-toloc.city_name O B-depart_date.month_name B-depart_date.day_number', ' O O O O O O B-fromloc.city_name O B-toloc.city_name I-toloc.city_name O B-depart_date.month_name B-depart_date.day_number', ' O O O O O O B-fromloc.city_name O B-toloc.city_name', ' O O O O O O O B-fromloc.city_name I-fromloc.city_name I-fromloc.city_name O B-toloc.city_name I-toloc.city_name I-toloc.city_name B-depart_date.date_relative B-depart_date.day_name B-arrive_time.time_relative O B-arrive_time.time_relative B-arrive_time.time I-arrive_time.time', ' O O O O O O O B-fromloc.city_name O B-toloc.city_name I-toloc.city_name O B-depart_date.day_name B-depart_time.time_relative B-depart_time.time I-depart_time.time', ' O O O O O O B-airline_name O O B-fromloc.city_name I-fromloc.city_name I-fromloc.city_name O B-toloc.city_name I-toloc.city_name B-depart_date.date_relative B-depart_date.day_name O B-arrive_time.time_relative B-arrive_time.time I-arrive_time.time', ' O O O O O O B-fromloc.city_name O B-toloc.city_name O O B-airline_name I-airline_name O B-arrive_time.time_relative B-arrive_time.time I-arrive_time.time', ' O O O O O O B-fromloc.city_name I-fromloc.city_name O B-toloc.city_name B-depart_date.date_relative B-depart_date.day_name', ' O O O O B-round_trip I-round_trip O O B-fromloc.city_name I-fromloc.city_name O B-toloc.city_name O B-depart_date.day_name B-depart_date.month_name B-depart_date.day_number I-depart_date.day_number O O B-arrive_time.time I-arrive_time.time', ' O O O O O O O O O B-fromloc.city_name O B-toloc.city_name O O B-stoploc.city_name I-stoploc.city_name', ' O O O B-fromloc.city_name I-fromloc.city_name O B-toloc.city_name O B-depart_date.day_name B-depart_time.period_of_day', ' O O O B-fromloc.city_name O B-toloc.city_name O B-depart_date.day_name', ' O O O B-fromloc.city_name O B-toloc.city_name I-toloc.city_name O B-depart_date.day_name', ' O O O B-fromloc.city_name O B-toloc.city_name I-toloc.city_name O B-depart_date.day_name', ' O O O B-fromloc.city_name I-fromloc.city_name O B-toloc.city_name O B-depart_date.day_name', ' O O O B-fromloc.city_name O B-toloc.city_name O B-depart_date.day_name', ' O O O B-fromloc.city_name O B-toloc.city_name O B-depart_date.day_name', ' O B-airline_name O O B-fromloc.city_name O B-toloc.city_name B-depart_time.time_relative B-depart_time.time I-depart_time.time', ' O O O O B-round_trip I-round_trip O B-fromloc.city_name I-fromloc.city_name O B-toloc.city_name B-toloc.state_name O O O O B-stoploc.city_name I-stoploc.city_name B-cost_relative I-cost_relative O O O B-fare_amount I-fare_amount O B-depart_date.month_name B-depart_date.day_number B-depart_date.year', ' O O O O O B-depart_date.month_name B-depart_date.day_number O B-fromloc.city_name O B-toloc.city_name', ' O O O O O B-fromloc.city_name O B-toloc.city_name O O O O O B-stoploc.city_name O B-depart_date.month_name B-depart_date.day_number B-round_trip I-round_trip O B-meal_description', ' O O O O O O B-fromloc.city_name O B-toloc.city_name', ' O O O O O O B-fromloc.city_name O B-toloc.city_name', ' O O O O O O B-fromloc.city_name O B-city_name I-city_name', ' O O O O O O O B-city_name I-city_name O B-toloc.city_name', ' O O O O O O O B-fromloc.city_name O B-toloc.city_name B-fromloc.city_name O B-toloc.city_name I-toloc.city_name O O B-fromloc.city_name I-fromloc.city_name O B-toloc.city_name', ' O O O O B-round_trip I-round_trip O O B-fromloc.city_name O B-toloc.city_name O O B-stoploc.city_name I-stoploc.city_name', ' O O O O O O O O B-toloc.city_name I-toloc.city_name', ' O O O O O O O B-fromloc.city_name I-fromloc.city_name I-fromloc.city_name O B-toloc.city_name I-toloc.city_name', ' O O O O O O B-city_name I-city_name', ' O O O O O O O O B-fromloc.city_name O B-toloc.city_name I-toloc.city_name I-toloc.city_name O B-airline_name I-airline_name O B-depart_date.date_relative B-depart_date.day_name', ' O O O O O O O B-city_name I-city_name I-city_name O', ' O O O O O O B-fromloc.city_name O O O O O B-toloc.city_name I-toloc.city_name I-toloc.city_name O O O B-arrive_date.date_relative B-arrive_date.day_name B-arrive_time.time_relative B-arrive_time.time I-arrive_time.time', ' O O O O O B-fromloc.city_name O O O O O B-toloc.city_name I-toloc.city_name I-toloc.city_name O', ' O O O O O O B-fromloc.city_name O B-toloc.city_name O B-airline_name I-airline_name', ' O O O O O O B-round_trip I-round_trip O O B-fromloc.city_name I-fromloc.city_name O B-toloc.city_name', ' O O O O O O O B-fromloc.city_name O B-toloc.city_name']\n",
      "B-return_date.day_name\n",
      "I-flight_number\n",
      "B-compartment\n",
      "B-stoploc.airport_code\n",
      "I-state_name\n",
      "B-return_date.day_name\n",
      "B-booking_class\n",
      "B-flight\n",
      "I-meal_description\n",
      "B-return_date.today_relative\n",
      "I-return_date.today_relative\n",
      "I-return_date.today_relative\n",
      "B-return_date.day_name\n"
     ]
    }
   ],
   "source": [
    "\n",
    "\n",
    "def remove_sentences(list_labels, list_sequences):\n",
    "  idx_to_remove = []\n",
    "  labels_to_remove = []\n",
    "  for idx, labels in enumerate(list_labels):\n",
    "    for label in labels:\n",
    "      if label not in unique_entities:\n",
    "        print(label)\n",
    "        idx_to_remove.append(idx)\n",
    "        labels_to_remove.append(label)\n",
    "\n",
    "  labels = [elem for i, elem in enumerate(list_labels) if i not in idx_to_remove]\n",
    "  sequences = [elem for i, elem in enumerate(list_sequences) if i not in idx_to_remove]\n",
    "  return labels, np.array(sequences)\n",
    "\n",
    "print(test_labels)\n",
    "_test_labels = [label.split() for label in test_labels]\n",
    "test_labels2, test_pad_sequences = remove_sentences(_test_labels, test_pad_sequences_old)\n",
    "\n",
    "\n",
    "test_numerical_labels = [label_encoder.transform(t) for t in test_labels2]\n",
    "test_pad_labels = pad_sequences(test_numerical_labels, maxlen=max_sequence_length, padding=\"post\")\n",
    "\n",
    "\n",
    "\n",
    "\n",
    "_val_labels = [label.split() for label in val_labels]\n",
    "val_labels2, val_pad_sequences = remove_sentences(_val_labels, val_pad_sequences_old)\n",
    "\n",
    "val_numerical_labels = [label_encoder.transform(t) for t in val_labels2]\n",
    "val_pad_labels = pad_sequences(val_numerical_labels, maxlen=max_sequence_length, padding=\"post\")\n",
    "\n",
    "\n",
    "num_classes = len(unique_entities)\n",
    "train_labels_one_hot = [to_categorical(a, num_classes +1) for a in train_pad_labels]\n",
    "val_labels_one_hot = [to_categorical(a, num_classes +1) for a in val_pad_labels]\n",
    "test_labels_one_hot = [to_categorical(a, num_classes +1) for a in test_pad_labels]"
   ]
  },
  {
   "cell_type": "code",
   "execution_count": 201,
   "metadata": {},
   "outputs": [
    {
     "data": {
      "text/plain": [
       "46"
      ]
     },
     "execution_count": 201,
     "metadata": {},
     "output_type": "execute_result"
    }
   ],
   "source": [
    "len(test_labels_one_hot[1])"
   ]
  },
  {
   "cell_type": "code",
   "execution_count": 202,
   "metadata": {},
   "outputs": [
    {
     "name": "stdout",
     "output_type": "stream",
     "text": [
      "[[ 12  37  25 ...   0   0   0]\n",
      " [  5 266  41 ...   0   0   0]\n",
      " [  5 266  41 ...   0   0   0]\n",
      " ...\n",
      " [ 12  46  25 ...   0   0   0]\n",
      " [ 12  37  25 ...   0   0   0]\n",
      " [ 88   7  14 ...   0   0   0]]\n"
     ]
    }
   ],
   "source": [
    "print((test_pad_sequences))"
   ]
  },
  {
   "cell_type": "markdown",
   "metadata": {
    "id": "975GjI0tp7_9"
   },
   "source": [
    "<h1><a name=\"section-three\"> 3. Disseny del model i entrenament </a></h1>"
   ]
  },
  {
   "cell_type": "markdown",
   "metadata": {
    "id": "UMY7LjpHv7GZ"
   },
   "source": [
    "---\n",
    "<h1><a name=\"ex-five\"><center> ✏ Exercici 5 ✏</a></h1>\n",
    "\n",
    "De forma similar com féreu a la primera part de la pràctica us demanem que dissenyeu l'arquitectura i entreneu el model. Podeu fer servir una arquitectura similar. Ara bé, per capturar les dependències seqüencials podeu canviar la capa de GlobalMaxPooling1D per una LSTM."
   ]
  },
  {
   "cell_type": "code",
   "execution_count": 203,
   "metadata": {
    "executionInfo": {
     "elapsed": 5,
     "status": "aborted",
     "timestamp": 1729339845913,
     "user": {
      "displayName": "Jordi Luque",
      "userId": "10816317814088701546"
     },
     "user_tz": -120
    },
    "id": "O8Ed4x77t_4d"
   },
   "outputs": [
    {
     "name": "stdout",
     "output_type": "stream",
     "text": [
      "(187588,) [  0   1   2   3   4   5   6   7   8   9  10  11  12  13  14  15  16  17\n",
      "  18  19  20  21  22  23  24  25  26  27  28  29  30  31  32  33  34  35\n",
      "  36  37  38  39  40  41  42  43  44  45  46  47  48  49  50  51  52  53\n",
      "  54  55  56  57  58  59  60  61  62  63  64  65  66  67  68  69  70  71\n",
      "  72  73  74  75  76  77  78  79  80  81  82  83  84  85  86  87  88  89\n",
      "  90  91  92  93  94  95  96  97  98  99 100 101 102 103 104 105 106 107\n",
      " 108 109 110 111 112 113 114 115 116 117 118 119]\n"
     ]
    }
   ],
   "source": [
    "s = train_pad_labels.shape\n",
    "train_flat_labels = train_pad_labels.reshape(s[0]*s[1])\n",
    "train_unq_labels = np.unique(train_flat_labels)\n",
    "print(train_flat_labels.shape, train_unq_labels)"
   ]
  },
  {
   "cell_type": "code",
   "execution_count": 27,
   "metadata": {
    "executionInfo": {
     "elapsed": 5,
     "status": "aborted",
     "timestamp": 1729339845913,
     "user": {
      "displayName": "Jordi Luque",
      "userId": "10816317814088701546"
     },
     "user_tz": -120
    },
    "id": "XMPaZzX4sdH4"
   },
   "outputs": [],
   "source": [
    "class TransformerBlock(keras.layers.Layer):\n",
    "    def __init__(self, embed_dim, num_heads, ff_dim, rate=0.1):\n",
    "        super().__init__()\n",
    "        self.att = keras.layers.MultiHeadAttention(\n",
    "            num_heads=num_heads, key_dim=embed_dim\n",
    "        )\n",
    "        self.ffn = keras.Sequential(\n",
    "            [\n",
    "                keras.layers.Dense(ff_dim, activation=\"relu\"),\n",
    "                keras.layers.Dense(embed_dim),\n",
    "            ]\n",
    "        )\n",
    "        self.layernorm1 = keras.layers.LayerNormalization(epsilon=1e-6)\n",
    "        self.layernorm2 = keras.layers.LayerNormalization(epsilon=1e-6)\n",
    "        self.dropout1 = keras.layers.Dropout(rate)\n",
    "        self.dropout2 = keras.layers.Dropout(rate)\n",
    "\n",
    "    def call(self, inputs, training=False):\n",
    "        attn_output = self.att(inputs, inputs)\n",
    "        attn_output = self.dropout1(attn_output, training=training)\n",
    "        out1 = self.layernorm1(inputs + attn_output)\n",
    "        ffn_output = self.ffn(out1)\n",
    "        ffn_output = self.dropout2(ffn_output, training=training)\n",
    "        return self.layernorm2(out1 + ffn_output)\n",
    "\n",
    "\n",
    "class TokenAndPositionEmbedding(keras.layers.Layer):\n",
    "    def __init__(self, maxlen, vocab_size, embed_dim):\n",
    "        super().__init__()\n",
    "        self.token_emb = keras.layers.Embedding(\n",
    "            input_dim=vocab_size, output_dim=embed_dim\n",
    "        )\n",
    "        self.pos_emb = keras.layers.Embedding(input_dim=maxlen, output_dim=embed_dim)\n",
    "\n",
    "    def call(self, inputs):\n",
    "        maxlen = tf.shape(inputs)[-1]\n",
    "        positions = tf.range(start=0, limit=maxlen, delta=1)\n",
    "        position_embeddings = self.pos_emb(positions)\n",
    "        token_embeddings = self.token_emb(inputs)\n",
    "        return token_embeddings + position_embeddings\n",
    "\n",
    "\n",
    "\n"
   ]
  },
  {
   "cell_type": "code",
   "execution_count": 120,
   "metadata": {},
   "outputs": [
    {
     "name": "stdout",
     "output_type": "stream",
     "text": [
      "train_pad_sequences shape: (4078, 46)\n",
      "train_labels_one_hot shape: (4078, 46, 119)\n",
      "val_pad_sequences shape: (897, 46)\n",
      "val_labels_one_hot shape: (897, 46, 119)\n"
     ]
    }
   ],
   "source": [
    "print(\"train_pad_sequences shape:\", train_pad_sequences.shape)\n",
    "print(\"train_labels_one_hot shape:\", np.shape(train_labels_one_hot))\n",
    "\n",
    "print(\"val_pad_sequences shape:\", val_pad_sequences.shape)\n",
    "print(\"val_labels_one_hot shape:\", np.shape(val_labels_one_hot))\n",
    "\n"
   ]
  },
  {
   "cell_type": "code",
   "execution_count": null,
   "metadata": {},
   "outputs": [],
   "source": [
    "from sklearn.utils.class_weight import compute_class_weight\n",
    "class_weights = compute_class_weight(\n",
    "    class_weight='balanced',\n",
    "    classes=np.unique(train_pad_labels.flatten()),\n",
    "    y=train_pad_labels.flatten()\n",
    ")\n",
    "\n",
    "class_weights_dict = dict(enumerate(class_weights))\n",
    "# A KERAS NO LI AGRADA SI LI PASSEM UNS WEIGHTS, PERQUÈ ESTEM FENT PREDICCIÓ TOKEN A TOKEN\n",
    "# HEM D'UTILTIZAR SAMPLE WEIGHTS\n",
    "# SINCERAMENT, NO SÉ SI ESTÀ BÉ, I HE PROVAT I TAMPOC MILLORA GAIRE\n",
    "\n",
    "class_weights_dict = {i: weight for i, weight in enumerate(class_weights)}\n",
    "\n",
    "sample_weights = np.ones(train_pad_labels.shape)\n",
    "for class_label, weight in class_weights_dict.items():\n",
    "    sample_weights[train_pad_labels == class_label] = weight"
   ]
  },
  {
   "cell_type": "code",
   "execution_count": 205,
   "metadata": {},
   "outputs": [],
   "source": [
    "from keras.layers import Embedding, LSTM, Dense, GlobalMaxPooling1D, Dropout, Conv1D, GlobalAveragePooling1D, LayerNormalization, TimeDistributed \n",
    "from keras.metrics import F1Score"
   ]
  },
  {
   "cell_type": "code",
   "execution_count": 208,
   "metadata": {},
   "outputs": [
    {
     "data": {
      "text/plain": [
       "46"
      ]
     },
     "execution_count": 208,
     "metadata": {},
     "output_type": "execute_result"
    }
   ],
   "source": [
    "len(train_pad_sequences[0])"
   ]
  },
  {
   "cell_type": "code",
   "execution_count": 223,
   "metadata": {
    "executionInfo": {
     "elapsed": 5,
     "status": "aborted",
     "timestamp": 1729339845913,
     "user": {
      "displayName": "Jordi Luque",
      "userId": "10816317814088701546"
     },
     "user_tz": -120
    },
    "id": "PcWiSLm3nvdW"
   },
   "outputs": [
    {
     "name": "stdout",
     "output_type": "stream",
     "text": [
      "Epoch 1/10\n",
      "\u001b[1m128/128\u001b[0m \u001b[32m━━━━━━━━━━━━━━━━━━━━\u001b[0m\u001b[37m\u001b[0m \u001b[1m17s\u001b[0m 84ms/step - accuracy: 0.8611 - loss: 1.3924 - val_accuracy: 0.9470 - val_loss: 0.2606\n",
      "Epoch 2/10\n",
      "\u001b[1m128/128\u001b[0m \u001b[32m━━━━━━━━━━━━━━━━━━━━\u001b[0m\u001b[37m\u001b[0m \u001b[1m7s\u001b[0m 58ms/step - accuracy: 0.9566 - loss: 0.2081 - val_accuracy: 0.9726 - val_loss: 0.1540\n",
      "Epoch 3/10\n",
      "\u001b[1m128/128\u001b[0m \u001b[32m━━━━━━━━━━━━━━━━━━━━\u001b[0m\u001b[37m\u001b[0m \u001b[1m9s\u001b[0m 70ms/step - accuracy: 0.9797 - loss: 0.1153 - val_accuracy: 0.9802 - val_loss: 0.1152\n",
      "Epoch 4/10\n",
      "\u001b[1m128/128\u001b[0m \u001b[32m━━━━━━━━━━━━━━━━━━━━\u001b[0m\u001b[37m\u001b[0m \u001b[1m8s\u001b[0m 65ms/step - accuracy: 0.9870 - loss: 0.0742 - val_accuracy: 0.9835 - val_loss: 0.0982\n",
      "Epoch 5/10\n",
      "\u001b[1m128/128\u001b[0m \u001b[32m━━━━━━━━━━━━━━━━━━━━\u001b[0m\u001b[37m\u001b[0m \u001b[1m9s\u001b[0m 68ms/step - accuracy: 0.9895 - loss: 0.0574 - val_accuracy: 0.9850 - val_loss: 0.0887\n",
      "Epoch 6/10\n",
      "\u001b[1m128/128\u001b[0m \u001b[32m━━━━━━━━━━━━━━━━━━━━\u001b[0m\u001b[37m\u001b[0m \u001b[1m9s\u001b[0m 70ms/step - accuracy: 0.9921 - loss: 0.0424 - val_accuracy: 0.9862 - val_loss: 0.0828\n",
      "Epoch 7/10\n",
      "\u001b[1m128/128\u001b[0m \u001b[32m━━━━━━━━━━━━━━━━━━━━\u001b[0m\u001b[37m\u001b[0m \u001b[1m9s\u001b[0m 63ms/step - accuracy: 0.9929 - loss: 0.0373 - val_accuracy: 0.9872 - val_loss: 0.0785\n",
      "Epoch 8/10\n",
      "\u001b[1m128/128\u001b[0m \u001b[32m━━━━━━━━━━━━━━━━━━━━\u001b[0m\u001b[37m\u001b[0m \u001b[1m8s\u001b[0m 64ms/step - accuracy: 0.9946 - loss: 0.0279 - val_accuracy: 0.9877 - val_loss: 0.0754\n",
      "Epoch 9/10\n",
      "\u001b[1m128/128\u001b[0m \u001b[32m━━━━━━━━━━━━━━━━━━━━\u001b[0m\u001b[37m\u001b[0m \u001b[1m8s\u001b[0m 64ms/step - accuracy: 0.9951 - loss: 0.0246 - val_accuracy: 0.9887 - val_loss: 0.0739\n",
      "Epoch 10/10\n",
      "\u001b[1m128/128\u001b[0m \u001b[32m━━━━━━━━━━━━━━━━━━━━\u001b[0m\u001b[37m\u001b[0m \u001b[1m9s\u001b[0m 71ms/step - accuracy: 0.9959 - loss: 0.0212 - val_accuracy: 0.9887 - val_loss: 0.0727\n",
      "\u001b[1m28/28\u001b[0m \u001b[32m━━━━━━━━━━━━━━━━━━━━\u001b[0m\u001b[37m\u001b[0m \u001b[1m0s\u001b[0m 14ms/step - accuracy: 0.9887 - loss: 0.0730\n",
      "Test accuracy: 0.9892410039901733\n"
     ]
    }
   ],
   "source": [
    "#TODO\n",
    "embedding_dim = 1000\n",
    "vocab_size = num_words + 1\n",
    "\n",
    "model = Sequential()\n",
    "model.add(Embedding(vocab_size, embedding_dim)) #layer 1\n",
    "#model.add(Conv1D(64, 4, padding=\"same\")) \n",
    "model.add(LSTM(64, return_sequences=True)) #layer 2\n",
    "model.add(TimeDistributed(Dense(num_classes+1, activation=\"softmax\")))\n",
    "# Compile the model\n",
    "model.compile(optimizer='adam', loss='categorical_crossentropy', metrics=['accuracy'])\n",
    "\n",
    "# Train the model\n",
    "batch_size = 32\n",
    "epochs = 10\n",
    "model.fit(train_pad_sequences, np.array(train_labels_one_hot), batch_size=batch_size, epochs=epochs, validation_data=(val_pad_sequences, np.array(val_labels_one_hot)))\n",
    "\n",
    "# Evaluate the model on the test set\n",
    "loss, accuracy = model.evaluate(test_pad_sequences, np.array(test_labels_one_hot), batch_size=batch_size)\n",
    "print(f\"Test accuracy: {accuracy}\")\n"
   ]
  },
  {
   "cell_type": "code",
   "execution_count": null,
   "metadata": {},
   "outputs": [
    {
     "name": "stdout",
     "output_type": "stream",
     "text": [
      "Epoch 1/10\n",
      "\u001b[1m128/128\u001b[0m \u001b[32m━━━━━━━━━━━━━━━━━━━━\u001b[0m\u001b[37m\u001b[0m \u001b[1m14s\u001b[0m 65ms/step - accuracy: 0.7412 - loss: 5.1594 - val_accuracy: 0.8000 - val_loss: 1.0401\n",
      "Epoch 2/10\n",
      "\u001b[1m128/128\u001b[0m \u001b[32m━━━━━━━━━━━━━━━━━━━━\u001b[0m\u001b[37m\u001b[0m \u001b[1m9s\u001b[0m 68ms/step - accuracy: 0.8069 - loss: 2.8844 - val_accuracy: 0.8253 - val_loss: 0.8543\n",
      "Epoch 3/10\n",
      "\u001b[1m128/128\u001b[0m \u001b[32m━━━━━━━━━━━━━━━━━━━━\u001b[0m\u001b[37m\u001b[0m \u001b[1m9s\u001b[0m 72ms/step - accuracy: 0.8396 - loss: 1.5329 - val_accuracy: 0.8728 - val_loss: 0.6706\n",
      "Epoch 4/10\n",
      "\u001b[1m128/128\u001b[0m \u001b[32m━━━━━━━━━━━━━━━━━━━━\u001b[0m\u001b[37m\u001b[0m \u001b[1m8s\u001b[0m 61ms/step - accuracy: 0.8803 - loss: 1.3195 - val_accuracy: 0.8988 - val_loss: 0.5319\n",
      "Epoch 5/10\n",
      "\u001b[1m128/128\u001b[0m \u001b[32m━━━━━━━━━━━━━━━━━━━━\u001b[0m\u001b[37m\u001b[0m \u001b[1m10s\u001b[0m 81ms/step - accuracy: 0.9035 - loss: 0.6562 - val_accuracy: 0.9094 - val_loss: 0.4517\n",
      "Epoch 6/10\n",
      "\u001b[1m128/128\u001b[0m \u001b[32m━━━━━━━━━━━━━━━━━━━━\u001b[0m\u001b[37m\u001b[0m \u001b[1m11s\u001b[0m 88ms/step - accuracy: 0.9191 - loss: 0.4019 - val_accuracy: 0.9124 - val_loss: 0.4018\n",
      "Epoch 7/10\n",
      "\u001b[1m128/128\u001b[0m \u001b[32m━━━━━━━━━━━━━━━━━━━━\u001b[0m\u001b[37m\u001b[0m \u001b[1m11s\u001b[0m 87ms/step - accuracy: 0.9210 - loss: 0.3513 - val_accuracy: 0.9231 - val_loss: 0.3234\n",
      "Epoch 8/10\n",
      "\u001b[1m128/128\u001b[0m \u001b[32m━━━━━━━━━━━━━━━━━━━━\u001b[0m\u001b[37m\u001b[0m \u001b[1m10s\u001b[0m 79ms/step - accuracy: 0.9327 - loss: 0.2573 - val_accuracy: 0.9369 - val_loss: 0.2688\n",
      "Epoch 9/10\n",
      "\u001b[1m128/128\u001b[0m \u001b[32m━━━━━━━━━━━━━━━━━━━━\u001b[0m\u001b[37m\u001b[0m \u001b[1m10s\u001b[0m 76ms/step - accuracy: 0.9463 - loss: 0.2371 - val_accuracy: 0.9494 - val_loss: 0.2378\n",
      "Epoch 10/10\n",
      "\u001b[1m128/128\u001b[0m \u001b[32m━━━━━━━━━━━━━━━━━━━━\u001b[0m\u001b[37m\u001b[0m \u001b[1m9s\u001b[0m 73ms/step - accuracy: 0.9580 - loss: 0.1863 - val_accuracy: 0.9609 - val_loss: 0.2124\n",
      "\u001b[1m28/28\u001b[0m \u001b[32m━━━━━━━━━━━━━━━━━━━━\u001b[0m\u001b[37m\u001b[0m \u001b[1m0s\u001b[0m 16ms/step - accuracy: 0.9612 - loss: 0.2109\n",
      "Test accuracy: 0.9649717807769775\n"
     ]
    }
   ],
   "source": [
    "#TODO\n",
    "embedding_dim = 1000\n",
    "vocab_size = num_words + 1\n",
    "\n",
    "model = Sequential()\n",
    "model.add(Embedding(vocab_size, embedding_dim)) #layer 1\n",
    "#model.add(Conv1D(64, 4, padding=\"same\")) \n",
    "model.add(LSTM(64, return_sequences=True)) #layer 2\n",
    "model.add(TimeDistributed(Dense(num_classes+1, activation=\"softmax\")))\n",
    "# Compile the model\n",
    "model.compile(optimizer='adam', loss='categorical_crossentropy', metrics=['accuracy'])\n",
    "\n",
    "# Train the model\n",
    "batch_size = 32\n",
    "epochs = 10\n",
    "# SAMPLE WEIGHT ENLLOC DE CLASS WEIGHT\n",
    "model.fit(train_pad_sequences, np.array(train_labels_one_hot), batch_size=batch_size,  sample_weight = sample_weights, epochs=epochs,  validation_data=(val_pad_sequences, np.array(val_labels_one_hot)))\n",
    "\n",
    "# Evaluate the model on the test set\n",
    "loss, accuracy = model.evaluate(test_pad_sequences, np.array(test_labels_one_hot), batch_size=batch_size)\n",
    "print(f\"Test accuracy: {accuracy}\")\n"
   ]
  },
  {
   "cell_type": "code",
   "execution_count": null,
   "metadata": {},
   "outputs": [
    {
     "name": "stdout",
     "output_type": "stream",
     "text": [
      "Epoch 1/10\n",
      "\u001b[1m128/128\u001b[0m \u001b[32m━━━━━━━━━━━━━━━━━━━━\u001b[0m\u001b[37m\u001b[0m \u001b[1m16s\u001b[0m 75ms/step - accuracy: 0.8633 - f1: 0.6525 - loss: 1.3905 - val_accuracy: 0.9443 - val_f1: 0.9633 - val_loss: 0.2760\n",
      "Epoch 2/10\n",
      "\u001b[1m128/128\u001b[0m \u001b[32m━━━━━━━━━━━━━━━━━━━━\u001b[0m\u001b[37m\u001b[0m \u001b[1m8s\u001b[0m 63ms/step - accuracy: 0.9521 - f1: 0.9690 - loss: 0.2281 - val_accuracy: 0.9693 - val_f1: 0.9731 - val_loss: 0.1684\n",
      "Epoch 3/10\n",
      "\u001b[1m128/128\u001b[0m \u001b[32m━━━━━━━━━━━━━━━━━━━━\u001b[0m\u001b[37m\u001b[0m \u001b[1m9s\u001b[0m 72ms/step - accuracy: 0.9779 - f1: 0.9796 - loss: 0.1261 - val_accuracy: 0.9788 - val_f1: 0.9811 - val_loss: 0.1209\n",
      "Epoch 4/10\n",
      "\u001b[1m128/128\u001b[0m \u001b[32m━━━━━━━━━━━━━━━━━━━━\u001b[0m\u001b[37m\u001b[0m \u001b[1m7s\u001b[0m 51ms/step - accuracy: 0.9860 - f1: 0.9862 - loss: 0.0809 - val_accuracy: 0.9827 - val_f1: 0.9842 - val_loss: 0.1013\n",
      "Epoch 5/10\n",
      "\u001b[1m128/128\u001b[0m \u001b[32m━━━━━━━━━━━━━━━━━━━━\u001b[0m\u001b[37m\u001b[0m \u001b[1m8s\u001b[0m 61ms/step - accuracy: 0.9890 - f1: 0.9896 - loss: 0.0596 - val_accuracy: 0.9849 - val_f1: 0.9862 - val_loss: 0.0895\n",
      "Epoch 6/10\n",
      "\u001b[1m128/128\u001b[0m \u001b[32m━━━━━━━━━━━━━━━━━━━━\u001b[0m\u001b[37m\u001b[0m \u001b[1m9s\u001b[0m 66ms/step - accuracy: 0.9916 - f1: 0.9920 - loss: 0.0449 - val_accuracy: 0.9862 - val_f1: 0.9869 - val_loss: 0.0828\n",
      "Epoch 7/10\n",
      "\u001b[1m128/128\u001b[0m \u001b[32m━━━━━━━━━━━━━━━━━━━━\u001b[0m\u001b[37m\u001b[0m \u001b[1m5s\u001b[0m 43ms/step - accuracy: 0.9930 - f1: 0.9928 - loss: 0.0373 - val_accuracy: 0.9877 - val_f1: 0.9879 - val_loss: 0.0779\n",
      "Epoch 8/10\n",
      "\u001b[1m128/128\u001b[0m \u001b[32m━━━━━━━━━━━━━━━━━━━━\u001b[0m\u001b[37m\u001b[0m \u001b[1m8s\u001b[0m 59ms/step - accuracy: 0.9946 - f1: 0.9942 - loss: 0.0288 - val_accuracy: 0.9883 - val_f1: 0.9887 - val_loss: 0.0749\n",
      "Epoch 9/10\n",
      "\u001b[1m128/128\u001b[0m \u001b[32m━━━━━━━━━━━━━━━━━━━━\u001b[0m\u001b[37m\u001b[0m \u001b[1m8s\u001b[0m 64ms/step - accuracy: 0.9956 - f1: 0.9952 - loss: 0.0238 - val_accuracy: 0.9887 - val_f1: 0.9891 - val_loss: 0.0736\n",
      "Epoch 10/10\n",
      "\u001b[1m128/128\u001b[0m \u001b[32m━━━━━━━━━━━━━━━━━━━━\u001b[0m\u001b[37m\u001b[0m \u001b[1m8s\u001b[0m 59ms/step - accuracy: 0.9962 - f1: 0.9960 - loss: 0.0204 - val_accuracy: 0.9891 - val_f1: 0.9897 - val_loss: 0.0716\n",
      "\u001b[1m28/28\u001b[0m \u001b[32m━━━━━━━━━━━━━━━━━━━━\u001b[0m\u001b[37m\u001b[0m \u001b[1m0s\u001b[0m 13ms/step - accuracy: 0.9893 - f1: 0.9894 - loss: 0.0711\n"
     ]
    },
    {
     "ename": "ValueError",
     "evalue": "too many values to unpack (expected 2)",
     "output_type": "error",
     "traceback": [
      "\u001b[1;31m---------------------------------------------------------------------------\u001b[0m",
      "\u001b[1;31mValueError\u001b[0m                                Traceback (most recent call last)",
      "Cell \u001b[1;32mIn[227], line 41\u001b[0m\n\u001b[0;32m     38\u001b[0m model\u001b[38;5;241m.\u001b[39mfit(train_pad_sequences, np\u001b[38;5;241m.\u001b[39marray(train_labels_one_hot), batch_size\u001b[38;5;241m=\u001b[39mbatch_size, epochs\u001b[38;5;241m=\u001b[39mepochs, validation_data\u001b[38;5;241m=\u001b[39m(val_pad_sequences, np\u001b[38;5;241m.\u001b[39marray(val_labels_one_hot)))\n\u001b[0;32m     40\u001b[0m \u001b[38;5;66;03m# Evaluate the model on the test set\u001b[39;00m\n\u001b[1;32m---> 41\u001b[0m loss, accuracy \u001b[38;5;241m=\u001b[39m model\u001b[38;5;241m.\u001b[39mevaluate(test_pad_sequences, np\u001b[38;5;241m.\u001b[39marray(test_labels_one_hot), batch_size\u001b[38;5;241m=\u001b[39mbatch_size)\n\u001b[0;32m     42\u001b[0m \u001b[38;5;28mprint\u001b[39m(\u001b[38;5;124mf\u001b[39m\u001b[38;5;124m\"\u001b[39m\u001b[38;5;124mTest accuracy: \u001b[39m\u001b[38;5;132;01m{\u001b[39;00maccuracy\u001b[38;5;132;01m}\u001b[39;00m\u001b[38;5;124m\"\u001b[39m)\n",
      "\u001b[1;31mValueError\u001b[0m: too many values to unpack (expected 2)"
     ]
    }
   ],
   "source": [
    "# PER FER SERVIR F1_SCORE, el de Keras.metrics crec que no va, l'hem de calcular nosaltres a mà\n",
    "from tensorflow.keras import backend as K\n",
    "\n",
    "def f1(y_true, y_pred):\n",
    "    # Fet amb el chat nidea de si esta be\n",
    "    def recall(y_true, y_pred):\n",
    "        true_positives = K.sum(K.round(K.clip(y_true * y_pred, 0, 1)))\n",
    "        possible_positives = K.sum(K.round(K.clip(y_true, 0, 1)))\n",
    "        recall = true_positives / (possible_positives + K.epsilon())\n",
    "        return recall\n",
    "\n",
    "    def precision(y_true, y_pred):\n",
    "        true_positives = K.sum(K.round(K.clip(y_true * y_pred, 0, 1)))\n",
    "        predicted_positives = K.sum(K.round(K.clip(y_pred, 0, 1)))\n",
    "        precision = true_positives / (predicted_positives + K.epsilon())\n",
    "        return precision\n",
    "\n",
    "    precision = precision(y_true, y_pred)\n",
    "    recall = recall(y_true, y_pred)\n",
    "    return 2 * ((precision * recall) / (precision + recall + K.epsilon()))\n",
    "\n",
    "#TODO\n",
    "embedding_dim = 1000\n",
    "vocab_size = num_words + 1\n",
    "\n",
    "model = Sequential()\n",
    "model.add(Embedding(vocab_size, embedding_dim)) #layer 1\n",
    "#model.add(Conv1D(64, 4, padding=\"same\")) \n",
    "model.add(LSTM(64, return_sequences=True)) #layer 2\n",
    "model.add(TimeDistributed(Dense(num_classes+1, activation=\"softmax\")))\n",
    "# Compile the model\n",
    "\n",
    "model.compile(optimizer='adam', loss='categorical_crossentropy', metrics=['accuracy', f1])\n",
    "\n",
    "# Train the model\n",
    "batch_size = 32\n",
    "epochs = 10\n",
    "model.fit(train_pad_sequences, np.array(train_labels_one_hot), batch_size=batch_size, epochs=epochs, validation_data=(val_pad_sequences, np.array(val_labels_one_hot)))\n"
   ]
  },
  {
   "cell_type": "code",
   "execution_count": 229,
   "metadata": {},
   "outputs": [
    {
     "name": "stdout",
     "output_type": "stream",
     "text": [
      "\u001b[1m28/28\u001b[0m \u001b[32m━━━━━━━━━━━━━━━━━━━━\u001b[0m\u001b[37m\u001b[0m \u001b[1m0s\u001b[0m 13ms/step - accuracy: 0.9893 - f1: 0.9894 - loss: 0.0711\n",
      "Test accuracy: 0.9894866943359375\n",
      "Test f1: 0.9890897870063782\n"
     ]
    }
   ],
   "source": [
    "\n",
    "# Evaluate the model on the test set\n",
    "loss, accuracy, f1_score = model.evaluate(test_pad_sequences, np.array(test_labels_one_hot), batch_size=batch_size)\n",
    "print(f\"Test accuracy: {accuracy}\")\n",
    "print(f\"Test f1: {f1_score}\")\n"
   ]
  },
  {
   "cell_type": "code",
   "execution_count": 230,
   "metadata": {
    "executionInfo": {
     "elapsed": 5,
     "status": "aborted",
     "timestamp": 1729339845913,
     "user": {
      "displayName": "Jordi Luque",
      "userId": "10816317814088701546"
     },
     "user_tz": -120
    },
    "id": "-ts_03xMaADp"
   },
   "outputs": [
    {
     "name": "stdout",
     "output_type": "stream",
     "text": [
      "\u001b[1m28/28\u001b[0m \u001b[32m━━━━━━━━━━━━━━━━━━━━\u001b[0m\u001b[37m\u001b[0m \u001b[1m2s\u001b[0m 46ms/step\n"
     ]
    }
   ],
   "source": [
    "preds = model.predict(test_pad_sequences)"
   ]
  },
  {
   "cell_type": "code",
   "execution_count": 231,
   "metadata": {
    "executionInfo": {
     "elapsed": 5,
     "status": "aborted",
     "timestamp": 1729339845913,
     "user": {
      "displayName": "Jordi Luque",
      "userId": "10816317814088701546"
     },
     "user_tz": -120
    },
    "id": "4cP_IiZFmFK8"
   },
   "outputs": [
    {
     "data": {
      "text/plain": [
       "(885, 46, 120)"
      ]
     },
     "execution_count": 231,
     "metadata": {},
     "output_type": "execute_result"
    }
   ],
   "source": [
    "preds.shape"
   ]
  },
  {
   "cell_type": "code",
   "execution_count": 232,
   "metadata": {
    "executionInfo": {
     "elapsed": 4,
     "status": "aborted",
     "timestamp": 1729339845913,
     "user": {
      "displayName": "Jordi Luque",
      "userId": "10816317814088701546"
     },
     "user_tz": -120
    },
    "id": "nxFoy2UBktFS"
   },
   "outputs": [],
   "source": [
    "def preds_to_index(preds, seq_lens):\n",
    "  '''\n",
    "  Turn predictions to numerical indexes, flatten the sentences and discard padding.\n",
    "  '''\n",
    "  idx_preds = []\n",
    "  for pred, seq_len in zip(preds,seq_lens):\n",
    "      for l in range(seq_len):\n",
    "        idx_preds.append(np.argmax(pred[l]))\n",
    "  return idx_preds\n",
    "\n"
   ]
  },
  {
   "cell_type": "markdown",
   "metadata": {
    "id": "LeVIzSA4NYgD"
   },
   "source": [
    "Com ja sabeu, NER es una tasca on les dades estan molt desbalancejades. La gran majoria de les nostres etiquetes serán 'O' (outside). Es pot donar el cas on el model tingui una accuracy molt alta predint sempre 'O'.\n",
    "\n",
    "Per mesurar millor com de bó és el nostre model, calcularem la F1 score per cada classe, així com la mitjana (macro average). Quan prepareu el vostre document, heu de reportar aquesta mitjana com a mètrica del vostre model, no l'acuracy."
   ]
  },
  {
   "cell_type": "code",
   "execution_count": 233,
   "metadata": {
    "executionInfo": {
     "elapsed": 4,
     "status": "aborted",
     "timestamp": 1729339845913,
     "user": {
      "displayName": "Jordi Luque",
      "userId": "10816317814088701546"
     },
     "user_tz": -120
    },
    "id": "f4DL7Tota13v"
   },
   "outputs": [
    {
     "name": "stdout",
     "output_type": "stream",
     "text": [
      "              precision    recall  f1-score   support\n",
      "\n",
      "           0       0.98      1.00      0.99      1549\n",
      "           1       1.00      0.79      0.88        24\n",
      "           2       1.00      0.66      0.79        29\n",
      "           3       0.94      0.97      0.96        79\n",
      "           4       1.00      0.12      0.22         8\n",
      "           5       1.00      0.06      0.11        18\n",
      "           6       1.00      0.00      0.00         1\n",
      "           7       0.70      1.00      0.82         7\n",
      "           8       1.00      0.67      0.80         3\n",
      "           9       1.00      0.33      0.50         3\n",
      "          13       1.00      1.00      1.00         2\n",
      "          14       1.00      0.00      0.00         3\n",
      "          15       0.75      0.92      0.83        13\n",
      "          16       0.93      0.93      0.93        14\n",
      "          17       0.64      0.63      0.64        43\n",
      "          18       0.96      1.00      0.98        24\n",
      "          19       1.00      1.00      1.00         6\n",
      "          20       1.00      1.00      1.00        33\n",
      "          21       1.00      0.00      0.00         2\n",
      "          24       0.91      1.00      0.95        10\n",
      "          25       0.98      0.98      0.98       140\n",
      "          26       0.97      1.00      0.99        33\n",
      "          27       0.95      1.00      0.98        41\n",
      "          28       1.00      0.83      0.91         6\n",
      "          30       1.00      0.33      0.50         3\n",
      "          31       0.50      1.00      0.67         1\n",
      "          32       0.96      0.93      0.95        85\n",
      "          33       1.00      0.00      0.00         3\n",
      "          34       0.72      0.95      0.82        19\n",
      "          35       1.00      0.97      0.98        32\n",
      "          36       1.00      1.00      1.00         5\n",
      "          38       1.00      0.71      0.83        14\n",
      "          39       1.00      1.00      1.00         7\n",
      "          40       1.00      0.91      0.95        22\n",
      "          41       1.00      0.17      0.29         6\n",
      "          42       0.94      1.00      0.97        17\n",
      "          43       0.50      1.00      0.67         1\n",
      "          44       1.00      1.00      1.00         3\n",
      "          45       0.11      0.12      0.12         8\n",
      "          46       0.96      0.99      0.98       613\n",
      "          47       0.95      1.00      0.97        18\n",
      "          48       1.00      0.75      0.86        12\n",
      "          49       0.92      1.00      0.96        11\n",
      "          50       1.00      0.00      0.00         1\n",
      "          51       1.00      0.80      0.89         5\n",
      "          52       1.00      0.00      0.00         1\n",
      "          54       0.00      1.00      0.00         0\n",
      "          55       1.00      0.00      0.00         3\n",
      "          56       1.00      0.75      0.86         4\n",
      "          62       0.98      0.98      0.98        62\n",
      "          63       1.00      0.00      0.00         1\n",
      "          64       1.00      0.00      0.00         7\n",
      "          66       1.00      1.00      1.00         7\n",
      "          71       1.00      0.50      0.67         2\n",
      "          72       1.00      0.33      0.50         3\n",
      "          73       0.98      0.99      0.98       519\n",
      "          75       1.00      1.00      1.00        12\n",
      "          76       0.65      0.85      0.73        13\n",
      "          77       1.00      1.00      1.00        10\n",
      "          78       0.98      0.98      0.98        52\n",
      "          79       1.00      0.27      0.43        22\n",
      "          84       0.82      1.00      0.90         9\n",
      "          86       0.65      0.57      0.60        23\n",
      "          87       1.00      1.00      1.00        16\n",
      "          88       1.00      1.00      1.00         2\n",
      "          90       1.00      1.00      1.00         6\n",
      "          92       1.00      0.00      0.00         3\n",
      "          94       1.00      0.00      0.00         1\n",
      "          95       0.72      0.93      0.81        14\n",
      "          96       1.00      0.00      0.00         1\n",
      "         100       1.00      0.00      0.00         6\n",
      "         102       1.00      0.00      0.00         1\n",
      "         103       0.23      0.62      0.33         8\n",
      "         104       0.90      0.97      0.94       143\n",
      "         108       1.00      0.67      0.80         3\n",
      "         111       1.00      1.00      1.00        58\n",
      "         112       1.00      1.00      1.00         4\n",
      "         115       1.00      0.33      0.50         3\n",
      "         116       0.98      0.97      0.98       147\n",
      "         117       1.00      0.00      0.00         1\n",
      "         118       1.00      0.00      0.00         1\n",
      "         119       0.99      0.99      0.99      4865\n",
      "\n",
      "    accuracy                           0.97      9010\n",
      "   macro avg       0.92      0.66      0.65      9010\n",
      "weighted avg       0.98      0.97      0.97      9010\n",
      "\n"
     ]
    }
   ],
   "source": [
    "test_labels_idx = preds_to_index(test_labels_one_hot,[len(a) for a in test_sequences])\n",
    "preds_idx = preds_to_index(preds, [len(a) for a in test_sequences])\n",
    "\n",
    "print(classification_report(test_labels_idx, preds_idx, zero_division=1.0))"
   ]
  },
  {
   "cell_type": "markdown",
   "metadata": {
    "id": "VArxTPJgEaTx"
   },
   "source": [
    "A continuació podeu veure algunes prediccions del model."
   ]
  },
  {
   "cell_type": "code",
   "execution_count": 234,
   "metadata": {
    "executionInfo": {
     "elapsed": 4,
     "status": "aborted",
     "timestamp": 1729339845913,
     "user": {
      "displayName": "Jordi Luque",
      "userId": "10816317814088701546"
     },
     "user_tz": -120
    },
    "id": "_S4H2EqYmiqs"
   },
   "outputs": [
    {
     "name": "stdout",
     "output_type": "stream",
     "text": [
      "\u001b[1m28/28\u001b[0m \u001b[32m━━━━━━━━━━━━━━━━━━━━\u001b[0m\u001b[37m\u001b[0m \u001b[1m0s\u001b[0m 12ms/step\n",
      "Sentence:  i would like to find a flight from charlotte to las vegas that makes a stop in st. louis\n",
      "Original label:   O O O O O O O O B-fromloc.city_name O B-toloc.city_name I-toloc.city_name O O O O O B-stoploc.city_name I-stoploc.city_name\n",
      "Predicted label:  ['O', 'O', 'O', 'O', 'O', 'O', 'O', 'O', 'B-fromloc.city_name', 'O', 'B-toloc.city_name', 'I-toloc.city_name', 'O', 'O', 'O', 'O', 'O', 'B-stoploc.city_name', 'I-stoploc.city_name', '<pad>', '<pad>', '<pad>', '<pad>', '<pad>', '<pad>', '<pad>', '<pad>', '<pad>', '<pad>', '<pad>', '<pad>', '<pad>', '<pad>', '<pad>', '<pad>', '<pad>', '<pad>', '<pad>', '<pad>', '<pad>', '<pad>', '<pad>', '<pad>', '<pad>', '<pad>', '<pad>']\n",
      "\n",
      "Sentence:  on april first i need a ticket from tacoma to san jose departing before 7 am\n",
      "Original label:   O B-depart_date.month_name B-depart_date.day_number O O O O O B-fromloc.city_name O B-toloc.city_name I-toloc.city_name O B-depart_time.time_relative B-depart_time.time I-depart_time.time\n",
      "Predicted label:  ['O', 'B-depart_date.month_name', 'B-depart_date.day_number', 'O', 'O', 'O', 'O', 'O', 'B-fromloc.city_name', 'O', 'B-toloc.city_name', 'I-toloc.city_name', 'O', 'B-depart_time.time_relative', 'B-depart_time.time', 'I-depart_time.time', '<pad>', '<pad>', '<pad>', '<pad>', '<pad>', '<pad>', '<pad>', '<pad>', '<pad>', '<pad>', '<pad>', '<pad>', '<pad>', '<pad>', '<pad>', '<pad>', '<pad>', '<pad>', '<pad>', '<pad>', '<pad>', '<pad>', '<pad>', '<pad>', '<pad>', '<pad>', '<pad>', '<pad>', '<pad>', '<pad>']\n",
      "\n",
      "Sentence:  on april first i need a flight going from phoenix to san diego\n",
      "Original label:   O B-depart_date.month_name B-depart_date.day_number O O O O O O B-fromloc.city_name O B-toloc.city_name I-toloc.city_name\n",
      "Predicted label:  ['O', 'B-depart_date.month_name', 'B-depart_date.day_number', 'O', 'O', 'O', 'O', 'O', 'O', 'B-fromloc.city_name', 'O', 'B-toloc.city_name', 'I-toloc.city_name', '<pad>', '<pad>', '<pad>', '<pad>', '<pad>', '<pad>', '<pad>', '<pad>', '<pad>', '<pad>', '<pad>', '<pad>', '<pad>', '<pad>', '<pad>', '<pad>', '<pad>', '<pad>', '<pad>', '<pad>', '<pad>', '<pad>', '<pad>', '<pad>', '<pad>', '<pad>', '<pad>', '<pad>', '<pad>', '<pad>', '<pad>', '<pad>', '<pad>']\n",
      "\n",
      "Sentence:  i would like a flight traveling one way from phoenix to san diego on april first\n",
      "Original label:   O O O O O O B-round_trip I-round_trip O B-fromloc.city_name O B-toloc.city_name I-toloc.city_name O B-depart_date.month_name B-depart_date.day_number\n",
      "Predicted label:  ['O', 'O', 'O', 'O', 'O', 'O', 'B-round_trip', 'I-round_trip', 'O', 'B-fromloc.city_name', 'O', 'B-toloc.city_name', 'I-toloc.city_name', 'O', 'B-depart_date.month_name', 'B-depart_date.day_number', '<pad>', '<pad>', '<pad>', '<pad>', '<pad>', '<pad>', '<pad>', '<pad>', '<pad>', '<pad>', '<pad>', '<pad>', '<pad>', '<pad>', '<pad>', '<pad>', '<pad>', '<pad>', '<pad>', '<pad>', '<pad>', '<pad>', '<pad>', '<pad>', '<pad>', '<pad>', '<pad>', '<pad>', '<pad>', '<pad>']\n",
      "\n",
      "Sentence:  i would like a flight from orlando to salt lake city for april first on delta airlines\n",
      "Original label:   O O O O O O B-fromloc.city_name O B-toloc.city_name I-toloc.city_name I-toloc.city_name O B-depart_date.month_name B-depart_date.day_number O B-airline_name I-airline_name\n",
      "Predicted label:  ['O', 'O', 'O', 'O', 'O', 'O', 'B-fromloc.city_name', 'O', 'B-toloc.city_name', 'I-toloc.city_name', 'I-toloc.city_name', 'O', 'B-depart_date.month_name', 'B-depart_date.day_number', 'O', 'B-airline_name', 'I-airline_name', '<pad>', '<pad>', '<pad>', '<pad>', '<pad>', '<pad>', '<pad>', '<pad>', '<pad>', '<pad>', '<pad>', '<pad>', '<pad>', '<pad>', '<pad>', '<pad>', '<pad>', '<pad>', '<pad>', '<pad>', '<pad>', '<pad>', '<pad>', '<pad>', '<pad>', '<pad>', '<pad>', '<pad>', '<pad>']\n",
      "\n",
      "Sentence:  i need a flight from toronto to newark one way leaving wednesday evening or thursday morning\n",
      "Original label:   O O O O O B-fromloc.city_name O B-toloc.city_name B-round_trip I-round_trip O B-depart_date.day_name B-depart_time.period_of_day O B-depart_date.day_name B-depart_time.period_of_day\n",
      "Predicted label:  ['O', 'O', 'O', 'O', 'O', 'B-fromloc.city_name', 'O', 'B-toloc.city_name', 'B-round_trip', 'I-round_trip', 'O', 'B-depart_date.day_name', 'B-depart_time.period_of_day', 'B-or', 'B-depart_date.day_name', 'B-depart_time.period_of_day', '<pad>', '<pad>', '<pad>', '<pad>', '<pad>', '<pad>', '<pad>', '<pad>', '<pad>', '<pad>', '<pad>', '<pad>', '<pad>', '<pad>', '<pad>', '<pad>', '<pad>', '<pad>', '<pad>', '<pad>', '<pad>', '<pad>', '<pad>', '<pad>', '<pad>', '<pad>', '<pad>', '<pad>', '<pad>', '<pad>']\n",
      "\n",
      "Sentence:  monday morning i would like to fly from columbus to indianapolis\n",
      "Original label:   B-depart_date.day_name B-depart_time.period_of_day O O O O O O B-fromloc.city_name O B-toloc.city_name\n",
      "Predicted label:  ['B-depart_date.day_name', 'B-depart_time.period_of_day', 'O', 'O', 'O', 'O', 'O', 'O', 'B-fromloc.city_name', 'O', 'B-toloc.city_name', '<pad>', '<pad>', '<pad>', '<pad>', '<pad>', '<pad>', '<pad>', '<pad>', '<pad>', '<pad>', '<pad>', '<pad>', '<pad>', '<pad>', '<pad>', '<pad>', '<pad>', '<pad>', '<pad>', '<pad>', '<pad>', '<pad>', '<pad>', '<pad>', '<pad>', '<pad>', '<pad>', '<pad>', '<pad>', '<pad>', '<pad>', '<pad>', '<pad>', '<pad>', '<pad>']\n",
      "\n",
      "Sentence:  on wednesday april sixth i would like to fly from long beach to columbus after 3 pm\n",
      "Original label:   O B-depart_date.day_name B-depart_date.month_name B-depart_date.day_number O O O O O O B-fromloc.city_name I-fromloc.city_name O B-toloc.city_name B-depart_time.time_relative B-depart_time.time I-depart_time.time\n",
      "Predicted label:  ['O', 'B-depart_date.day_name', 'B-depart_date.month_name', 'B-depart_date.day_number', 'O', 'O', 'O', 'O', 'O', 'O', 'B-fromloc.city_name', 'I-fromloc.city_name', 'O', 'B-toloc.city_name', 'B-depart_time.time_relative', 'B-depart_time.time', 'I-depart_time.time', '<pad>', '<pad>', '<pad>', '<pad>', '<pad>', '<pad>', '<pad>', '<pad>', '<pad>', '<pad>', '<pad>', '<pad>', '<pad>', '<pad>', '<pad>', '<pad>', '<pad>', '<pad>', '<pad>', '<pad>', '<pad>', '<pad>', '<pad>', '<pad>', '<pad>', '<pad>', '<pad>', '<pad>', '<pad>']\n",
      "\n",
      "Sentence:  after 12 pm on wednesday april sixth i would like to fly from long beach to columbus\n",
      "Original label:   B-depart_time.time_relative B-depart_time.time I-depart_time.time O B-depart_date.day_name B-depart_date.month_name B-depart_date.day_number O O O O O O B-fromloc.city_name I-fromloc.city_name O B-toloc.city_name\n",
      "Predicted label:  ['B-depart_time.time_relative', 'B-depart_time.time', 'I-depart_time.time', 'O', 'B-depart_date.day_name', 'B-depart_date.month_name', 'B-depart_date.day_number', 'O', 'O', 'O', 'O', 'O', 'O', 'B-fromloc.city_name', 'I-fromloc.city_name', 'O', 'B-toloc.city_name', '<pad>', '<pad>', '<pad>', '<pad>', '<pad>', '<pad>', '<pad>', '<pad>', '<pad>', '<pad>', '<pad>', '<pad>', '<pad>', '<pad>', '<pad>', '<pad>', '<pad>', '<pad>', '<pad>', '<pad>', '<pad>', '<pad>', '<pad>', '<pad>', '<pad>', '<pad>', '<pad>', '<pad>', '<pad>']\n",
      "\n",
      "Sentence:  are there any flights from long beach to columbus on wednesday april sixth\n",
      "Original label:   O O O O O B-fromloc.city_name I-fromloc.city_name O B-toloc.city_name O B-depart_date.day_name B-depart_date.month_name B-depart_date.day_number\n",
      "Predicted label:  ['O', 'O', 'O', 'O', 'O', 'B-fromloc.city_name', 'I-fromloc.city_name', 'O', 'B-toloc.city_name', 'O', 'B-depart_date.day_name', 'B-depart_date.month_name', 'B-depart_date.day_number', '<pad>', '<pad>', '<pad>', '<pad>', '<pad>', '<pad>', '<pad>', '<pad>', '<pad>', '<pad>', '<pad>', '<pad>', '<pad>', '<pad>', '<pad>', '<pad>', '<pad>', '<pad>', '<pad>', '<pad>', '<pad>', '<pad>', '<pad>', '<pad>', '<pad>', '<pad>', '<pad>', '<pad>', '<pad>', '<pad>', '<pad>', '<pad>', '<pad>']\n",
      "\n"
     ]
    }
   ],
   "source": [
    "probs = model.predict(test_pad_sequences)\n",
    "_predicted_labels = np.argmax(probs, axis=2)\n",
    "\n",
    "predicted_labels = [list(label_encoder.inverse_transform(label)) for label in _predicted_labels]\n",
    "\n",
    "for i in range(0, 10):\n",
    "    print('Sentence: ', test_sentences[i])\n",
    "    print('Original label: ', test_labels[i])\n",
    "    print('Predicted label: ', predicted_labels[i])\n",
    "    print()"
   ]
  },
  {
   "cell_type": "markdown",
   "metadata": {
    "id": "65EQLymROmPX"
   },
   "source": [
    "---\n",
    "\n",
    " <h1><a name=\"ex-six\"><center> ✏ Exercici 6 ✏ </a></h1>\n",
    "\n",
    "Modifiqueu els següents paràmetres del model anterior i analitzeu com afecten a la seva *accuracy*:\n",
    "\n",
    " 1. **Mida dels Embeddings.** Proveu diferents mides d'*Embeddings* i observeu com canvia l'*accuracy* del model. Heu d'explicar les vostres conclusions.\n",
    "\n",
    " 2. **Xarxes Convolucionals.** Afegiu capes convolucionals al vostre model. Expliqueu amb detall els valors que heu provat i la vostra motivació a l'hora d'escollir-los. Recordeu, que també podeu provar diferents configuracions de *pooling*.\n",
    "\n",
    " 3. **Xarxes Recurrents.**  Afegiu capes recurrents al vostre model (LSTM, GRU). Expliqueu amb detall els valors que heu provat i la vostra motivació.\n",
    "\n",
    " 4. ** Transformer.** Afegiu blocs de Transformer al vostre model. Expliqueu amb detall els valors que heu provat i la vostra motivació.\n",
    "\n",
    " 5. **Regularització.** Quan proveu configuracions amb més paràmetres veureu que el model comença a tenir *overfitting* molt prompte durant l'entrenament. Afegiu *Dropout* al vostre model. Heu d'explicar la vostra decisió de valors i de posició dins de la xarxa.\n",
    "\n",
    "\n",
    " 6. **Balancejat de les classes.** Si analitzeu el dataset, veureu que la freqüència de les classes està molt desbalancejada. Keras us permet afegir un pes per a cada classe a l'hora de calcular la loss (Mireu el paràmetre \"class_weigth\" a la documentació https://keras.io/api/models/model_training_apis/). Calculeu un pes per a cada classe i afegiu-lo al mètode fit del vostre model.\n",
    "\n",
    " ---"
   ]
  },
  {
   "cell_type": "markdown",
   "metadata": {
    "id": "Dr2eNm7qJr4F"
   },
   "source": [
    "---\n",
    "\n",
    "<h1><a name=\"section-four\"> 4. Lliurable </a></h1>\n",
    "\n",
    "Heu d'entregar un document PDF de com a **màxim 10 pàgines** que incloga els resultats de tots els exercicis així com una explicació de cadascun dels resultats i de la modificació que heu fet. L'estructura del document és:\n",
    "\n",
    "1. Introducció.\n",
    "2. Experiments i Resultats (amb raonament).\n",
    "3. Conclusions.\n",
    "\n",
    "No cal que afegiu el vostre codi al document, podeu entregar el *notebook* juntament amb el document.\n",
    "\n",
    " ---"
   ]
  }
 ],
 "metadata": {
  "colab": {
   "provenance": []
  },
  "kernelspec": {
   "display_name": "Python 3",
   "language": "python",
   "name": "python3"
  },
  "language_info": {
   "codemirror_mode": {
    "name": "ipython",
    "version": 3
   },
   "file_extension": ".py",
   "mimetype": "text/x-python",
   "name": "python",
   "nbconvert_exporter": "python",
   "pygments_lexer": "ipython3",
   "version": "3.11.9"
  }
 },
 "nbformat": 4,
 "nbformat_minor": 0
}
