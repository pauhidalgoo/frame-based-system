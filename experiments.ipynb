{
 "cells": [
  {
   "cell_type": "code",
   "execution_count": 1,
   "metadata": {},
   "outputs": [],
   "source": [
    "from intent_recognition import *"
   ]
  },
  {
   "cell_type": "code",
   "execution_count": null,
   "metadata": {},
   "outputs": [
    {
     "name": "stdout",
     "output_type": "stream",
     "text": [
      "Training model 3/5"
     ]
    }
   ],
   "source": [
    "# EXERCICI 4 BÀSIC\n",
    "\n",
    "hyperparams = {'vocab_size': 500, 'embedding_dim': 768, 'epochs': 5, 'batch_size': 32}\n",
    "\n",
    "model = Sequential()\n",
    "model.add(GlobalMaxPooling1D())  # layer 2\n",
    "model.add(Dense(64, activation=\"relu\"))  # layer 3\n",
    "\n",
    "basic = IntentRecognition(model, hyperparams, training_times=5)\n",
    "basic.train_model()\n",
    "basic.print_training_information()\n",
    "basic.evaluate_model()"
   ]
  }
 ],
 "metadata": {
  "kernelspec": {
   "display_name": "Python 3",
   "language": "python",
   "name": "python3"
  },
  "language_info": {
   "codemirror_mode": {
    "name": "ipython",
    "version": 3
   },
   "file_extension": ".py",
   "mimetype": "text/x-python",
   "name": "python",
   "nbconvert_exporter": "python",
   "pygments_lexer": "ipython3",
   "version": "3.11.9"
  }
 },
 "nbformat": 4,
 "nbformat_minor": 2
}
