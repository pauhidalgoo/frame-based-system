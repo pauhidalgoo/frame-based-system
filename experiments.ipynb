{
 "cells": [
  {
   "cell_type": "code",
   "execution_count": 1,
   "metadata": {},
   "outputs": [],
   "source": [
    "from intent_recognition import *"
   ]
  },
  {
   "cell_type": "code",
   "execution_count": 2,
   "metadata": {},
   "outputs": [
    {
     "name": "stdout",
     "output_type": "stream",
     "text": [
      "Training model 5/5\n",
      "\n",
      "Average Training Accuracy: 0.9663560509681701\n",
      "Average Training Loss: 0.1378069370985031\n",
      "Average Validation Accuracy: 0.9435555577278137\n",
      "Average Validation Loss: 0.2240919888019562\n",
      "Best Model Validation Accuracy: 0.9522222280502319\n",
      "\n",
      "Evaluating model...\n",
      "28/28 [==============================] - 0s 970us/step - loss: 0.3229 - accuracy: 0.9178\n",
      "Test accuracy: 0.917792797088623\n"
     ]
    }
   ],
   "source": [
    "# EXERCICI 4 BÀSIC\n",
    "\n",
    "hyperparams = {'vocab_size': 500, 'embedding_dim': 768, 'epochs': 5, 'batch_size': 32}\n",
    "\n",
    "model = Sequential()\n",
    "model.add(GlobalMaxPooling1D())  # layer 2\n",
    "model.add(Dense(64, activation=\"relu\"))  # layer 3\n",
    "\n",
    "basic = IntentRecognition(model, hyperparams, training_times=5)\n",
    "basic.train_model()\n",
    "basic.print_training_information()\n",
    "basic.evaluate_model()"
   ]
  }
 ],
 "metadata": {
  "kernelspec": {
   "display_name": "Python 3",
   "language": "python",
   "name": "python3"
  },
  "language_info": {
   "codemirror_mode": {
    "name": "ipython",
    "version": 3
   },
   "file_extension": ".py",
   "mimetype": "text/x-python",
   "name": "python",
   "nbconvert_exporter": "python",
   "pygments_lexer": "ipython3",
   "version": "3.10.6"
  }
 },
 "nbformat": 4,
 "nbformat_minor": 2
}
